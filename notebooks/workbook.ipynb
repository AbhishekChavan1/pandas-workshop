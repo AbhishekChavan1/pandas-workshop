{
 "cells": [
  {
   "cell_type": "markdown",
   "id": "770a499f-fa07-4ca0-8ddd-c50e76eb0599",
   "metadata": {},
   "source": [
    "# Workbook\n",
    "\n",
    "Use this notebook to complete the exercises throughout the workshop.\n",
    "\n",
    "#### Table of Contents\n",
    "- [Section 1 &ndash; Getting Started with Pandas](#Section-1)\n",
    "- [Section 2 &ndash; Data Wrangling](#Section-2)\n",
    "- [Section 3 &ndash; Data Visualization](#Section-3)\n",
    "\n",
    "--- \n",
    "\n",
    "### Section 1\n",
    "\n",
    "#### Exercise 1.1\n",
    "##### Create a DataFrame by reading in the `2019_Yellow_Taxi_Trip_Data.csv` file. Examine the first 5 rows."
   ]
  },
  {
   "cell_type": "code",
   "execution_count": null,
   "id": "aa449dc1-4c0b-47ce-bba7-061568590d97",
   "metadata": {},
   "outputs": [],
   "source": []
  },
  {
   "cell_type": "markdown",
   "id": "4d52808c-cb6b-4a2b-a183-5c886bbe6b85",
   "metadata": {},
   "source": [
    "#### Exercise 1.2\n",
    "##### Find the dimensions (number of rows and number of columns) in the data."
   ]
  },
  {
   "cell_type": "code",
   "execution_count": null,
   "id": "f4e7275f-4009-4cc9-911d-da92efb79fdd",
   "metadata": {},
   "outputs": [],
   "source": []
  },
  {
   "cell_type": "markdown",
   "id": "b4e9aa37-a244-4e4c-8caa-9d13ca8c7f71",
   "metadata": {
    "tags": []
   },
   "source": [
    "#### Exercise 1.3\n",
    "##### Using the data in the `2019_Yellow_Taxi_Trip_Data.csv` file, calculate summary statistics for the `fare_amount`, `tip_amount`, `tolls_amount`, and `total_amount` columns."
   ]
  },
  {
   "cell_type": "code",
   "execution_count": null,
   "id": "8577fc58-fd5f-412b-aa2e-50c541c5778b",
   "metadata": {},
   "outputs": [],
   "source": []
  },
  {
   "cell_type": "markdown",
   "id": "4fbf547b-a273-4327-b17a-2c10a58b96bc",
   "metadata": {
    "tags": []
   },
   "source": [
    "#### Exercise 1.4\n",
    "##### Isolate the `fare_amount`, `tip_amount`, `tolls_amount`, and `total_amount` for the longest trip by distance (`trip_distance`)."
   ]
  },
  {
   "cell_type": "code",
   "execution_count": null,
   "id": "dc75ecfc-19b5-438b-b078-eaf7cfc3e7f3",
   "metadata": {},
   "outputs": [],
   "source": []
  },
  {
   "cell_type": "markdown",
   "id": "b9aaeed4-127a-412b-93f6-b179e4ba85f0",
   "metadata": {},
   "source": [
    "---\n",
    "\n",
    "### Section 2\n",
    "\n",
    "#### Exercise 2.1\n",
    "##### "
   ]
  },
  {
   "cell_type": "code",
   "execution_count": null,
   "id": "0d137343-300c-46c2-ac86-b467c1296cee",
   "metadata": {},
   "outputs": [],
   "source": []
  }
 ],
 "metadata": {
  "kernelspec": {
   "display_name": "Python 3 (ipykernel)",
   "language": "python",
   "name": "python3"
  },
  "language_info": {
   "codemirror_mode": {
    "name": "ipython",
    "version": 3
   },
   "file_extension": ".py",
   "mimetype": "text/x-python",
   "name": "python",
   "nbconvert_exporter": "python",
   "pygments_lexer": "ipython3",
   "version": "3.10.2"
  }
 },
 "nbformat": 4,
 "nbformat_minor": 5
}
