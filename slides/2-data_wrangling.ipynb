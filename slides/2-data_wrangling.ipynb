{
 "cells": [
  {
   "cell_type": "markdown",
   "id": "a0745604-3c71-4c7f-8b5c-b6cc0ecec3c3",
   "metadata": {
    "slideshow": {
     "slide_type": "slide"
    },
    "tags": []
   },
   "source": [
    "# Section 2: Data Wrangling\n",
    "\n",
    "To prepare our data for analysis, we need to perform data wrangling. In this section, we will learn how to clean and reformat data (e.g. renaming columns, fixing data type mismatches), restructure/reshape it, and enrich it (e.g. discretizing columns, calculating aggregations, combining data sources).\n",
    "\n",
    "<div style=\"text-align: center;\">\n",
    "<img width=\"300\" src=\"https://images.ctfassets.net/cnu0m8re1exe/I3pMkGv5UGGmNN1tB4XG0/73edfcdbe6e1637e5e79e0c3a2d25fbb/panda.jpg?fm=jpg&fl=progressive&w=660&h=433&fit=fill\" alt=\"Panda with bamboo\">\n",
    "    <div><small><em><a href=\"https://www.discovermagazine.com/planet-earth/how-pandas-survive-on-a-diet-of-only-bamboo\">Source</a></em></small></div>\n",
    "</div>"
   ]
  },
  {
   "cell_type": "markdown",
   "id": "3cfd9085-0758-475d-846d-a2607bdc478c",
   "metadata": {
    "slideshow": {
     "slide_type": "slide"
    },
    "tags": []
   },
   "source": [
    "## Learning Path\n",
    "\n",
    "1. **Data cleaning**\n",
    "2. Working with the index\n",
    "3. Reshaping data\n",
    "4. Aggregations and grouping\n",
    "5. Time series"
   ]
  },
  {
   "cell_type": "markdown",
   "id": "9848c0e0-b1df-4273-b37a-c155f69db4e0",
   "metadata": {
    "slideshow": {
     "slide_type": "slide"
    },
    "tags": []
   },
   "source": [
    "## Data cleaning\n",
    "\n",
    "In this section, we will take a look at creating, renaming, and dropping columns; type conversion; and sorting &ndash; all of which make our analysis easier. We will be working with the 2019 Yellow Taxi Trip Data provided by NYC Open Data."
   ]
  },
  {
   "cell_type": "code",
   "execution_count": 1,
   "id": "ede5b9c9-32b8-47b7-a120-1ed969c147a3",
   "metadata": {},
   "outputs": [
    {
     "data": {
      "text/html": [
       "<div>\n",
       "<style scoped>\n",
       "    .dataframe tbody tr th:only-of-type {\n",
       "        vertical-align: middle;\n",
       "    }\n",
       "\n",
       "    .dataframe tbody tr th {\n",
       "        vertical-align: top;\n",
       "    }\n",
       "\n",
       "    .dataframe thead th {\n",
       "        text-align: right;\n",
       "    }\n",
       "</style>\n",
       "<table border=\"1\" class=\"dataframe\">\n",
       "  <thead>\n",
       "    <tr style=\"text-align: right;\">\n",
       "      <th></th>\n",
       "      <th>vendorid</th>\n",
       "      <th>tpep_pickup_datetime</th>\n",
       "      <th>tpep_dropoff_datetime</th>\n",
       "      <th>passenger_count</th>\n",
       "      <th>trip_distance</th>\n",
       "      <th>ratecodeid</th>\n",
       "      <th>store_and_fwd_flag</th>\n",
       "      <th>pulocationid</th>\n",
       "      <th>dolocationid</th>\n",
       "      <th>payment_type</th>\n",
       "      <th>fare_amount</th>\n",
       "      <th>extra</th>\n",
       "      <th>mta_tax</th>\n",
       "      <th>tip_amount</th>\n",
       "      <th>tolls_amount</th>\n",
       "      <th>improvement_surcharge</th>\n",
       "      <th>total_amount</th>\n",
       "      <th>congestion_surcharge</th>\n",
       "    </tr>\n",
       "  </thead>\n",
       "  <tbody>\n",
       "    <tr>\n",
       "      <th>0</th>\n",
       "      <td>2</td>\n",
       "      <td>2019-10-23T16:39:42.000</td>\n",
       "      <td>2019-10-23T17:14:10.000</td>\n",
       "      <td>1</td>\n",
       "      <td>7.93</td>\n",
       "      <td>1</td>\n",
       "      <td>N</td>\n",
       "      <td>138</td>\n",
       "      <td>170</td>\n",
       "      <td>1</td>\n",
       "      <td>29.5</td>\n",
       "      <td>1.0</td>\n",
       "      <td>0.5</td>\n",
       "      <td>7.98</td>\n",
       "      <td>6.12</td>\n",
       "      <td>0.3</td>\n",
       "      <td>47.90</td>\n",
       "      <td>2.5</td>\n",
       "    </tr>\n",
       "    <tr>\n",
       "      <th>1</th>\n",
       "      <td>1</td>\n",
       "      <td>2019-10-23T16:32:08.000</td>\n",
       "      <td>2019-10-23T16:45:26.000</td>\n",
       "      <td>1</td>\n",
       "      <td>2.00</td>\n",
       "      <td>1</td>\n",
       "      <td>N</td>\n",
       "      <td>11</td>\n",
       "      <td>26</td>\n",
       "      <td>1</td>\n",
       "      <td>10.5</td>\n",
       "      <td>1.0</td>\n",
       "      <td>0.5</td>\n",
       "      <td>0.00</td>\n",
       "      <td>0.00</td>\n",
       "      <td>0.3</td>\n",
       "      <td>12.30</td>\n",
       "      <td>0.0</td>\n",
       "    </tr>\n",
       "    <tr>\n",
       "      <th>2</th>\n",
       "      <td>2</td>\n",
       "      <td>2019-10-23T16:08:44.000</td>\n",
       "      <td>2019-10-23T16:21:11.000</td>\n",
       "      <td>1</td>\n",
       "      <td>1.36</td>\n",
       "      <td>1</td>\n",
       "      <td>N</td>\n",
       "      <td>163</td>\n",
       "      <td>162</td>\n",
       "      <td>1</td>\n",
       "      <td>9.5</td>\n",
       "      <td>1.0</td>\n",
       "      <td>0.5</td>\n",
       "      <td>2.00</td>\n",
       "      <td>0.00</td>\n",
       "      <td>0.3</td>\n",
       "      <td>15.80</td>\n",
       "      <td>2.5</td>\n",
       "    </tr>\n",
       "    <tr>\n",
       "      <th>3</th>\n",
       "      <td>2</td>\n",
       "      <td>2019-10-23T16:22:44.000</td>\n",
       "      <td>2019-10-23T16:43:26.000</td>\n",
       "      <td>1</td>\n",
       "      <td>1.00</td>\n",
       "      <td>1</td>\n",
       "      <td>N</td>\n",
       "      <td>170</td>\n",
       "      <td>163</td>\n",
       "      <td>1</td>\n",
       "      <td>13.0</td>\n",
       "      <td>1.0</td>\n",
       "      <td>0.5</td>\n",
       "      <td>4.32</td>\n",
       "      <td>0.00</td>\n",
       "      <td>0.3</td>\n",
       "      <td>21.62</td>\n",
       "      <td>2.5</td>\n",
       "    </tr>\n",
       "    <tr>\n",
       "      <th>4</th>\n",
       "      <td>2</td>\n",
       "      <td>2019-10-23T16:45:11.000</td>\n",
       "      <td>2019-10-23T16:58:49.000</td>\n",
       "      <td>1</td>\n",
       "      <td>1.96</td>\n",
       "      <td>1</td>\n",
       "      <td>N</td>\n",
       "      <td>163</td>\n",
       "      <td>236</td>\n",
       "      <td>1</td>\n",
       "      <td>10.5</td>\n",
       "      <td>1.0</td>\n",
       "      <td>0.5</td>\n",
       "      <td>0.50</td>\n",
       "      <td>0.00</td>\n",
       "      <td>0.3</td>\n",
       "      <td>15.30</td>\n",
       "      <td>2.5</td>\n",
       "    </tr>\n",
       "  </tbody>\n",
       "</table>\n",
       "</div>"
      ],
      "text/plain": [
       "   vendorid     tpep_pickup_datetime    tpep_dropoff_datetime  \\\n",
       "0         2  2019-10-23T16:39:42.000  2019-10-23T17:14:10.000   \n",
       "1         1  2019-10-23T16:32:08.000  2019-10-23T16:45:26.000   \n",
       "2         2  2019-10-23T16:08:44.000  2019-10-23T16:21:11.000   \n",
       "3         2  2019-10-23T16:22:44.000  2019-10-23T16:43:26.000   \n",
       "4         2  2019-10-23T16:45:11.000  2019-10-23T16:58:49.000   \n",
       "\n",
       "   passenger_count  trip_distance  ratecodeid store_and_fwd_flag  \\\n",
       "0                1           7.93           1                  N   \n",
       "1                1           2.00           1                  N   \n",
       "2                1           1.36           1                  N   \n",
       "3                1           1.00           1                  N   \n",
       "4                1           1.96           1                  N   \n",
       "\n",
       "   pulocationid  dolocationid  payment_type  fare_amount  extra  mta_tax  \\\n",
       "0           138           170             1         29.5    1.0      0.5   \n",
       "1            11            26             1         10.5    1.0      0.5   \n",
       "2           163           162             1          9.5    1.0      0.5   \n",
       "3           170           163             1         13.0    1.0      0.5   \n",
       "4           163           236             1         10.5    1.0      0.5   \n",
       "\n",
       "   tip_amount  tolls_amount  improvement_surcharge  total_amount  \\\n",
       "0        7.98          6.12                    0.3         47.90   \n",
       "1        0.00          0.00                    0.3         12.30   \n",
       "2        2.00          0.00                    0.3         15.80   \n",
       "3        4.32          0.00                    0.3         21.62   \n",
       "4        0.50          0.00                    0.3         15.30   \n",
       "\n",
       "   congestion_surcharge  \n",
       "0                   2.5  \n",
       "1                   0.0  \n",
       "2                   2.5  \n",
       "3                   2.5  \n",
       "4                   2.5  "
      ]
     },
     "execution_count": 1,
     "metadata": {},
     "output_type": "execute_result"
    }
   ],
   "source": [
    "import pandas as pd\n",
    "\n",
    "taxis = pd.read_csv('../data/2019_Yellow_Taxi_Trip_Data.csv')\n",
    "taxis.head()"
   ]
  },
  {
   "cell_type": "markdown",
   "id": "3dd3c1fe-19e4-4986-9feb-462d8e6068d6",
   "metadata": {},
   "source": [
    "*Source: [NYC Open Data](https://data.cityofnewyork.us/Transportation/2019-Yellow-Taxi-Trip-Data/2upf-qytp) collected via [SODA](https://dev.socrata.com/foundry/data.cityofnewyork.us/2upf-qytp).*"
   ]
  },
  {
   "cell_type": "markdown",
   "id": "d08f2fdb-87b2-4664-a295-84ce81617c7f",
   "metadata": {
    "slideshow": {
     "slide_type": "subslide"
    },
    "tags": []
   },
   "source": [
    "### Dropping columns\n",
    "Let's start by dropping the ID columns and the `store_and_fwd_flag` column, which we won't be using."
   ]
  },
  {
   "cell_type": "code",
   "execution_count": 2,
   "id": "0966f1df-b5c2-4383-aedb-f1d03b2be5d1",
   "metadata": {
    "slideshow": {
     "slide_type": "fragment"
    },
    "tags": []
   },
   "outputs": [
    {
     "data": {
      "text/plain": [
       "Index(['vendorid', 'ratecodeid', 'store_and_fwd_flag', 'pulocationid',\n",
       "       'dolocationid'],\n",
       "      dtype='object')"
      ]
     },
     "execution_count": 2,
     "metadata": {},
     "output_type": "execute_result"
    }
   ],
   "source": [
    "mask = taxis.columns.str.contains('id$|store_and_fwd_flag', regex=True)\n",
    "columns_to_drop = taxis.columns[mask]\n",
    "columns_to_drop"
   ]
  },
  {
   "cell_type": "code",
   "execution_count": 3,
   "id": "6b7cd6d9-a7fb-4be0-9d34-1dd57ddca9c0",
   "metadata": {
    "slideshow": {
     "slide_type": "fragment"
    },
    "tags": []
   },
   "outputs": [
    {
     "data": {
      "text/html": [
       "<div>\n",
       "<style scoped>\n",
       "    .dataframe tbody tr th:only-of-type {\n",
       "        vertical-align: middle;\n",
       "    }\n",
       "\n",
       "    .dataframe tbody tr th {\n",
       "        vertical-align: top;\n",
       "    }\n",
       "\n",
       "    .dataframe thead th {\n",
       "        text-align: right;\n",
       "    }\n",
       "</style>\n",
       "<table border=\"1\" class=\"dataframe\">\n",
       "  <thead>\n",
       "    <tr style=\"text-align: right;\">\n",
       "      <th></th>\n",
       "      <th>tpep_pickup_datetime</th>\n",
       "      <th>tpep_dropoff_datetime</th>\n",
       "      <th>passenger_count</th>\n",
       "      <th>trip_distance</th>\n",
       "      <th>payment_type</th>\n",
       "      <th>fare_amount</th>\n",
       "      <th>extra</th>\n",
       "      <th>mta_tax</th>\n",
       "      <th>tip_amount</th>\n",
       "      <th>tolls_amount</th>\n",
       "      <th>improvement_surcharge</th>\n",
       "      <th>total_amount</th>\n",
       "      <th>congestion_surcharge</th>\n",
       "    </tr>\n",
       "  </thead>\n",
       "  <tbody>\n",
       "    <tr>\n",
       "      <th>0</th>\n",
       "      <td>2019-10-23T16:39:42.000</td>\n",
       "      <td>2019-10-23T17:14:10.000</td>\n",
       "      <td>1</td>\n",
       "      <td>7.93</td>\n",
       "      <td>1</td>\n",
       "      <td>29.5</td>\n",
       "      <td>1.0</td>\n",
       "      <td>0.5</td>\n",
       "      <td>7.98</td>\n",
       "      <td>6.12</td>\n",
       "      <td>0.3</td>\n",
       "      <td>47.90</td>\n",
       "      <td>2.5</td>\n",
       "    </tr>\n",
       "    <tr>\n",
       "      <th>1</th>\n",
       "      <td>2019-10-23T16:32:08.000</td>\n",
       "      <td>2019-10-23T16:45:26.000</td>\n",
       "      <td>1</td>\n",
       "      <td>2.00</td>\n",
       "      <td>1</td>\n",
       "      <td>10.5</td>\n",
       "      <td>1.0</td>\n",
       "      <td>0.5</td>\n",
       "      <td>0.00</td>\n",
       "      <td>0.00</td>\n",
       "      <td>0.3</td>\n",
       "      <td>12.30</td>\n",
       "      <td>0.0</td>\n",
       "    </tr>\n",
       "    <tr>\n",
       "      <th>2</th>\n",
       "      <td>2019-10-23T16:08:44.000</td>\n",
       "      <td>2019-10-23T16:21:11.000</td>\n",
       "      <td>1</td>\n",
       "      <td>1.36</td>\n",
       "      <td>1</td>\n",
       "      <td>9.5</td>\n",
       "      <td>1.0</td>\n",
       "      <td>0.5</td>\n",
       "      <td>2.00</td>\n",
       "      <td>0.00</td>\n",
       "      <td>0.3</td>\n",
       "      <td>15.80</td>\n",
       "      <td>2.5</td>\n",
       "    </tr>\n",
       "    <tr>\n",
       "      <th>3</th>\n",
       "      <td>2019-10-23T16:22:44.000</td>\n",
       "      <td>2019-10-23T16:43:26.000</td>\n",
       "      <td>1</td>\n",
       "      <td>1.00</td>\n",
       "      <td>1</td>\n",
       "      <td>13.0</td>\n",
       "      <td>1.0</td>\n",
       "      <td>0.5</td>\n",
       "      <td>4.32</td>\n",
       "      <td>0.00</td>\n",
       "      <td>0.3</td>\n",
       "      <td>21.62</td>\n",
       "      <td>2.5</td>\n",
       "    </tr>\n",
       "    <tr>\n",
       "      <th>4</th>\n",
       "      <td>2019-10-23T16:45:11.000</td>\n",
       "      <td>2019-10-23T16:58:49.000</td>\n",
       "      <td>1</td>\n",
       "      <td>1.96</td>\n",
       "      <td>1</td>\n",
       "      <td>10.5</td>\n",
       "      <td>1.0</td>\n",
       "      <td>0.5</td>\n",
       "      <td>0.50</td>\n",
       "      <td>0.00</td>\n",
       "      <td>0.3</td>\n",
       "      <td>15.30</td>\n",
       "      <td>2.5</td>\n",
       "    </tr>\n",
       "  </tbody>\n",
       "</table>\n",
       "</div>"
      ],
      "text/plain": [
       "      tpep_pickup_datetime    tpep_dropoff_datetime  passenger_count  \\\n",
       "0  2019-10-23T16:39:42.000  2019-10-23T17:14:10.000                1   \n",
       "1  2019-10-23T16:32:08.000  2019-10-23T16:45:26.000                1   \n",
       "2  2019-10-23T16:08:44.000  2019-10-23T16:21:11.000                1   \n",
       "3  2019-10-23T16:22:44.000  2019-10-23T16:43:26.000                1   \n",
       "4  2019-10-23T16:45:11.000  2019-10-23T16:58:49.000                1   \n",
       "\n",
       "   trip_distance  payment_type  fare_amount  extra  mta_tax  tip_amount  \\\n",
       "0           7.93             1         29.5    1.0      0.5        7.98   \n",
       "1           2.00             1         10.5    1.0      0.5        0.00   \n",
       "2           1.36             1          9.5    1.0      0.5        2.00   \n",
       "3           1.00             1         13.0    1.0      0.5        4.32   \n",
       "4           1.96             1         10.5    1.0      0.5        0.50   \n",
       "\n",
       "   tolls_amount  improvement_surcharge  total_amount  congestion_surcharge  \n",
       "0          6.12                    0.3         47.90                   2.5  \n",
       "1          0.00                    0.3         12.30                   0.0  \n",
       "2          0.00                    0.3         15.80                   2.5  \n",
       "3          0.00                    0.3         21.62                   2.5  \n",
       "4          0.00                    0.3         15.30                   2.5  "
      ]
     },
     "execution_count": 3,
     "metadata": {},
     "output_type": "execute_result"
    }
   ],
   "source": [
    "taxis = taxis.drop(columns=columns_to_drop)\n",
    "taxis.head()"
   ]
  },
  {
   "cell_type": "markdown",
   "id": "db7f5fca-b5cc-477c-bbf2-3c2cbcc2ae04",
   "metadata": {
    "slideshow": {
     "slide_type": "fragment"
    },
    "tags": []
   },
   "source": [
    "*Tip: Another way to do this is to select the columns we want to keep: `taxis.loc[:,~mask]`.*"
   ]
  },
  {
   "cell_type": "markdown",
   "id": "ad7cdd18-ef14-4a67-a4ad-8a1d8015cbb9",
   "metadata": {
    "slideshow": {
     "slide_type": "subslide"
    },
    "tags": []
   },
   "source": [
    "### Renaming columns\n",
    "\n",
    "Next, let's rename the datetime columns:"
   ]
  },
  {
   "cell_type": "code",
   "execution_count": 4,
   "id": "b3dbfd72-0d37-4fce-b6c1-a3178afc59b1",
   "metadata": {},
   "outputs": [
    {
     "data": {
      "text/html": [
       "<div>\n",
       "<style scoped>\n",
       "    .dataframe tbody tr th:only-of-type {\n",
       "        vertical-align: middle;\n",
       "    }\n",
       "\n",
       "    .dataframe tbody tr th {\n",
       "        vertical-align: top;\n",
       "    }\n",
       "\n",
       "    .dataframe thead th {\n",
       "        text-align: right;\n",
       "    }\n",
       "</style>\n",
       "<table border=\"1\" class=\"dataframe\">\n",
       "  <thead>\n",
       "    <tr style=\"text-align: right;\">\n",
       "      <th></th>\n",
       "      <th>pickup</th>\n",
       "      <th>dropoff</th>\n",
       "      <th>passenger_count</th>\n",
       "      <th>trip_distance</th>\n",
       "      <th>payment_type</th>\n",
       "      <th>fare_amount</th>\n",
       "      <th>extra</th>\n",
       "      <th>mta_tax</th>\n",
       "      <th>tip_amount</th>\n",
       "      <th>tolls_amount</th>\n",
       "      <th>improvement_surcharge</th>\n",
       "      <th>total_amount</th>\n",
       "      <th>congestion_surcharge</th>\n",
       "    </tr>\n",
       "  </thead>\n",
       "  <tbody>\n",
       "    <tr>\n",
       "      <th>0</th>\n",
       "      <td>2019-10-23T16:39:42.000</td>\n",
       "      <td>2019-10-23T17:14:10.000</td>\n",
       "      <td>1</td>\n",
       "      <td>7.93</td>\n",
       "      <td>1</td>\n",
       "      <td>29.5</td>\n",
       "      <td>1.0</td>\n",
       "      <td>0.5</td>\n",
       "      <td>7.98</td>\n",
       "      <td>6.12</td>\n",
       "      <td>0.3</td>\n",
       "      <td>47.90</td>\n",
       "      <td>2.5</td>\n",
       "    </tr>\n",
       "    <tr>\n",
       "      <th>1</th>\n",
       "      <td>2019-10-23T16:32:08.000</td>\n",
       "      <td>2019-10-23T16:45:26.000</td>\n",
       "      <td>1</td>\n",
       "      <td>2.00</td>\n",
       "      <td>1</td>\n",
       "      <td>10.5</td>\n",
       "      <td>1.0</td>\n",
       "      <td>0.5</td>\n",
       "      <td>0.00</td>\n",
       "      <td>0.00</td>\n",
       "      <td>0.3</td>\n",
       "      <td>12.30</td>\n",
       "      <td>0.0</td>\n",
       "    </tr>\n",
       "    <tr>\n",
       "      <th>2</th>\n",
       "      <td>2019-10-23T16:08:44.000</td>\n",
       "      <td>2019-10-23T16:21:11.000</td>\n",
       "      <td>1</td>\n",
       "      <td>1.36</td>\n",
       "      <td>1</td>\n",
       "      <td>9.5</td>\n",
       "      <td>1.0</td>\n",
       "      <td>0.5</td>\n",
       "      <td>2.00</td>\n",
       "      <td>0.00</td>\n",
       "      <td>0.3</td>\n",
       "      <td>15.80</td>\n",
       "      <td>2.5</td>\n",
       "    </tr>\n",
       "    <tr>\n",
       "      <th>3</th>\n",
       "      <td>2019-10-23T16:22:44.000</td>\n",
       "      <td>2019-10-23T16:43:26.000</td>\n",
       "      <td>1</td>\n",
       "      <td>1.00</td>\n",
       "      <td>1</td>\n",
       "      <td>13.0</td>\n",
       "      <td>1.0</td>\n",
       "      <td>0.5</td>\n",
       "      <td>4.32</td>\n",
       "      <td>0.00</td>\n",
       "      <td>0.3</td>\n",
       "      <td>21.62</td>\n",
       "      <td>2.5</td>\n",
       "    </tr>\n",
       "    <tr>\n",
       "      <th>4</th>\n",
       "      <td>2019-10-23T16:45:11.000</td>\n",
       "      <td>2019-10-23T16:58:49.000</td>\n",
       "      <td>1</td>\n",
       "      <td>1.96</td>\n",
       "      <td>1</td>\n",
       "      <td>10.5</td>\n",
       "      <td>1.0</td>\n",
       "      <td>0.5</td>\n",
       "      <td>0.50</td>\n",
       "      <td>0.00</td>\n",
       "      <td>0.3</td>\n",
       "      <td>15.30</td>\n",
       "      <td>2.5</td>\n",
       "    </tr>\n",
       "  </tbody>\n",
       "</table>\n",
       "</div>"
      ],
      "text/plain": [
       "                    pickup                  dropoff  passenger_count  \\\n",
       "0  2019-10-23T16:39:42.000  2019-10-23T17:14:10.000                1   \n",
       "1  2019-10-23T16:32:08.000  2019-10-23T16:45:26.000                1   \n",
       "2  2019-10-23T16:08:44.000  2019-10-23T16:21:11.000                1   \n",
       "3  2019-10-23T16:22:44.000  2019-10-23T16:43:26.000                1   \n",
       "4  2019-10-23T16:45:11.000  2019-10-23T16:58:49.000                1   \n",
       "\n",
       "   trip_distance  payment_type  fare_amount  extra  mta_tax  tip_amount  \\\n",
       "0           7.93             1         29.5    1.0      0.5        7.98   \n",
       "1           2.00             1         10.5    1.0      0.5        0.00   \n",
       "2           1.36             1          9.5    1.0      0.5        2.00   \n",
       "3           1.00             1         13.0    1.0      0.5        4.32   \n",
       "4           1.96             1         10.5    1.0      0.5        0.50   \n",
       "\n",
       "   tolls_amount  improvement_surcharge  total_amount  congestion_surcharge  \n",
       "0          6.12                    0.3         47.90                   2.5  \n",
       "1          0.00                    0.3         12.30                   0.0  \n",
       "2          0.00                    0.3         15.80                   2.5  \n",
       "3          0.00                    0.3         21.62                   2.5  \n",
       "4          0.00                    0.3         15.30                   2.5  "
      ]
     },
     "execution_count": 4,
     "metadata": {},
     "output_type": "execute_result"
    }
   ],
   "source": [
    "taxis.rename(\n",
    "    columns={\n",
    "        'tpep_pickup_datetime': 'pickup', \n",
    "        'tpep_dropoff_datetime': 'dropoff'\n",
    "    },\n",
    "    inplace=True\n",
    ")\n",
    "taxis.head()"
   ]
  },
  {
   "cell_type": "markdown",
   "id": "f6a822aa-c9cc-474e-afff-057d456f6fc3",
   "metadata": {
    "slideshow": {
     "slide_type": "fragment"
    },
    "tags": []
   },
   "source": [
    "**Important**: This operation was performed in-place &ndash; be careful with in-place operations."
   ]
  },
  {
   "cell_type": "markdown",
   "id": "0750fd20-a823-4eed-961c-d3f0cf9a18aa",
   "metadata": {
    "slideshow": {
     "slide_type": "subslide"
    },
    "tags": []
   },
   "source": [
    "### Type conversion\n",
    "\n",
    "Notice anything off with the data types?"
   ]
  },
  {
   "cell_type": "code",
   "execution_count": 5,
   "id": "4654ced7-f1aa-4be8-ba67-d3ce7a4d3a84",
   "metadata": {},
   "outputs": [
    {
     "data": {
      "text/plain": [
       "pickup                    object\n",
       "dropoff                   object\n",
       "passenger_count            int64\n",
       "trip_distance            float64\n",
       "payment_type               int64\n",
       "fare_amount              float64\n",
       "extra                    float64\n",
       "mta_tax                  float64\n",
       "tip_amount               float64\n",
       "tolls_amount             float64\n",
       "improvement_surcharge    float64\n",
       "total_amount             float64\n",
       "congestion_surcharge     float64\n",
       "dtype: object"
      ]
     },
     "execution_count": 5,
     "metadata": {},
     "output_type": "execute_result"
    }
   ],
   "source": [
    "taxis.dtypes"
   ]
  },
  {
   "cell_type": "markdown",
   "id": "d847ee9a-93b0-4ae9-a202-2ff99fbd0561",
   "metadata": {
    "slideshow": {
     "slide_type": "subslide"
    },
    "tags": []
   },
   "source": [
    "Both `pickup` and `dropoff` should be stored as datetimes. Let's fix this:"
   ]
  },
  {
   "cell_type": "code",
   "execution_count": 6,
   "id": "d17a0e74-52fc-47ff-b28e-b594e3ce01c2",
   "metadata": {},
   "outputs": [
    {
     "data": {
      "text/plain": [
       "pickup                   datetime64[ns]\n",
       "dropoff                  datetime64[ns]\n",
       "passenger_count                   int64\n",
       "trip_distance                   float64\n",
       "payment_type                      int64\n",
       "fare_amount                     float64\n",
       "extra                           float64\n",
       "mta_tax                         float64\n",
       "tip_amount                      float64\n",
       "tolls_amount                    float64\n",
       "improvement_surcharge           float64\n",
       "total_amount                    float64\n",
       "congestion_surcharge            float64\n",
       "dtype: object"
      ]
     },
     "execution_count": 6,
     "metadata": {},
     "output_type": "execute_result"
    }
   ],
   "source": [
    "taxis.loc[:, ['pickup', 'dropoff']] = \\\n",
    "    taxis.loc[:, ['pickup', 'dropoff']].apply(pd.to_datetime)\n",
    "taxis.dtypes"
   ]
  },
  {
   "cell_type": "markdown",
   "id": "01779303-7f6d-49c7-8a7a-640cfdff2251",
   "metadata": {},
   "source": [
    "*Tip: There are other ways to perform type conversion. For numeric values, we can use the `pd.to_numeric()` function, and we will see the `astype()` method, which is a more generic method, a little later.*"
   ]
  },
  {
   "cell_type": "markdown",
   "id": "989cfa03-5fae-4a9a-82e3-4153ad3f2c27",
   "metadata": {
    "slideshow": {
     "slide_type": "subslide"
    },
    "tags": []
   },
   "source": [
    "### Creating new columns\n",
    "\n",
    "Let's calculate the following for each row:\n",
    "\n",
    "1. elapsed time of the trip\n",
    "2. the tip percentage\n",
    "3. the total taxes, tolls, fees, and surcharges\n",
    "4. the average speed of the taxi"
   ]
  },
  {
   "cell_type": "code",
   "execution_count": 7,
   "id": "b95a6701-7070-4525-95f1-44d02b847d8f",
   "metadata": {
    "slideshow": {
     "slide_type": "fragment"
    },
    "tags": []
   },
   "outputs": [],
   "source": [
    "taxis = taxis.assign(\n",
    "    elapsed_time=lambda x: x.dropoff - x.pickup, # 1\n",
    "    cost_before_tip=lambda x: x.total_amount - x.tip_amount,\n",
    "    tip_pct=lambda x: x.tip_amount / x.cost_before_tip, # 2\n",
    "    fees=lambda x: x.cost_before_tip - x.fare_amount, # 3\n",
    "    avg_speed=lambda x: x.trip_distance.div(\n",
    "        x.elapsed_time.dt.total_seconds() / 60 / 60\n",
    "    ) # 4\n",
    ")"
   ]
  },
  {
   "cell_type": "markdown",
   "id": "6c87ad15-a398-46a3-b0d6-d50312f9e5c3",
   "metadata": {},
   "source": [
    "*Tip: New to `lambda` functions? These small, anonymous functions can receive multiple arguments, but can only contain one expression (the return value). You will see these a lot in pandas code. Read more about them [here](https://realpython.com/python-lambda/).*"
   ]
  },
  {
   "cell_type": "markdown",
   "id": "91d1480f-22ca-4092-9f9b-ef0b8fe92226",
   "metadata": {
    "slideshow": {
     "slide_type": "subslide"
    },
    "tags": []
   },
   "source": [
    "Our new columns get added to the right:"
   ]
  },
  {
   "cell_type": "code",
   "execution_count": 8,
   "id": "80c0d81d-7d8a-4ecf-9410-37fc2a5c7221",
   "metadata": {},
   "outputs": [
    {
     "data": {
      "text/html": [
       "<div>\n",
       "<style scoped>\n",
       "    .dataframe tbody tr th:only-of-type {\n",
       "        vertical-align: middle;\n",
       "    }\n",
       "\n",
       "    .dataframe tbody tr th {\n",
       "        vertical-align: top;\n",
       "    }\n",
       "\n",
       "    .dataframe thead th {\n",
       "        text-align: right;\n",
       "    }\n",
       "</style>\n",
       "<table border=\"1\" class=\"dataframe\">\n",
       "  <thead>\n",
       "    <tr style=\"text-align: right;\">\n",
       "      <th></th>\n",
       "      <th>pickup</th>\n",
       "      <th>dropoff</th>\n",
       "      <th>passenger_count</th>\n",
       "      <th>trip_distance</th>\n",
       "      <th>payment_type</th>\n",
       "      <th>fare_amount</th>\n",
       "      <th>extra</th>\n",
       "      <th>mta_tax</th>\n",
       "      <th>tip_amount</th>\n",
       "      <th>tolls_amount</th>\n",
       "      <th>improvement_surcharge</th>\n",
       "      <th>total_amount</th>\n",
       "      <th>congestion_surcharge</th>\n",
       "      <th>elapsed_time</th>\n",
       "      <th>cost_before_tip</th>\n",
       "      <th>tip_pct</th>\n",
       "      <th>fees</th>\n",
       "      <th>avg_speed</th>\n",
       "    </tr>\n",
       "  </thead>\n",
       "  <tbody>\n",
       "    <tr>\n",
       "      <th>0</th>\n",
       "      <td>2019-10-23 16:39:42</td>\n",
       "      <td>2019-10-23 17:14:10</td>\n",
       "      <td>1</td>\n",
       "      <td>7.93</td>\n",
       "      <td>1</td>\n",
       "      <td>29.5</td>\n",
       "      <td>1.0</td>\n",
       "      <td>0.5</td>\n",
       "      <td>7.98</td>\n",
       "      <td>6.12</td>\n",
       "      <td>0.3</td>\n",
       "      <td>47.9</td>\n",
       "      <td>2.5</td>\n",
       "      <td>0 days 00:34:28</td>\n",
       "      <td>39.92</td>\n",
       "      <td>0.1999</td>\n",
       "      <td>10.42</td>\n",
       "      <td>13.804642</td>\n",
       "    </tr>\n",
       "    <tr>\n",
       "      <th>1</th>\n",
       "      <td>2019-10-23 16:32:08</td>\n",
       "      <td>2019-10-23 16:45:26</td>\n",
       "      <td>1</td>\n",
       "      <td>2.00</td>\n",
       "      <td>1</td>\n",
       "      <td>10.5</td>\n",
       "      <td>1.0</td>\n",
       "      <td>0.5</td>\n",
       "      <td>0.00</td>\n",
       "      <td>0.00</td>\n",
       "      <td>0.3</td>\n",
       "      <td>12.3</td>\n",
       "      <td>0.0</td>\n",
       "      <td>0 days 00:13:18</td>\n",
       "      <td>12.30</td>\n",
       "      <td>0.0000</td>\n",
       "      <td>1.80</td>\n",
       "      <td>9.022556</td>\n",
       "    </tr>\n",
       "  </tbody>\n",
       "</table>\n",
       "</div>"
      ],
      "text/plain": [
       "               pickup             dropoff  passenger_count  trip_distance  \\\n",
       "0 2019-10-23 16:39:42 2019-10-23 17:14:10                1           7.93   \n",
       "1 2019-10-23 16:32:08 2019-10-23 16:45:26                1           2.00   \n",
       "\n",
       "   payment_type  fare_amount  extra  mta_tax  tip_amount  tolls_amount  \\\n",
       "0             1         29.5    1.0      0.5        7.98          6.12   \n",
       "1             1         10.5    1.0      0.5        0.00          0.00   \n",
       "\n",
       "   improvement_surcharge  total_amount  congestion_surcharge    elapsed_time  \\\n",
       "0                    0.3          47.9                   2.5 0 days 00:34:28   \n",
       "1                    0.3          12.3                   0.0 0 days 00:13:18   \n",
       "\n",
       "   cost_before_tip  tip_pct   fees  avg_speed  \n",
       "0            39.92   0.1999  10.42  13.804642  \n",
       "1            12.30   0.0000   1.80   9.022556  "
      ]
     },
     "execution_count": 8,
     "metadata": {},
     "output_type": "execute_result"
    }
   ],
   "source": [
    "taxis.head(2)"
   ]
  },
  {
   "cell_type": "markdown",
   "id": "2753e957-b033-4642-a353-bd369d0672e1",
   "metadata": {
    "slideshow": {
     "slide_type": "fragment"
    },
    "tags": []
   },
   "source": [
    "Some things to note:\n",
    "- We used `lambda` functions to 1) avoid typing `taxis` repeatedly and 2) be able to access the `cost_before_tip` and `elapsed_time` columns in the same method that we create them.\n",
    "- To create a single new column, we can also use `df['new_col'] = <values>`."
   ]
  },
  {
   "cell_type": "markdown",
   "id": "c2d275c1-c1c6-4bd2-a645-4921e2955884",
   "metadata": {
    "slideshow": {
     "slide_type": "subslide"
    },
    "tags": []
   },
   "source": [
    "### Sorting by values\n",
    "\n",
    "We can use the `sort_values()` method to sort based on any number of columns:"
   ]
  },
  {
   "cell_type": "code",
   "execution_count": 9,
   "id": "e22b6e1c-56ae-4800-bedd-bad7006a8a7f",
   "metadata": {},
   "outputs": [
    {
     "data": {
      "text/html": [
       "<div>\n",
       "<style scoped>\n",
       "    .dataframe tbody tr th:only-of-type {\n",
       "        vertical-align: middle;\n",
       "    }\n",
       "\n",
       "    .dataframe tbody tr th {\n",
       "        vertical-align: top;\n",
       "    }\n",
       "\n",
       "    .dataframe thead th {\n",
       "        text-align: right;\n",
       "    }\n",
       "</style>\n",
       "<table border=\"1\" class=\"dataframe\">\n",
       "  <thead>\n",
       "    <tr style=\"text-align: right;\">\n",
       "      <th></th>\n",
       "      <th>pickup</th>\n",
       "      <th>dropoff</th>\n",
       "      <th>passenger_count</th>\n",
       "      <th>trip_distance</th>\n",
       "      <th>payment_type</th>\n",
       "      <th>fare_amount</th>\n",
       "      <th>extra</th>\n",
       "      <th>mta_tax</th>\n",
       "      <th>tip_amount</th>\n",
       "      <th>tolls_amount</th>\n",
       "      <th>improvement_surcharge</th>\n",
       "      <th>total_amount</th>\n",
       "      <th>congestion_surcharge</th>\n",
       "      <th>elapsed_time</th>\n",
       "      <th>cost_before_tip</th>\n",
       "      <th>tip_pct</th>\n",
       "      <th>fees</th>\n",
       "      <th>avg_speed</th>\n",
       "    </tr>\n",
       "  </thead>\n",
       "  <tbody>\n",
       "    <tr>\n",
       "      <th>5997</th>\n",
       "      <td>2019-10-23 15:55:19</td>\n",
       "      <td>2019-10-23 16:08:25</td>\n",
       "      <td>6</td>\n",
       "      <td>1.58</td>\n",
       "      <td>2</td>\n",
       "      <td>10.0</td>\n",
       "      <td>1.0</td>\n",
       "      <td>0.5</td>\n",
       "      <td>0.0</td>\n",
       "      <td>0.0</td>\n",
       "      <td>0.3</td>\n",
       "      <td>14.3</td>\n",
       "      <td>2.5</td>\n",
       "      <td>0 days 00:13:06</td>\n",
       "      <td>14.3</td>\n",
       "      <td>0.000000</td>\n",
       "      <td>4.3</td>\n",
       "      <td>7.236641</td>\n",
       "    </tr>\n",
       "    <tr>\n",
       "      <th>443</th>\n",
       "      <td>2019-10-23 15:56:59</td>\n",
       "      <td>2019-10-23 16:04:33</td>\n",
       "      <td>6</td>\n",
       "      <td>1.46</td>\n",
       "      <td>2</td>\n",
       "      <td>7.5</td>\n",
       "      <td>1.0</td>\n",
       "      <td>0.5</td>\n",
       "      <td>0.0</td>\n",
       "      <td>0.0</td>\n",
       "      <td>0.3</td>\n",
       "      <td>11.8</td>\n",
       "      <td>2.5</td>\n",
       "      <td>0 days 00:07:34</td>\n",
       "      <td>11.8</td>\n",
       "      <td>0.000000</td>\n",
       "      <td>4.3</td>\n",
       "      <td>11.577093</td>\n",
       "    </tr>\n",
       "    <tr>\n",
       "      <th>8722</th>\n",
       "      <td>2019-10-23 15:57:33</td>\n",
       "      <td>2019-10-23 16:03:34</td>\n",
       "      <td>6</td>\n",
       "      <td>0.62</td>\n",
       "      <td>1</td>\n",
       "      <td>5.5</td>\n",
       "      <td>1.0</td>\n",
       "      <td>0.5</td>\n",
       "      <td>0.7</td>\n",
       "      <td>0.0</td>\n",
       "      <td>0.3</td>\n",
       "      <td>10.5</td>\n",
       "      <td>2.5</td>\n",
       "      <td>0 days 00:06:01</td>\n",
       "      <td>9.8</td>\n",
       "      <td>0.071429</td>\n",
       "      <td>4.3</td>\n",
       "      <td>6.182825</td>\n",
       "    </tr>\n",
       "    <tr>\n",
       "      <th>4198</th>\n",
       "      <td>2019-10-23 15:57:38</td>\n",
       "      <td>2019-10-23 16:05:07</td>\n",
       "      <td>6</td>\n",
       "      <td>1.18</td>\n",
       "      <td>1</td>\n",
       "      <td>7.0</td>\n",
       "      <td>1.0</td>\n",
       "      <td>0.5</td>\n",
       "      <td>1.0</td>\n",
       "      <td>0.0</td>\n",
       "      <td>0.3</td>\n",
       "      <td>12.3</td>\n",
       "      <td>2.5</td>\n",
       "      <td>0 days 00:07:29</td>\n",
       "      <td>11.3</td>\n",
       "      <td>0.088496</td>\n",
       "      <td>4.3</td>\n",
       "      <td>9.461024</td>\n",
       "    </tr>\n",
       "    <tr>\n",
       "      <th>8238</th>\n",
       "      <td>2019-10-23 15:58:31</td>\n",
       "      <td>2019-10-23 16:29:29</td>\n",
       "      <td>6</td>\n",
       "      <td>3.23</td>\n",
       "      <td>2</td>\n",
       "      <td>19.5</td>\n",
       "      <td>1.0</td>\n",
       "      <td>0.5</td>\n",
       "      <td>0.0</td>\n",
       "      <td>0.0</td>\n",
       "      <td>0.3</td>\n",
       "      <td>23.8</td>\n",
       "      <td>2.5</td>\n",
       "      <td>0 days 00:30:58</td>\n",
       "      <td>23.8</td>\n",
       "      <td>0.000000</td>\n",
       "      <td>4.3</td>\n",
       "      <td>6.258342</td>\n",
       "    </tr>\n",
       "  </tbody>\n",
       "</table>\n",
       "</div>"
      ],
      "text/plain": [
       "                  pickup             dropoff  passenger_count  trip_distance  \\\n",
       "5997 2019-10-23 15:55:19 2019-10-23 16:08:25                6           1.58   \n",
       "443  2019-10-23 15:56:59 2019-10-23 16:04:33                6           1.46   \n",
       "8722 2019-10-23 15:57:33 2019-10-23 16:03:34                6           0.62   \n",
       "4198 2019-10-23 15:57:38 2019-10-23 16:05:07                6           1.18   \n",
       "8238 2019-10-23 15:58:31 2019-10-23 16:29:29                6           3.23   \n",
       "\n",
       "      payment_type  fare_amount  extra  mta_tax  tip_amount  tolls_amount  \\\n",
       "5997             2         10.0    1.0      0.5         0.0           0.0   \n",
       "443              2          7.5    1.0      0.5         0.0           0.0   \n",
       "8722             1          5.5    1.0      0.5         0.7           0.0   \n",
       "4198             1          7.0    1.0      0.5         1.0           0.0   \n",
       "8238             2         19.5    1.0      0.5         0.0           0.0   \n",
       "\n",
       "      improvement_surcharge  total_amount  congestion_surcharge  \\\n",
       "5997                    0.3          14.3                   2.5   \n",
       "443                     0.3          11.8                   2.5   \n",
       "8722                    0.3          10.5                   2.5   \n",
       "4198                    0.3          12.3                   2.5   \n",
       "8238                    0.3          23.8                   2.5   \n",
       "\n",
       "        elapsed_time  cost_before_tip   tip_pct  fees  avg_speed  \n",
       "5997 0 days 00:13:06             14.3  0.000000   4.3   7.236641  \n",
       "443  0 days 00:07:34             11.8  0.000000   4.3  11.577093  \n",
       "8722 0 days 00:06:01              9.8  0.071429   4.3   6.182825  \n",
       "4198 0 days 00:07:29             11.3  0.088496   4.3   9.461024  \n",
       "8238 0 days 00:30:58             23.8  0.000000   4.3   6.258342  "
      ]
     },
     "execution_count": 9,
     "metadata": {},
     "output_type": "execute_result"
    }
   ],
   "source": [
    "taxis.sort_values(['passenger_count', 'pickup'], ascending=[False, True]).head()"
   ]
  },
  {
   "cell_type": "markdown",
   "id": "61ae6ae1-1a3d-4e50-bade-15126240e2f5",
   "metadata": {
    "slideshow": {
     "slide_type": "subslide"
    },
    "tags": []
   },
   "source": [
    "To pick out the largest/smallest rows, use `nlargest()` / `nsmallest()` instead. Looking at the 3 trips with the longest elapsed time, we see some possible data integrity issues:"
   ]
  },
  {
   "cell_type": "code",
   "execution_count": 10,
   "id": "a76377c8-b3a7-4da4-b763-36bd974fe89e",
   "metadata": {},
   "outputs": [
    {
     "data": {
      "text/html": [
       "<div>\n",
       "<style scoped>\n",
       "    .dataframe tbody tr th:only-of-type {\n",
       "        vertical-align: middle;\n",
       "    }\n",
       "\n",
       "    .dataframe tbody tr th {\n",
       "        vertical-align: top;\n",
       "    }\n",
       "\n",
       "    .dataframe thead th {\n",
       "        text-align: right;\n",
       "    }\n",
       "</style>\n",
       "<table border=\"1\" class=\"dataframe\">\n",
       "  <thead>\n",
       "    <tr style=\"text-align: right;\">\n",
       "      <th></th>\n",
       "      <th>pickup</th>\n",
       "      <th>dropoff</th>\n",
       "      <th>passenger_count</th>\n",
       "      <th>trip_distance</th>\n",
       "      <th>payment_type</th>\n",
       "      <th>fare_amount</th>\n",
       "      <th>extra</th>\n",
       "      <th>mta_tax</th>\n",
       "      <th>tip_amount</th>\n",
       "      <th>tolls_amount</th>\n",
       "      <th>improvement_surcharge</th>\n",
       "      <th>total_amount</th>\n",
       "      <th>congestion_surcharge</th>\n",
       "      <th>elapsed_time</th>\n",
       "      <th>cost_before_tip</th>\n",
       "      <th>tip_pct</th>\n",
       "      <th>fees</th>\n",
       "      <th>avg_speed</th>\n",
       "    </tr>\n",
       "  </thead>\n",
       "  <tbody>\n",
       "    <tr>\n",
       "      <th>7576</th>\n",
       "      <td>2019-10-23 16:52:51</td>\n",
       "      <td>2019-10-24 16:51:44</td>\n",
       "      <td>1</td>\n",
       "      <td>3.75</td>\n",
       "      <td>1</td>\n",
       "      <td>17.5</td>\n",
       "      <td>1.0</td>\n",
       "      <td>0.5</td>\n",
       "      <td>0.0</td>\n",
       "      <td>0.0</td>\n",
       "      <td>0.3</td>\n",
       "      <td>21.8</td>\n",
       "      <td>2.5</td>\n",
       "      <td>0 days 23:58:53</td>\n",
       "      <td>21.8</td>\n",
       "      <td>0.0</td>\n",
       "      <td>4.3</td>\n",
       "      <td>0.156371</td>\n",
       "    </tr>\n",
       "    <tr>\n",
       "      <th>6902</th>\n",
       "      <td>2019-10-23 16:51:42</td>\n",
       "      <td>2019-10-24 16:50:22</td>\n",
       "      <td>1</td>\n",
       "      <td>11.19</td>\n",
       "      <td>2</td>\n",
       "      <td>39.5</td>\n",
       "      <td>1.0</td>\n",
       "      <td>0.5</td>\n",
       "      <td>0.0</td>\n",
       "      <td>0.0</td>\n",
       "      <td>0.3</td>\n",
       "      <td>41.3</td>\n",
       "      <td>0.0</td>\n",
       "      <td>0 days 23:58:40</td>\n",
       "      <td>41.3</td>\n",
       "      <td>0.0</td>\n",
       "      <td>1.8</td>\n",
       "      <td>0.466682</td>\n",
       "    </tr>\n",
       "    <tr>\n",
       "      <th>4975</th>\n",
       "      <td>2019-10-23 16:18:51</td>\n",
       "      <td>2019-10-24 16:17:30</td>\n",
       "      <td>1</td>\n",
       "      <td>0.70</td>\n",
       "      <td>2</td>\n",
       "      <td>7.0</td>\n",
       "      <td>1.0</td>\n",
       "      <td>0.5</td>\n",
       "      <td>0.0</td>\n",
       "      <td>0.0</td>\n",
       "      <td>0.3</td>\n",
       "      <td>11.3</td>\n",
       "      <td>2.5</td>\n",
       "      <td>0 days 23:58:39</td>\n",
       "      <td>11.3</td>\n",
       "      <td>0.0</td>\n",
       "      <td>4.3</td>\n",
       "      <td>0.029194</td>\n",
       "    </tr>\n",
       "  </tbody>\n",
       "</table>\n",
       "</div>"
      ],
      "text/plain": [
       "                  pickup             dropoff  passenger_count  trip_distance  \\\n",
       "7576 2019-10-23 16:52:51 2019-10-24 16:51:44                1           3.75   \n",
       "6902 2019-10-23 16:51:42 2019-10-24 16:50:22                1          11.19   \n",
       "4975 2019-10-23 16:18:51 2019-10-24 16:17:30                1           0.70   \n",
       "\n",
       "      payment_type  fare_amount  extra  mta_tax  tip_amount  tolls_amount  \\\n",
       "7576             1         17.5    1.0      0.5         0.0           0.0   \n",
       "6902             2         39.5    1.0      0.5         0.0           0.0   \n",
       "4975             2          7.0    1.0      0.5         0.0           0.0   \n",
       "\n",
       "      improvement_surcharge  total_amount  congestion_surcharge  \\\n",
       "7576                    0.3          21.8                   2.5   \n",
       "6902                    0.3          41.3                   0.0   \n",
       "4975                    0.3          11.3                   2.5   \n",
       "\n",
       "        elapsed_time  cost_before_tip  tip_pct  fees  avg_speed  \n",
       "7576 0 days 23:58:53             21.8      0.0   4.3   0.156371  \n",
       "6902 0 days 23:58:40             41.3      0.0   1.8   0.466682  \n",
       "4975 0 days 23:58:39             11.3      0.0   4.3   0.029194  "
      ]
     },
     "execution_count": 10,
     "metadata": {},
     "output_type": "execute_result"
    }
   ],
   "source": [
    "taxis.nlargest(3, 'elapsed_time')"
   ]
  },
  {
   "cell_type": "markdown",
   "id": "e0788e52-404b-480b-bf10-b4e63a2536d5",
   "metadata": {
    "slideshow": {
     "slide_type": "slide"
    },
    "tags": []
   },
   "source": [
    "## Learning Path\n",
    "\n",
    "1. Data cleaning\n",
    "2. **Working with the index**\n",
    "3. Reshaping data\n",
    "4. Aggregations and grouping\n",
    "5. Time series"
   ]
  },
  {
   "cell_type": "markdown",
   "id": "65a2afee-3b1a-4fa8-9491-ab323eab54d9",
   "metadata": {
    "slideshow": {
     "slide_type": "slide"
    },
    "tags": []
   },
   "source": [
    "## Working with the index\n",
    "\n",
    "So far, we haven't really worked with the index because it's just been a row number; however, we can change the values we have in the index to access additional features of the pandas library."
   ]
  },
  {
   "cell_type": "markdown",
   "id": "8a589beb-41f8-4aa2-b5f0-8452b16b75a2",
   "metadata": {
    "slideshow": {
     "slide_type": "subslide"
    },
    "tags": []
   },
   "source": [
    "### Setting and sorting the index\n",
    "\n",
    "Currently, we have a RangeIndex, but we can switch to a DatetimeIndex by specifying a datetime column when calling `set_index()`:"
   ]
  },
  {
   "cell_type": "code",
   "execution_count": 11,
   "id": "a83c91d3-40e2-4adc-b729-92376706a58d",
   "metadata": {},
   "outputs": [
    {
     "data": {
      "text/html": [
       "<div>\n",
       "<style scoped>\n",
       "    .dataframe tbody tr th:only-of-type {\n",
       "        vertical-align: middle;\n",
       "    }\n",
       "\n",
       "    .dataframe tbody tr th {\n",
       "        vertical-align: top;\n",
       "    }\n",
       "\n",
       "    .dataframe thead th {\n",
       "        text-align: right;\n",
       "    }\n",
       "</style>\n",
       "<table border=\"1\" class=\"dataframe\">\n",
       "  <thead>\n",
       "    <tr style=\"text-align: right;\">\n",
       "      <th></th>\n",
       "      <th>dropoff</th>\n",
       "      <th>passenger_count</th>\n",
       "      <th>trip_distance</th>\n",
       "      <th>payment_type</th>\n",
       "      <th>fare_amount</th>\n",
       "      <th>extra</th>\n",
       "      <th>mta_tax</th>\n",
       "      <th>tip_amount</th>\n",
       "      <th>tolls_amount</th>\n",
       "      <th>improvement_surcharge</th>\n",
       "      <th>total_amount</th>\n",
       "      <th>congestion_surcharge</th>\n",
       "      <th>elapsed_time</th>\n",
       "      <th>cost_before_tip</th>\n",
       "      <th>tip_pct</th>\n",
       "      <th>fees</th>\n",
       "      <th>avg_speed</th>\n",
       "    </tr>\n",
       "    <tr>\n",
       "      <th>pickup</th>\n",
       "      <th></th>\n",
       "      <th></th>\n",
       "      <th></th>\n",
       "      <th></th>\n",
       "      <th></th>\n",
       "      <th></th>\n",
       "      <th></th>\n",
       "      <th></th>\n",
       "      <th></th>\n",
       "      <th></th>\n",
       "      <th></th>\n",
       "      <th></th>\n",
       "      <th></th>\n",
       "      <th></th>\n",
       "      <th></th>\n",
       "      <th></th>\n",
       "      <th></th>\n",
       "    </tr>\n",
       "  </thead>\n",
       "  <tbody>\n",
       "    <tr>\n",
       "      <th>2019-10-23 16:39:42</th>\n",
       "      <td>2019-10-23 17:14:10</td>\n",
       "      <td>1</td>\n",
       "      <td>7.93</td>\n",
       "      <td>1</td>\n",
       "      <td>29.5</td>\n",
       "      <td>1.0</td>\n",
       "      <td>0.5</td>\n",
       "      <td>7.98</td>\n",
       "      <td>6.12</td>\n",
       "      <td>0.3</td>\n",
       "      <td>47.9</td>\n",
       "      <td>2.5</td>\n",
       "      <td>0 days 00:34:28</td>\n",
       "      <td>39.92</td>\n",
       "      <td>0.199900</td>\n",
       "      <td>10.42</td>\n",
       "      <td>13.804642</td>\n",
       "    </tr>\n",
       "    <tr>\n",
       "      <th>2019-10-23 16:32:08</th>\n",
       "      <td>2019-10-23 16:45:26</td>\n",
       "      <td>1</td>\n",
       "      <td>2.00</td>\n",
       "      <td>1</td>\n",
       "      <td>10.5</td>\n",
       "      <td>1.0</td>\n",
       "      <td>0.5</td>\n",
       "      <td>0.00</td>\n",
       "      <td>0.00</td>\n",
       "      <td>0.3</td>\n",
       "      <td>12.3</td>\n",
       "      <td>0.0</td>\n",
       "      <td>0 days 00:13:18</td>\n",
       "      <td>12.30</td>\n",
       "      <td>0.000000</td>\n",
       "      <td>1.80</td>\n",
       "      <td>9.022556</td>\n",
       "    </tr>\n",
       "    <tr>\n",
       "      <th>2019-10-23 16:08:44</th>\n",
       "      <td>2019-10-23 16:21:11</td>\n",
       "      <td>1</td>\n",
       "      <td>1.36</td>\n",
       "      <td>1</td>\n",
       "      <td>9.5</td>\n",
       "      <td>1.0</td>\n",
       "      <td>0.5</td>\n",
       "      <td>2.00</td>\n",
       "      <td>0.00</td>\n",
       "      <td>0.3</td>\n",
       "      <td>15.8</td>\n",
       "      <td>2.5</td>\n",
       "      <td>0 days 00:12:27</td>\n",
       "      <td>13.80</td>\n",
       "      <td>0.144928</td>\n",
       "      <td>4.30</td>\n",
       "      <td>6.554217</td>\n",
       "    </tr>\n",
       "  </tbody>\n",
       "</table>\n",
       "</div>"
      ],
      "text/plain": [
       "                                dropoff  passenger_count  trip_distance  \\\n",
       "pickup                                                                    \n",
       "2019-10-23 16:39:42 2019-10-23 17:14:10                1           7.93   \n",
       "2019-10-23 16:32:08 2019-10-23 16:45:26                1           2.00   \n",
       "2019-10-23 16:08:44 2019-10-23 16:21:11                1           1.36   \n",
       "\n",
       "                     payment_type  fare_amount  extra  mta_tax  tip_amount  \\\n",
       "pickup                                                                       \n",
       "2019-10-23 16:39:42             1         29.5    1.0      0.5        7.98   \n",
       "2019-10-23 16:32:08             1         10.5    1.0      0.5        0.00   \n",
       "2019-10-23 16:08:44             1          9.5    1.0      0.5        2.00   \n",
       "\n",
       "                     tolls_amount  improvement_surcharge  total_amount  \\\n",
       "pickup                                                                   \n",
       "2019-10-23 16:39:42          6.12                    0.3          47.9   \n",
       "2019-10-23 16:32:08          0.00                    0.3          12.3   \n",
       "2019-10-23 16:08:44          0.00                    0.3          15.8   \n",
       "\n",
       "                     congestion_surcharge    elapsed_time  cost_before_tip  \\\n",
       "pickup                                                                       \n",
       "2019-10-23 16:39:42                   2.5 0 days 00:34:28            39.92   \n",
       "2019-10-23 16:32:08                   0.0 0 days 00:13:18            12.30   \n",
       "2019-10-23 16:08:44                   2.5 0 days 00:12:27            13.80   \n",
       "\n",
       "                      tip_pct   fees  avg_speed  \n",
       "pickup                                           \n",
       "2019-10-23 16:39:42  0.199900  10.42  13.804642  \n",
       "2019-10-23 16:32:08  0.000000   1.80   9.022556  \n",
       "2019-10-23 16:08:44  0.144928   4.30   6.554217  "
      ]
     },
     "execution_count": 11,
     "metadata": {},
     "output_type": "execute_result"
    }
   ],
   "source": [
    "taxis.set_index('pickup', inplace=True)\n",
    "taxis.head(3)"
   ]
  },
  {
   "cell_type": "markdown",
   "id": "2b209530-e30a-4ff9-9f70-acb770eba330",
   "metadata": {
    "slideshow": {
     "slide_type": "fragment"
    },
    "tags": []
   },
   "source": [
    "Since we have a sample of the full dataset, let's sort the index to order by pickup time:"
   ]
  },
  {
   "cell_type": "code",
   "execution_count": 12,
   "id": "f611ff93-6978-4eab-83ea-c289ccdfd6ff",
   "metadata": {},
   "outputs": [],
   "source": [
    "taxis.sort_index(inplace=True)"
   ]
  },
  {
   "cell_type": "markdown",
   "id": "ec63259e-8f77-45d0-ba23-984fba6e95a0",
   "metadata": {
    "slideshow": {
     "slide_type": "fragment"
    },
    "tags": []
   },
   "source": [
    "*Tip: `taxis.sort_index(axis=1)` will sort the columns by name. The `axis` parameter is present throughout the pandas library: `axis=0` targets rows and `axis=1` targets columns.*"
   ]
  },
  {
   "cell_type": "markdown",
   "id": "829f2df1-1ad6-4176-a21c-b8006aa26945",
   "metadata": {
    "slideshow": {
     "slide_type": "subslide"
    },
    "tags": []
   },
   "source": [
    "We can now select ranges from our data based on the datetime the same way we did with row numbers:"
   ]
  },
  {
   "cell_type": "code",
   "execution_count": 13,
   "id": "5fcec2d3-a1d1-4464-a3f1-2a19c5ead98b",
   "metadata": {},
   "outputs": [
    {
     "data": {
      "text/html": [
       "<div>\n",
       "<style scoped>\n",
       "    .dataframe tbody tr th:only-of-type {\n",
       "        vertical-align: middle;\n",
       "    }\n",
       "\n",
       "    .dataframe tbody tr th {\n",
       "        vertical-align: top;\n",
       "    }\n",
       "\n",
       "    .dataframe thead th {\n",
       "        text-align: right;\n",
       "    }\n",
       "</style>\n",
       "<table border=\"1\" class=\"dataframe\">\n",
       "  <thead>\n",
       "    <tr style=\"text-align: right;\">\n",
       "      <th></th>\n",
       "      <th>dropoff</th>\n",
       "      <th>passenger_count</th>\n",
       "      <th>trip_distance</th>\n",
       "      <th>payment_type</th>\n",
       "      <th>fare_amount</th>\n",
       "      <th>extra</th>\n",
       "      <th>mta_tax</th>\n",
       "      <th>tip_amount</th>\n",
       "      <th>tolls_amount</th>\n",
       "      <th>improvement_surcharge</th>\n",
       "      <th>total_amount</th>\n",
       "      <th>congestion_surcharge</th>\n",
       "      <th>elapsed_time</th>\n",
       "      <th>cost_before_tip</th>\n",
       "      <th>tip_pct</th>\n",
       "      <th>fees</th>\n",
       "      <th>avg_speed</th>\n",
       "    </tr>\n",
       "    <tr>\n",
       "      <th>pickup</th>\n",
       "      <th></th>\n",
       "      <th></th>\n",
       "      <th></th>\n",
       "      <th></th>\n",
       "      <th></th>\n",
       "      <th></th>\n",
       "      <th></th>\n",
       "      <th></th>\n",
       "      <th></th>\n",
       "      <th></th>\n",
       "      <th></th>\n",
       "      <th></th>\n",
       "      <th></th>\n",
       "      <th></th>\n",
       "      <th></th>\n",
       "      <th></th>\n",
       "      <th></th>\n",
       "    </tr>\n",
       "  </thead>\n",
       "  <tbody>\n",
       "    <tr>\n",
       "      <th>2019-10-23 07:48:58</th>\n",
       "      <td>2019-10-23 07:52:09</td>\n",
       "      <td>1</td>\n",
       "      <td>0.67</td>\n",
       "      <td>2</td>\n",
       "      <td>4.5</td>\n",
       "      <td>1.0</td>\n",
       "      <td>0.5</td>\n",
       "      <td>0.0</td>\n",
       "      <td>0.0</td>\n",
       "      <td>0.3</td>\n",
       "      <td>8.8</td>\n",
       "      <td>2.5</td>\n",
       "      <td>0 days 00:03:11</td>\n",
       "      <td>8.8</td>\n",
       "      <td>0.000000</td>\n",
       "      <td>4.3</td>\n",
       "      <td>12.628272</td>\n",
       "    </tr>\n",
       "    <tr>\n",
       "      <th>2019-10-23 08:02:09</th>\n",
       "      <td>2019-10-24 07:42:32</td>\n",
       "      <td>1</td>\n",
       "      <td>8.38</td>\n",
       "      <td>1</td>\n",
       "      <td>32.0</td>\n",
       "      <td>1.0</td>\n",
       "      <td>0.5</td>\n",
       "      <td>5.5</td>\n",
       "      <td>0.0</td>\n",
       "      <td>0.3</td>\n",
       "      <td>41.8</td>\n",
       "      <td>2.5</td>\n",
       "      <td>0 days 23:40:23</td>\n",
       "      <td>36.3</td>\n",
       "      <td>0.151515</td>\n",
       "      <td>4.3</td>\n",
       "      <td>0.353989</td>\n",
       "    </tr>\n",
       "    <tr>\n",
       "      <th>2019-10-23 08:18:47</th>\n",
       "      <td>2019-10-23 08:36:05</td>\n",
       "      <td>1</td>\n",
       "      <td>2.39</td>\n",
       "      <td>2</td>\n",
       "      <td>12.5</td>\n",
       "      <td>1.0</td>\n",
       "      <td>0.5</td>\n",
       "      <td>0.0</td>\n",
       "      <td>0.0</td>\n",
       "      <td>0.3</td>\n",
       "      <td>16.8</td>\n",
       "      <td>2.5</td>\n",
       "      <td>0 days 00:17:18</td>\n",
       "      <td>16.8</td>\n",
       "      <td>0.000000</td>\n",
       "      <td>4.3</td>\n",
       "      <td>8.289017</td>\n",
       "    </tr>\n",
       "  </tbody>\n",
       "</table>\n",
       "</div>"
      ],
      "text/plain": [
       "                                dropoff  passenger_count  trip_distance  \\\n",
       "pickup                                                                    \n",
       "2019-10-23 07:48:58 2019-10-23 07:52:09                1           0.67   \n",
       "2019-10-23 08:02:09 2019-10-24 07:42:32                1           8.38   \n",
       "2019-10-23 08:18:47 2019-10-23 08:36:05                1           2.39   \n",
       "\n",
       "                     payment_type  fare_amount  extra  mta_tax  tip_amount  \\\n",
       "pickup                                                                       \n",
       "2019-10-23 07:48:58             2          4.5    1.0      0.5         0.0   \n",
       "2019-10-23 08:02:09             1         32.0    1.0      0.5         5.5   \n",
       "2019-10-23 08:18:47             2         12.5    1.0      0.5         0.0   \n",
       "\n",
       "                     tolls_amount  improvement_surcharge  total_amount  \\\n",
       "pickup                                                                   \n",
       "2019-10-23 07:48:58           0.0                    0.3           8.8   \n",
       "2019-10-23 08:02:09           0.0                    0.3          41.8   \n",
       "2019-10-23 08:18:47           0.0                    0.3          16.8   \n",
       "\n",
       "                     congestion_surcharge    elapsed_time  cost_before_tip  \\\n",
       "pickup                                                                       \n",
       "2019-10-23 07:48:58                   2.5 0 days 00:03:11              8.8   \n",
       "2019-10-23 08:02:09                   2.5 0 days 23:40:23             36.3   \n",
       "2019-10-23 08:18:47                   2.5 0 days 00:17:18             16.8   \n",
       "\n",
       "                      tip_pct  fees  avg_speed  \n",
       "pickup                                          \n",
       "2019-10-23 07:48:58  0.000000   4.3  12.628272  \n",
       "2019-10-23 08:02:09  0.151515   4.3   0.353989  \n",
       "2019-10-23 08:18:47  0.000000   4.3   8.289017  "
      ]
     },
     "execution_count": 13,
     "metadata": {},
     "output_type": "execute_result"
    }
   ],
   "source": [
    "taxis['2019-10-23 07:45':'2019-10-23 08']"
   ]
  },
  {
   "cell_type": "markdown",
   "id": "bc2ade37-8578-47cd-9981-3d702fb459aa",
   "metadata": {
    "slideshow": {
     "slide_type": "subslide"
    },
    "tags": []
   },
   "source": [
    "When not specifying a range, we use `loc[]`:"
   ]
  },
  {
   "cell_type": "code",
   "execution_count": 14,
   "id": "f0a86342-95f1-4561-8b07-7b97f1e4e887",
   "metadata": {},
   "outputs": [
    {
     "data": {
      "text/html": [
       "<div>\n",
       "<style scoped>\n",
       "    .dataframe tbody tr th:only-of-type {\n",
       "        vertical-align: middle;\n",
       "    }\n",
       "\n",
       "    .dataframe tbody tr th {\n",
       "        vertical-align: top;\n",
       "    }\n",
       "\n",
       "    .dataframe thead th {\n",
       "        text-align: right;\n",
       "    }\n",
       "</style>\n",
       "<table border=\"1\" class=\"dataframe\">\n",
       "  <thead>\n",
       "    <tr style=\"text-align: right;\">\n",
       "      <th></th>\n",
       "      <th>dropoff</th>\n",
       "      <th>passenger_count</th>\n",
       "      <th>trip_distance</th>\n",
       "      <th>payment_type</th>\n",
       "      <th>fare_amount</th>\n",
       "      <th>extra</th>\n",
       "      <th>mta_tax</th>\n",
       "      <th>tip_amount</th>\n",
       "      <th>tolls_amount</th>\n",
       "      <th>improvement_surcharge</th>\n",
       "      <th>total_amount</th>\n",
       "      <th>congestion_surcharge</th>\n",
       "      <th>elapsed_time</th>\n",
       "      <th>cost_before_tip</th>\n",
       "      <th>tip_pct</th>\n",
       "      <th>fees</th>\n",
       "      <th>avg_speed</th>\n",
       "    </tr>\n",
       "    <tr>\n",
       "      <th>pickup</th>\n",
       "      <th></th>\n",
       "      <th></th>\n",
       "      <th></th>\n",
       "      <th></th>\n",
       "      <th></th>\n",
       "      <th></th>\n",
       "      <th></th>\n",
       "      <th></th>\n",
       "      <th></th>\n",
       "      <th></th>\n",
       "      <th></th>\n",
       "      <th></th>\n",
       "      <th></th>\n",
       "      <th></th>\n",
       "      <th></th>\n",
       "      <th></th>\n",
       "      <th></th>\n",
       "    </tr>\n",
       "  </thead>\n",
       "  <tbody>\n",
       "    <tr>\n",
       "      <th>2019-10-23 08:02:09</th>\n",
       "      <td>2019-10-24 07:42:32</td>\n",
       "      <td>1</td>\n",
       "      <td>8.38</td>\n",
       "      <td>1</td>\n",
       "      <td>32.0</td>\n",
       "      <td>1.0</td>\n",
       "      <td>0.5</td>\n",
       "      <td>5.5</td>\n",
       "      <td>0.0</td>\n",
       "      <td>0.3</td>\n",
       "      <td>41.8</td>\n",
       "      <td>2.5</td>\n",
       "      <td>0 days 23:40:23</td>\n",
       "      <td>36.3</td>\n",
       "      <td>0.151515</td>\n",
       "      <td>4.3</td>\n",
       "      <td>0.353989</td>\n",
       "    </tr>\n",
       "    <tr>\n",
       "      <th>2019-10-23 08:18:47</th>\n",
       "      <td>2019-10-23 08:36:05</td>\n",
       "      <td>1</td>\n",
       "      <td>2.39</td>\n",
       "      <td>2</td>\n",
       "      <td>12.5</td>\n",
       "      <td>1.0</td>\n",
       "      <td>0.5</td>\n",
       "      <td>0.0</td>\n",
       "      <td>0.0</td>\n",
       "      <td>0.3</td>\n",
       "      <td>16.8</td>\n",
       "      <td>2.5</td>\n",
       "      <td>0 days 00:17:18</td>\n",
       "      <td>16.8</td>\n",
       "      <td>0.000000</td>\n",
       "      <td>4.3</td>\n",
       "      <td>8.289017</td>\n",
       "    </tr>\n",
       "  </tbody>\n",
       "</table>\n",
       "</div>"
      ],
      "text/plain": [
       "                                dropoff  passenger_count  trip_distance  \\\n",
       "pickup                                                                    \n",
       "2019-10-23 08:02:09 2019-10-24 07:42:32                1           8.38   \n",
       "2019-10-23 08:18:47 2019-10-23 08:36:05                1           2.39   \n",
       "\n",
       "                     payment_type  fare_amount  extra  mta_tax  tip_amount  \\\n",
       "pickup                                                                       \n",
       "2019-10-23 08:02:09             1         32.0    1.0      0.5         5.5   \n",
       "2019-10-23 08:18:47             2         12.5    1.0      0.5         0.0   \n",
       "\n",
       "                     tolls_amount  improvement_surcharge  total_amount  \\\n",
       "pickup                                                                   \n",
       "2019-10-23 08:02:09           0.0                    0.3          41.8   \n",
       "2019-10-23 08:18:47           0.0                    0.3          16.8   \n",
       "\n",
       "                     congestion_surcharge    elapsed_time  cost_before_tip  \\\n",
       "pickup                                                                       \n",
       "2019-10-23 08:02:09                   2.5 0 days 23:40:23             36.3   \n",
       "2019-10-23 08:18:47                   2.5 0 days 00:17:18             16.8   \n",
       "\n",
       "                      tip_pct  fees  avg_speed  \n",
       "pickup                                          \n",
       "2019-10-23 08:02:09  0.151515   4.3   0.353989  \n",
       "2019-10-23 08:18:47  0.000000   4.3   8.289017  "
      ]
     },
     "execution_count": 14,
     "metadata": {},
     "output_type": "execute_result"
    }
   ],
   "source": [
    "taxis.loc['2019-10-23 08']"
   ]
  },
  {
   "cell_type": "markdown",
   "id": "71c7720b-8503-4643-a552-10965b59c624",
   "metadata": {
    "slideshow": {
     "slide_type": "subslide"
    },
    "tags": []
   },
   "source": [
    "### Resetting the index\n",
    "\n",
    "We will be working with time series later this section, but sometimes we want to reset our index to row numbers and restore the columns. We can make `pickup` a column again with the `reset_index()` method:"
   ]
  },
  {
   "cell_type": "code",
   "execution_count": 15,
   "id": "c2a21903-3ad8-4dba-9169-eba54743f434",
   "metadata": {},
   "outputs": [
    {
     "data": {
      "text/html": [
       "<div>\n",
       "<style scoped>\n",
       "    .dataframe tbody tr th:only-of-type {\n",
       "        vertical-align: middle;\n",
       "    }\n",
       "\n",
       "    .dataframe tbody tr th {\n",
       "        vertical-align: top;\n",
       "    }\n",
       "\n",
       "    .dataframe thead th {\n",
       "        text-align: right;\n",
       "    }\n",
       "</style>\n",
       "<table border=\"1\" class=\"dataframe\">\n",
       "  <thead>\n",
       "    <tr style=\"text-align: right;\">\n",
       "      <th></th>\n",
       "      <th>pickup</th>\n",
       "      <th>dropoff</th>\n",
       "      <th>passenger_count</th>\n",
       "      <th>trip_distance</th>\n",
       "      <th>payment_type</th>\n",
       "      <th>fare_amount</th>\n",
       "      <th>extra</th>\n",
       "      <th>mta_tax</th>\n",
       "      <th>tip_amount</th>\n",
       "      <th>tolls_amount</th>\n",
       "      <th>improvement_surcharge</th>\n",
       "      <th>total_amount</th>\n",
       "      <th>congestion_surcharge</th>\n",
       "      <th>elapsed_time</th>\n",
       "      <th>cost_before_tip</th>\n",
       "      <th>tip_pct</th>\n",
       "      <th>fees</th>\n",
       "      <th>avg_speed</th>\n",
       "    </tr>\n",
       "  </thead>\n",
       "  <tbody>\n",
       "    <tr>\n",
       "      <th>0</th>\n",
       "      <td>2019-10-23 07:05:34</td>\n",
       "      <td>2019-10-23 08:03:16</td>\n",
       "      <td>3</td>\n",
       "      <td>14.68</td>\n",
       "      <td>1</td>\n",
       "      <td>50.0</td>\n",
       "      <td>1.0</td>\n",
       "      <td>0.5</td>\n",
       "      <td>4.0</td>\n",
       "      <td>0.0</td>\n",
       "      <td>0.3</td>\n",
       "      <td>55.8</td>\n",
       "      <td>0.0</td>\n",
       "      <td>0 days 00:57:42</td>\n",
       "      <td>51.8</td>\n",
       "      <td>0.077220</td>\n",
       "      <td>1.8</td>\n",
       "      <td>15.265165</td>\n",
       "    </tr>\n",
       "    <tr>\n",
       "      <th>1</th>\n",
       "      <td>2019-10-23 07:48:58</td>\n",
       "      <td>2019-10-23 07:52:09</td>\n",
       "      <td>1</td>\n",
       "      <td>0.67</td>\n",
       "      <td>2</td>\n",
       "      <td>4.5</td>\n",
       "      <td>1.0</td>\n",
       "      <td>0.5</td>\n",
       "      <td>0.0</td>\n",
       "      <td>0.0</td>\n",
       "      <td>0.3</td>\n",
       "      <td>8.8</td>\n",
       "      <td>2.5</td>\n",
       "      <td>0 days 00:03:11</td>\n",
       "      <td>8.8</td>\n",
       "      <td>0.000000</td>\n",
       "      <td>4.3</td>\n",
       "      <td>12.628272</td>\n",
       "    </tr>\n",
       "    <tr>\n",
       "      <th>2</th>\n",
       "      <td>2019-10-23 08:02:09</td>\n",
       "      <td>2019-10-24 07:42:32</td>\n",
       "      <td>1</td>\n",
       "      <td>8.38</td>\n",
       "      <td>1</td>\n",
       "      <td>32.0</td>\n",
       "      <td>1.0</td>\n",
       "      <td>0.5</td>\n",
       "      <td>5.5</td>\n",
       "      <td>0.0</td>\n",
       "      <td>0.3</td>\n",
       "      <td>41.8</td>\n",
       "      <td>2.5</td>\n",
       "      <td>0 days 23:40:23</td>\n",
       "      <td>36.3</td>\n",
       "      <td>0.151515</td>\n",
       "      <td>4.3</td>\n",
       "      <td>0.353989</td>\n",
       "    </tr>\n",
       "    <tr>\n",
       "      <th>3</th>\n",
       "      <td>2019-10-23 08:18:47</td>\n",
       "      <td>2019-10-23 08:36:05</td>\n",
       "      <td>1</td>\n",
       "      <td>2.39</td>\n",
       "      <td>2</td>\n",
       "      <td>12.5</td>\n",
       "      <td>1.0</td>\n",
       "      <td>0.5</td>\n",
       "      <td>0.0</td>\n",
       "      <td>0.0</td>\n",
       "      <td>0.3</td>\n",
       "      <td>16.8</td>\n",
       "      <td>2.5</td>\n",
       "      <td>0 days 00:17:18</td>\n",
       "      <td>16.8</td>\n",
       "      <td>0.000000</td>\n",
       "      <td>4.3</td>\n",
       "      <td>8.289017</td>\n",
       "    </tr>\n",
       "    <tr>\n",
       "      <th>4</th>\n",
       "      <td>2019-10-23 09:27:16</td>\n",
       "      <td>2019-10-23 09:33:13</td>\n",
       "      <td>2</td>\n",
       "      <td>1.11</td>\n",
       "      <td>2</td>\n",
       "      <td>6.0</td>\n",
       "      <td>1.0</td>\n",
       "      <td>0.5</td>\n",
       "      <td>0.0</td>\n",
       "      <td>0.0</td>\n",
       "      <td>0.3</td>\n",
       "      <td>7.8</td>\n",
       "      <td>0.0</td>\n",
       "      <td>0 days 00:05:57</td>\n",
       "      <td>7.8</td>\n",
       "      <td>0.000000</td>\n",
       "      <td>1.8</td>\n",
       "      <td>11.193277</td>\n",
       "    </tr>\n",
       "  </tbody>\n",
       "</table>\n",
       "</div>"
      ],
      "text/plain": [
       "               pickup             dropoff  passenger_count  trip_distance  \\\n",
       "0 2019-10-23 07:05:34 2019-10-23 08:03:16                3          14.68   \n",
       "1 2019-10-23 07:48:58 2019-10-23 07:52:09                1           0.67   \n",
       "2 2019-10-23 08:02:09 2019-10-24 07:42:32                1           8.38   \n",
       "3 2019-10-23 08:18:47 2019-10-23 08:36:05                1           2.39   \n",
       "4 2019-10-23 09:27:16 2019-10-23 09:33:13                2           1.11   \n",
       "\n",
       "   payment_type  fare_amount  extra  mta_tax  tip_amount  tolls_amount  \\\n",
       "0             1         50.0    1.0      0.5         4.0           0.0   \n",
       "1             2          4.5    1.0      0.5         0.0           0.0   \n",
       "2             1         32.0    1.0      0.5         5.5           0.0   \n",
       "3             2         12.5    1.0      0.5         0.0           0.0   \n",
       "4             2          6.0    1.0      0.5         0.0           0.0   \n",
       "\n",
       "   improvement_surcharge  total_amount  congestion_surcharge    elapsed_time  \\\n",
       "0                    0.3          55.8                   0.0 0 days 00:57:42   \n",
       "1                    0.3           8.8                   2.5 0 days 00:03:11   \n",
       "2                    0.3          41.8                   2.5 0 days 23:40:23   \n",
       "3                    0.3          16.8                   2.5 0 days 00:17:18   \n",
       "4                    0.3           7.8                   0.0 0 days 00:05:57   \n",
       "\n",
       "   cost_before_tip   tip_pct  fees  avg_speed  \n",
       "0             51.8  0.077220   1.8  15.265165  \n",
       "1              8.8  0.000000   4.3  12.628272  \n",
       "2             36.3  0.151515   4.3   0.353989  \n",
       "3             16.8  0.000000   4.3   8.289017  \n",
       "4              7.8  0.000000   1.8  11.193277  "
      ]
     },
     "execution_count": 15,
     "metadata": {},
     "output_type": "execute_result"
    }
   ],
   "source": [
    "taxis.reset_index(inplace=True)\n",
    "taxis.head()"
   ]
  },
  {
   "cell_type": "markdown",
   "id": "1a4e882e-d57d-40d6-ac10-9463303080f2",
   "metadata": {
    "slideshow": {
     "slide_type": "slide"
    },
    "tags": []
   },
   "source": [
    "## Learning Path\n",
    "\n",
    "1. Data cleaning\n",
    "2. Working with the index\n",
    "3. **Reshaping data**\n",
    "4. Aggregations and grouping\n",
    "5. Time series"
   ]
  },
  {
   "cell_type": "markdown",
   "id": "02934923-bf47-4245-ab1d-758bf221eb21",
   "metadata": {
    "slideshow": {
     "slide_type": "slide"
    },
    "tags": []
   },
   "source": [
    "## Reshaping data\n",
    "\n",
    "The taxi dataset we have be working with is in a format conducive to an analysis. This isn't always the case. Let's now take a look at the TSA traveler throughput data, which compares 2021 throughput to the same day in 2020 and 2019:"
   ]
  },
  {
   "cell_type": "code",
   "execution_count": 16,
   "id": "b06e3e74-cf37-418e-966d-4b98d3c4ec71",
   "metadata": {
    "slideshow": {
     "slide_type": "fragment"
    },
    "tags": []
   },
   "outputs": [
    {
     "data": {
      "text/html": [
       "<div>\n",
       "<style scoped>\n",
       "    .dataframe tbody tr th:only-of-type {\n",
       "        vertical-align: middle;\n",
       "    }\n",
       "\n",
       "    .dataframe tbody tr th {\n",
       "        vertical-align: top;\n",
       "    }\n",
       "\n",
       "    .dataframe thead th {\n",
       "        text-align: right;\n",
       "    }\n",
       "</style>\n",
       "<table border=\"1\" class=\"dataframe\">\n",
       "  <thead>\n",
       "    <tr style=\"text-align: right;\">\n",
       "      <th></th>\n",
       "      <th>Date</th>\n",
       "      <th>2021 Traveler Throughput</th>\n",
       "      <th>2020 Traveler Throughput</th>\n",
       "      <th>2019 Traveler Throughput</th>\n",
       "    </tr>\n",
       "  </thead>\n",
       "  <tbody>\n",
       "    <tr>\n",
       "      <th>0</th>\n",
       "      <td>2021-05-14</td>\n",
       "      <td>1716561.0</td>\n",
       "      <td>250467</td>\n",
       "      <td>2664549</td>\n",
       "    </tr>\n",
       "    <tr>\n",
       "      <th>1</th>\n",
       "      <td>2021-05-13</td>\n",
       "      <td>1743515.0</td>\n",
       "      <td>234928</td>\n",
       "      <td>2611324</td>\n",
       "    </tr>\n",
       "    <tr>\n",
       "      <th>2</th>\n",
       "      <td>2021-05-12</td>\n",
       "      <td>1424664.0</td>\n",
       "      <td>176667</td>\n",
       "      <td>2343675</td>\n",
       "    </tr>\n",
       "    <tr>\n",
       "      <th>3</th>\n",
       "      <td>2021-05-11</td>\n",
       "      <td>1315493.0</td>\n",
       "      <td>163205</td>\n",
       "      <td>2191387</td>\n",
       "    </tr>\n",
       "    <tr>\n",
       "      <th>4</th>\n",
       "      <td>2021-05-10</td>\n",
       "      <td>1657722.0</td>\n",
       "      <td>215645</td>\n",
       "      <td>2512315</td>\n",
       "    </tr>\n",
       "  </tbody>\n",
       "</table>\n",
       "</div>"
      ],
      "text/plain": [
       "        Date  2021 Traveler Throughput  2020 Traveler Throughput  \\\n",
       "0 2021-05-14                 1716561.0                    250467   \n",
       "1 2021-05-13                 1743515.0                    234928   \n",
       "2 2021-05-12                 1424664.0                    176667   \n",
       "3 2021-05-11                 1315493.0                    163205   \n",
       "4 2021-05-10                 1657722.0                    215645   \n",
       "\n",
       "   2019 Traveler Throughput  \n",
       "0                   2664549  \n",
       "1                   2611324  \n",
       "2                   2343675  \n",
       "3                   2191387  \n",
       "4                   2512315  "
      ]
     },
     "execution_count": 16,
     "metadata": {},
     "output_type": "execute_result"
    }
   ],
   "source": [
    "tsa = pd.read_csv('../data/tsa_passenger_throughput.csv', parse_dates=['Date'])\n",
    "tsa.head()"
   ]
  },
  {
   "cell_type": "markdown",
   "id": "fe40e4dc-fcb9-41f6-b198-feed4f4069b4",
   "metadata": {},
   "source": [
    "*Source: [TSA.gov](https://www.tsa.gov/coronavirus/passenger-throughput)*"
   ]
  },
  {
   "cell_type": "markdown",
   "id": "c5f42086-13f3-452d-8878-57f6cf0f97d1",
   "metadata": {
    "slideshow": {
     "slide_type": "subslide"
    },
    "tags": []
   },
   "source": [
    "First, we will lowercase the column names and take the first word (e.g. `2021` for `2021 Traveler Throughput`) to make this easier to work with:"
   ]
  },
  {
   "cell_type": "code",
   "execution_count": 17,
   "id": "4f7e3c3d-b830-4ac5-957e-778a72e58185",
   "metadata": {},
   "outputs": [
    {
     "data": {
      "text/html": [
       "<div>\n",
       "<style scoped>\n",
       "    .dataframe tbody tr th:only-of-type {\n",
       "        vertical-align: middle;\n",
       "    }\n",
       "\n",
       "    .dataframe tbody tr th {\n",
       "        vertical-align: top;\n",
       "    }\n",
       "\n",
       "    .dataframe thead th {\n",
       "        text-align: right;\n",
       "    }\n",
       "</style>\n",
       "<table border=\"1\" class=\"dataframe\">\n",
       "  <thead>\n",
       "    <tr style=\"text-align: right;\">\n",
       "      <th></th>\n",
       "      <th>date</th>\n",
       "      <th>2021</th>\n",
       "      <th>2020</th>\n",
       "      <th>2019</th>\n",
       "    </tr>\n",
       "  </thead>\n",
       "  <tbody>\n",
       "    <tr>\n",
       "      <th>0</th>\n",
       "      <td>2021-05-14</td>\n",
       "      <td>1716561.0</td>\n",
       "      <td>250467</td>\n",
       "      <td>2664549</td>\n",
       "    </tr>\n",
       "    <tr>\n",
       "      <th>1</th>\n",
       "      <td>2021-05-13</td>\n",
       "      <td>1743515.0</td>\n",
       "      <td>234928</td>\n",
       "      <td>2611324</td>\n",
       "    </tr>\n",
       "    <tr>\n",
       "      <th>2</th>\n",
       "      <td>2021-05-12</td>\n",
       "      <td>1424664.0</td>\n",
       "      <td>176667</td>\n",
       "      <td>2343675</td>\n",
       "    </tr>\n",
       "    <tr>\n",
       "      <th>3</th>\n",
       "      <td>2021-05-11</td>\n",
       "      <td>1315493.0</td>\n",
       "      <td>163205</td>\n",
       "      <td>2191387</td>\n",
       "    </tr>\n",
       "    <tr>\n",
       "      <th>4</th>\n",
       "      <td>2021-05-10</td>\n",
       "      <td>1657722.0</td>\n",
       "      <td>215645</td>\n",
       "      <td>2512315</td>\n",
       "    </tr>\n",
       "  </tbody>\n",
       "</table>\n",
       "</div>"
      ],
      "text/plain": [
       "        date       2021    2020     2019\n",
       "0 2021-05-14  1716561.0  250467  2664549\n",
       "1 2021-05-13  1743515.0  234928  2611324\n",
       "2 2021-05-12  1424664.0  176667  2343675\n",
       "3 2021-05-11  1315493.0  163205  2191387\n",
       "4 2021-05-10  1657722.0  215645  2512315"
      ]
     },
     "execution_count": 17,
     "metadata": {},
     "output_type": "execute_result"
    }
   ],
   "source": [
    "tsa = tsa.rename(columns=lambda x: x.lower().split()[0])\n",
    "tsa.head()"
   ]
  },
  {
   "cell_type": "markdown",
   "id": "6e24d581-09cb-47f5-8ca6-8b71bc41d1d4",
   "metadata": {
    "slideshow": {
     "slide_type": "fragment"
    },
    "tags": []
   },
   "source": [
    "Now, we can work on reshaping it."
   ]
  },
  {
   "cell_type": "markdown",
   "id": "fd52c051-596f-4962-8e01-e1845f853b7f",
   "metadata": {
    "slideshow": {
     "slide_type": "subslide"
    },
    "tags": []
   },
   "source": [
    "### Melting\n",
    "\n",
    "Melting helps convert our data into long format. Now, we have all the traveler throughput numbers in a single column:"
   ]
  },
  {
   "cell_type": "code",
   "execution_count": 18,
   "id": "d2cf07ed-890c-47f7-9ecb-8412102fd65b",
   "metadata": {},
   "outputs": [
    {
     "data": {
      "text/html": [
       "<div>\n",
       "<style scoped>\n",
       "    .dataframe tbody tr th:only-of-type {\n",
       "        vertical-align: middle;\n",
       "    }\n",
       "\n",
       "    .dataframe tbody tr th {\n",
       "        vertical-align: top;\n",
       "    }\n",
       "\n",
       "    .dataframe thead th {\n",
       "        text-align: right;\n",
       "    }\n",
       "</style>\n",
       "<table border=\"1\" class=\"dataframe\">\n",
       "  <thead>\n",
       "    <tr style=\"text-align: right;\">\n",
       "      <th></th>\n",
       "      <th>date</th>\n",
       "      <th>year</th>\n",
       "      <th>travelers</th>\n",
       "    </tr>\n",
       "  </thead>\n",
       "  <tbody>\n",
       "    <tr>\n",
       "      <th>974</th>\n",
       "      <td>2020-09-12</td>\n",
       "      <td>2019</td>\n",
       "      <td>1879822.0</td>\n",
       "    </tr>\n",
       "    <tr>\n",
       "      <th>435</th>\n",
       "      <td>2021-03-05</td>\n",
       "      <td>2020</td>\n",
       "      <td>2198517.0</td>\n",
       "    </tr>\n",
       "    <tr>\n",
       "      <th>1029</th>\n",
       "      <td>2020-07-19</td>\n",
       "      <td>2019</td>\n",
       "      <td>2727355.0</td>\n",
       "    </tr>\n",
       "    <tr>\n",
       "      <th>680</th>\n",
       "      <td>2020-07-03</td>\n",
       "      <td>2020</td>\n",
       "      <td>718988.0</td>\n",
       "    </tr>\n",
       "    <tr>\n",
       "      <th>867</th>\n",
       "      <td>2020-12-28</td>\n",
       "      <td>2019</td>\n",
       "      <td>2500396.0</td>\n",
       "    </tr>\n",
       "  </tbody>\n",
       "</table>\n",
       "</div>"
      ],
      "text/plain": [
       "           date  year  travelers\n",
       "974  2020-09-12  2019  1879822.0\n",
       "435  2021-03-05  2020  2198517.0\n",
       "1029 2020-07-19  2019  2727355.0\n",
       "680  2020-07-03  2020   718988.0\n",
       "867  2020-12-28  2019  2500396.0"
      ]
     },
     "execution_count": 18,
     "metadata": {},
     "output_type": "execute_result"
    }
   ],
   "source": [
    "tsa_melted = tsa.melt(\n",
    "    id_vars='date', # uniquely identifies a row\n",
    "    var_name='year', value_name='travelers'\n",
    ")\n",
    "tsa_melted.sample(5, random_state=1) # show some random entries"
   ]
  },
  {
   "cell_type": "markdown",
   "id": "4d7e95ce-c58c-4328-9f97-1a2711b7e8cf",
   "metadata": {
    "slideshow": {
     "slide_type": "subslide"
    },
    "tags": []
   },
   "source": [
    "To convert this into a time series of traveler throughput, we need to replace the year in the `date` column with the one in the `year` column. Otherwise, we are marking prior years' numbers with the wrong year."
   ]
  },
  {
   "cell_type": "code",
   "execution_count": 19,
   "id": "c591736f-19af-4576-a1c2-f308e88e0ba3",
   "metadata": {},
   "outputs": [
    {
     "data": {
      "text/html": [
       "<div>\n",
       "<style scoped>\n",
       "    .dataframe tbody tr th:only-of-type {\n",
       "        vertical-align: middle;\n",
       "    }\n",
       "\n",
       "    .dataframe tbody tr th {\n",
       "        vertical-align: top;\n",
       "    }\n",
       "\n",
       "    .dataframe thead th {\n",
       "        text-align: right;\n",
       "    }\n",
       "</style>\n",
       "<table border=\"1\" class=\"dataframe\">\n",
       "  <thead>\n",
       "    <tr style=\"text-align: right;\">\n",
       "      <th></th>\n",
       "      <th>date</th>\n",
       "      <th>year</th>\n",
       "      <th>travelers</th>\n",
       "    </tr>\n",
       "  </thead>\n",
       "  <tbody>\n",
       "    <tr>\n",
       "      <th>974</th>\n",
       "      <td>2019-09-12</td>\n",
       "      <td>2019</td>\n",
       "      <td>1879822.0</td>\n",
       "    </tr>\n",
       "    <tr>\n",
       "      <th>435</th>\n",
       "      <td>2020-03-05</td>\n",
       "      <td>2020</td>\n",
       "      <td>2198517.0</td>\n",
       "    </tr>\n",
       "    <tr>\n",
       "      <th>1029</th>\n",
       "      <td>2019-07-19</td>\n",
       "      <td>2019</td>\n",
       "      <td>2727355.0</td>\n",
       "    </tr>\n",
       "    <tr>\n",
       "      <th>680</th>\n",
       "      <td>2020-07-03</td>\n",
       "      <td>2020</td>\n",
       "      <td>718988.0</td>\n",
       "    </tr>\n",
       "    <tr>\n",
       "      <th>867</th>\n",
       "      <td>2019-12-28</td>\n",
       "      <td>2019</td>\n",
       "      <td>2500396.0</td>\n",
       "    </tr>\n",
       "  </tbody>\n",
       "</table>\n",
       "</div>"
      ],
      "text/plain": [
       "           date  year  travelers\n",
       "974  2019-09-12  2019  1879822.0\n",
       "435  2020-03-05  2020  2198517.0\n",
       "1029 2019-07-19  2019  2727355.0\n",
       "680  2020-07-03  2020   718988.0\n",
       "867  2019-12-28  2019  2500396.0"
      ]
     },
     "execution_count": 19,
     "metadata": {},
     "output_type": "execute_result"
    }
   ],
   "source": [
    "tsa_melted = tsa_melted.assign(\n",
    "    date=lambda x: pd.to_datetime(x.year + x.date.dt.strftime('-%m-%d'))\n",
    ")\n",
    "tsa_melted.sample(5, random_state=1)"
   ]
  },
  {
   "cell_type": "markdown",
   "id": "acf5a87a-84d9-401c-967f-5db0b46be715",
   "metadata": {
    "slideshow": {
     "slide_type": "subslide"
    },
    "tags": []
   },
   "source": [
    "This leaves us with some null values (the dates that haven't yet occurred):"
   ]
  },
  {
   "cell_type": "code",
   "execution_count": 20,
   "id": "8763d003-24b7-43aa-8a0b-19a437e995b3",
   "metadata": {},
   "outputs": [
    {
     "data": {
      "text/html": [
       "<div>\n",
       "<style scoped>\n",
       "    .dataframe tbody tr th:only-of-type {\n",
       "        vertical-align: middle;\n",
       "    }\n",
       "\n",
       "    .dataframe tbody tr th {\n",
       "        vertical-align: top;\n",
       "    }\n",
       "\n",
       "    .dataframe thead th {\n",
       "        text-align: right;\n",
       "    }\n",
       "</style>\n",
       "<table border=\"1\" class=\"dataframe\">\n",
       "  <thead>\n",
       "    <tr style=\"text-align: right;\">\n",
       "      <th></th>\n",
       "      <th>date</th>\n",
       "      <th>year</th>\n",
       "      <th>travelers</th>\n",
       "    </tr>\n",
       "  </thead>\n",
       "  <tbody>\n",
       "    <tr>\n",
       "      <th>136</th>\n",
       "      <td>2021-12-29</td>\n",
       "      <td>2021</td>\n",
       "      <td>NaN</td>\n",
       "    </tr>\n",
       "    <tr>\n",
       "      <th>135</th>\n",
       "      <td>2021-12-30</td>\n",
       "      <td>2021</td>\n",
       "      <td>NaN</td>\n",
       "    </tr>\n",
       "    <tr>\n",
       "      <th>134</th>\n",
       "      <td>2021-12-31</td>\n",
       "      <td>2021</td>\n",
       "      <td>NaN</td>\n",
       "    </tr>\n",
       "  </tbody>\n",
       "</table>\n",
       "</div>"
      ],
      "text/plain": [
       "          date  year  travelers\n",
       "136 2021-12-29  2021        NaN\n",
       "135 2021-12-30  2021        NaN\n",
       "134 2021-12-31  2021        NaN"
      ]
     },
     "execution_count": 20,
     "metadata": {},
     "output_type": "execute_result"
    }
   ],
   "source": [
    "tsa_melted.sort_values('date').tail(3)"
   ]
  },
  {
   "cell_type": "markdown",
   "id": "af2bb599-24e4-4395-aea7-e5634bc7e9e3",
   "metadata": {
    "slideshow": {
     "slide_type": "fragment"
    },
    "tags": []
   },
   "source": [
    "These can be dropped with the `dropna()` method:"
   ]
  },
  {
   "cell_type": "code",
   "execution_count": 21,
   "id": "2bdd2c3a-4e85-497c-8e49-c0f7c1209917",
   "metadata": {},
   "outputs": [
    {
     "data": {
      "text/html": [
       "<div>\n",
       "<style scoped>\n",
       "    .dataframe tbody tr th:only-of-type {\n",
       "        vertical-align: middle;\n",
       "    }\n",
       "\n",
       "    .dataframe tbody tr th {\n",
       "        vertical-align: top;\n",
       "    }\n",
       "\n",
       "    .dataframe thead th {\n",
       "        text-align: right;\n",
       "    }\n",
       "</style>\n",
       "<table border=\"1\" class=\"dataframe\">\n",
       "  <thead>\n",
       "    <tr style=\"text-align: right;\">\n",
       "      <th></th>\n",
       "      <th>date</th>\n",
       "      <th>year</th>\n",
       "      <th>travelers</th>\n",
       "    </tr>\n",
       "  </thead>\n",
       "  <tbody>\n",
       "    <tr>\n",
       "      <th>2</th>\n",
       "      <td>2021-05-12</td>\n",
       "      <td>2021</td>\n",
       "      <td>1424664.0</td>\n",
       "    </tr>\n",
       "    <tr>\n",
       "      <th>1</th>\n",
       "      <td>2021-05-13</td>\n",
       "      <td>2021</td>\n",
       "      <td>1743515.0</td>\n",
       "    </tr>\n",
       "    <tr>\n",
       "      <th>0</th>\n",
       "      <td>2021-05-14</td>\n",
       "      <td>2021</td>\n",
       "      <td>1716561.0</td>\n",
       "    </tr>\n",
       "  </tbody>\n",
       "</table>\n",
       "</div>"
      ],
      "text/plain": [
       "        date  year  travelers\n",
       "2 2021-05-12  2021  1424664.0\n",
       "1 2021-05-13  2021  1743515.0\n",
       "0 2021-05-14  2021  1716561.0"
      ]
     },
     "execution_count": 21,
     "metadata": {},
     "output_type": "execute_result"
    }
   ],
   "source": [
    "tsa_melted = tsa_melted.dropna()\n",
    "tsa_melted.sort_values('date').tail(3)"
   ]
  },
  {
   "cell_type": "markdown",
   "id": "7c1c9dfb-fbba-4ba4-a076-29d253eabe5b",
   "metadata": {
    "slideshow": {
     "slide_type": "subslide"
    },
    "tags": []
   },
   "source": [
    "### Pivoting\n",
    "\n",
    "Using the melted data, we can pivot the data to compare TSA traveler throughput on specific days across years:"
   ]
  },
  {
   "cell_type": "code",
   "execution_count": 22,
   "id": "3507eb04-e15a-4d22-9a75-ab998895c563",
   "metadata": {},
   "outputs": [
    {
     "data": {
      "text/html": [
       "<div>\n",
       "<style scoped>\n",
       "    .dataframe tbody tr th:only-of-type {\n",
       "        vertical-align: middle;\n",
       "    }\n",
       "\n",
       "    .dataframe tbody tr th {\n",
       "        vertical-align: top;\n",
       "    }\n",
       "\n",
       "    .dataframe thead th {\n",
       "        text-align: right;\n",
       "    }\n",
       "</style>\n",
       "<table border=\"1\" class=\"dataframe\">\n",
       "  <thead>\n",
       "    <tr style=\"text-align: right;\">\n",
       "      <th>day_in_march</th>\n",
       "      <th>1</th>\n",
       "      <th>2</th>\n",
       "      <th>3</th>\n",
       "      <th>4</th>\n",
       "      <th>5</th>\n",
       "      <th>6</th>\n",
       "      <th>7</th>\n",
       "      <th>8</th>\n",
       "      <th>9</th>\n",
       "      <th>10</th>\n",
       "    </tr>\n",
       "    <tr>\n",
       "      <th>year</th>\n",
       "      <th></th>\n",
       "      <th></th>\n",
       "      <th></th>\n",
       "      <th></th>\n",
       "      <th></th>\n",
       "      <th></th>\n",
       "      <th></th>\n",
       "      <th></th>\n",
       "      <th></th>\n",
       "      <th></th>\n",
       "    </tr>\n",
       "  </thead>\n",
       "  <tbody>\n",
       "    <tr>\n",
       "      <th>2019</th>\n",
       "      <td>2257920.0</td>\n",
       "      <td>1979558.0</td>\n",
       "      <td>2143619.0</td>\n",
       "      <td>2402692.0</td>\n",
       "      <td>2543689.0</td>\n",
       "      <td>2156262.0</td>\n",
       "      <td>2485430.0</td>\n",
       "      <td>2378673.0</td>\n",
       "      <td>2122898.0</td>\n",
       "      <td>2187298.0</td>\n",
       "    </tr>\n",
       "    <tr>\n",
       "      <th>2020</th>\n",
       "      <td>2089641.0</td>\n",
       "      <td>1736393.0</td>\n",
       "      <td>1877401.0</td>\n",
       "      <td>2130015.0</td>\n",
       "      <td>2198517.0</td>\n",
       "      <td>1844811.0</td>\n",
       "      <td>2119867.0</td>\n",
       "      <td>1909363.0</td>\n",
       "      <td>1617220.0</td>\n",
       "      <td>1702686.0</td>\n",
       "    </tr>\n",
       "    <tr>\n",
       "      <th>2021</th>\n",
       "      <td>1049692.0</td>\n",
       "      <td>744812.0</td>\n",
       "      <td>826924.0</td>\n",
       "      <td>1107534.0</td>\n",
       "      <td>1168734.0</td>\n",
       "      <td>992406.0</td>\n",
       "      <td>1278557.0</td>\n",
       "      <td>1119303.0</td>\n",
       "      <td>825745.0</td>\n",
       "      <td>974221.0</td>\n",
       "    </tr>\n",
       "  </tbody>\n",
       "</table>\n",
       "</div>"
      ],
      "text/plain": [
       "day_in_march         1          2          3          4          5   \\\n",
       "year                                                                  \n",
       "2019          2257920.0  1979558.0  2143619.0  2402692.0  2543689.0   \n",
       "2020          2089641.0  1736393.0  1877401.0  2130015.0  2198517.0   \n",
       "2021          1049692.0   744812.0   826924.0  1107534.0  1168734.0   \n",
       "\n",
       "day_in_march         6          7          8          9          10  \n",
       "year                                                                 \n",
       "2019          2156262.0  2485430.0  2378673.0  2122898.0  2187298.0  \n",
       "2020          1844811.0  2119867.0  1909363.0  1617220.0  1702686.0  \n",
       "2021           992406.0  1278557.0  1119303.0   825745.0   974221.0  "
      ]
     },
     "execution_count": 22,
     "metadata": {},
     "output_type": "execute_result"
    }
   ],
   "source": [
    "tsa_pivoted = tsa_melted\\\n",
    "    .query('date.dt.month == 3 and date.dt.day <= 10')\\\n",
    "    .assign(day_in_march=lambda x: x.date.dt.day)\\\n",
    "    .pivot(index='year', columns='day_in_march', values='travelers')\n",
    "tsa_pivoted"
   ]
  },
  {
   "cell_type": "markdown",
   "id": "472179dc-8fbe-4ff2-8df5-0c40d4818827",
   "metadata": {
    "slideshow": {
     "slide_type": "fragment"
    },
    "tags": []
   },
   "source": [
    "**Important**: We aren't covering the `unstack()` and `stack()` methods, which are additional ways to pivot and melt, respectively. These come in handy when we have a multi-level index (e.g. if we ran `set_index()` with more than one column). More information can be found [here](https://pandas.pydata.org/pandas-docs/stable/user_guide/reshaping.html)."
   ]
  },
  {
   "cell_type": "markdown",
   "id": "abee4e0e-26a4-4c6e-a7eb-0bad992ad955",
   "metadata": {
    "slideshow": {
     "slide_type": "subslide"
    },
    "tags": []
   },
   "source": [
    "### Transposing\n",
    "\n",
    "The `T` attribute provides a quick way to flip rows and columns."
   ]
  },
  {
   "cell_type": "code",
   "execution_count": 23,
   "id": "68607e99-1692-4c48-8579-a43b530dbd75",
   "metadata": {},
   "outputs": [
    {
     "data": {
      "text/html": [
       "<div>\n",
       "<style scoped>\n",
       "    .dataframe tbody tr th:only-of-type {\n",
       "        vertical-align: middle;\n",
       "    }\n",
       "\n",
       "    .dataframe tbody tr th {\n",
       "        vertical-align: top;\n",
       "    }\n",
       "\n",
       "    .dataframe thead th {\n",
       "        text-align: right;\n",
       "    }\n",
       "</style>\n",
       "<table border=\"1\" class=\"dataframe\">\n",
       "  <thead>\n",
       "    <tr style=\"text-align: right;\">\n",
       "      <th>year</th>\n",
       "      <th>2019</th>\n",
       "      <th>2020</th>\n",
       "      <th>2021</th>\n",
       "    </tr>\n",
       "    <tr>\n",
       "      <th>day_in_march</th>\n",
       "      <th></th>\n",
       "      <th></th>\n",
       "      <th></th>\n",
       "    </tr>\n",
       "  </thead>\n",
       "  <tbody>\n",
       "    <tr>\n",
       "      <th>1</th>\n",
       "      <td>2257920.0</td>\n",
       "      <td>2089641.0</td>\n",
       "      <td>1049692.0</td>\n",
       "    </tr>\n",
       "    <tr>\n",
       "      <th>2</th>\n",
       "      <td>1979558.0</td>\n",
       "      <td>1736393.0</td>\n",
       "      <td>744812.0</td>\n",
       "    </tr>\n",
       "    <tr>\n",
       "      <th>3</th>\n",
       "      <td>2143619.0</td>\n",
       "      <td>1877401.0</td>\n",
       "      <td>826924.0</td>\n",
       "    </tr>\n",
       "    <tr>\n",
       "      <th>4</th>\n",
       "      <td>2402692.0</td>\n",
       "      <td>2130015.0</td>\n",
       "      <td>1107534.0</td>\n",
       "    </tr>\n",
       "    <tr>\n",
       "      <th>5</th>\n",
       "      <td>2543689.0</td>\n",
       "      <td>2198517.0</td>\n",
       "      <td>1168734.0</td>\n",
       "    </tr>\n",
       "    <tr>\n",
       "      <th>6</th>\n",
       "      <td>2156262.0</td>\n",
       "      <td>1844811.0</td>\n",
       "      <td>992406.0</td>\n",
       "    </tr>\n",
       "    <tr>\n",
       "      <th>7</th>\n",
       "      <td>2485430.0</td>\n",
       "      <td>2119867.0</td>\n",
       "      <td>1278557.0</td>\n",
       "    </tr>\n",
       "    <tr>\n",
       "      <th>8</th>\n",
       "      <td>2378673.0</td>\n",
       "      <td>1909363.0</td>\n",
       "      <td>1119303.0</td>\n",
       "    </tr>\n",
       "    <tr>\n",
       "      <th>9</th>\n",
       "      <td>2122898.0</td>\n",
       "      <td>1617220.0</td>\n",
       "      <td>825745.0</td>\n",
       "    </tr>\n",
       "    <tr>\n",
       "      <th>10</th>\n",
       "      <td>2187298.0</td>\n",
       "      <td>1702686.0</td>\n",
       "      <td>974221.0</td>\n",
       "    </tr>\n",
       "  </tbody>\n",
       "</table>\n",
       "</div>"
      ],
      "text/plain": [
       "year               2019       2020       2021\n",
       "day_in_march                                 \n",
       "1             2257920.0  2089641.0  1049692.0\n",
       "2             1979558.0  1736393.0   744812.0\n",
       "3             2143619.0  1877401.0   826924.0\n",
       "4             2402692.0  2130015.0  1107534.0\n",
       "5             2543689.0  2198517.0  1168734.0\n",
       "6             2156262.0  1844811.0   992406.0\n",
       "7             2485430.0  2119867.0  1278557.0\n",
       "8             2378673.0  1909363.0  1119303.0\n",
       "9             2122898.0  1617220.0   825745.0\n",
       "10            2187298.0  1702686.0   974221.0"
      ]
     },
     "execution_count": 23,
     "metadata": {},
     "output_type": "execute_result"
    }
   ],
   "source": [
    "tsa_pivoted.T"
   ]
  },
  {
   "cell_type": "markdown",
   "id": "fb294961-c185-47cd-a709-e9a02e2e4924",
   "metadata": {
    "slideshow": {
     "slide_type": "subslide"
    },
    "tags": []
   },
   "source": [
    "### Merging\n",
    "\n",
    "We typically observe changes in air travel around the holidays, so adding information about the dates in the TSA dataset provides more context. The `holidays.csv` file contains a few major holidays in the United States:"
   ]
  },
  {
   "cell_type": "code",
   "execution_count": 24,
   "id": "7eef15b0-a0a3-42ae-9d60-a829682aeca0",
   "metadata": {},
   "outputs": [
    {
     "data": {
      "text/html": [
       "<div>\n",
       "<style scoped>\n",
       "    .dataframe tbody tr th:only-of-type {\n",
       "        vertical-align: middle;\n",
       "    }\n",
       "\n",
       "    .dataframe tbody tr th {\n",
       "        vertical-align: top;\n",
       "    }\n",
       "\n",
       "    .dataframe thead th {\n",
       "        text-align: right;\n",
       "    }\n",
       "</style>\n",
       "<table border=\"1\" class=\"dataframe\">\n",
       "  <thead>\n",
       "    <tr style=\"text-align: right;\">\n",
       "      <th></th>\n",
       "      <th>holiday</th>\n",
       "    </tr>\n",
       "    <tr>\n",
       "      <th>date</th>\n",
       "      <th></th>\n",
       "    </tr>\n",
       "  </thead>\n",
       "  <tbody>\n",
       "    <tr>\n",
       "      <th>2019-01-01</th>\n",
       "      <td>New Year's Day</td>\n",
       "    </tr>\n",
       "    <tr>\n",
       "      <th>2019-05-27</th>\n",
       "      <td>Memorial Day</td>\n",
       "    </tr>\n",
       "    <tr>\n",
       "      <th>2019-07-04</th>\n",
       "      <td>July 4th</td>\n",
       "    </tr>\n",
       "    <tr>\n",
       "      <th>2019-09-02</th>\n",
       "      <td>Labor Day</td>\n",
       "    </tr>\n",
       "    <tr>\n",
       "      <th>2019-11-28</th>\n",
       "      <td>Thanksgiving</td>\n",
       "    </tr>\n",
       "    <tr>\n",
       "      <th>2019-12-24</th>\n",
       "      <td>Christmas Eve</td>\n",
       "    </tr>\n",
       "    <tr>\n",
       "      <th>2019-12-25</th>\n",
       "      <td>Christmas Day</td>\n",
       "    </tr>\n",
       "    <tr>\n",
       "      <th>2019-12-31</th>\n",
       "      <td>New Year's Eve</td>\n",
       "    </tr>\n",
       "  </tbody>\n",
       "</table>\n",
       "</div>"
      ],
      "text/plain": [
       "                   holiday\n",
       "date                      \n",
       "2019-01-01  New Year's Day\n",
       "2019-05-27    Memorial Day\n",
       "2019-07-04        July 4th\n",
       "2019-09-02       Labor Day\n",
       "2019-11-28    Thanksgiving\n",
       "2019-12-24   Christmas Eve\n",
       "2019-12-25   Christmas Day\n",
       "2019-12-31  New Year's Eve"
      ]
     },
     "execution_count": 24,
     "metadata": {},
     "output_type": "execute_result"
    }
   ],
   "source": [
    "holidays = pd.read_csv('../data/holidays.csv', parse_dates=True, index_col='date')\n",
    "holidays.loc['2019']"
   ]
  },
  {
   "cell_type": "markdown",
   "id": "fc3c6b8b-b7e1-4ac8-a38a-b36ff17bc850",
   "metadata": {
    "slideshow": {
     "slide_type": "subslide"
    },
    "tags": []
   },
   "source": [
    "Merging the holidays with the TSA traveler throughput data will provide more context for our analysis:"
   ]
  },
  {
   "cell_type": "code",
   "execution_count": 25,
   "id": "b738bd1b-0c73-4cb6-9616-236fb3ffb8a2",
   "metadata": {
    "tags": []
   },
   "outputs": [
    {
     "data": {
      "text/html": [
       "<div>\n",
       "<style scoped>\n",
       "    .dataframe tbody tr th:only-of-type {\n",
       "        vertical-align: middle;\n",
       "    }\n",
       "\n",
       "    .dataframe tbody tr th {\n",
       "        vertical-align: top;\n",
       "    }\n",
       "\n",
       "    .dataframe thead th {\n",
       "        text-align: right;\n",
       "    }\n",
       "</style>\n",
       "<table border=\"1\" class=\"dataframe\">\n",
       "  <thead>\n",
       "    <tr style=\"text-align: right;\">\n",
       "      <th></th>\n",
       "      <th>date</th>\n",
       "      <th>year</th>\n",
       "      <th>travelers</th>\n",
       "      <th>holiday</th>\n",
       "    </tr>\n",
       "  </thead>\n",
       "  <tbody>\n",
       "    <tr>\n",
       "      <th>863</th>\n",
       "      <td>2019-01-01</td>\n",
       "      <td>2019</td>\n",
       "      <td>2126398.0</td>\n",
       "      <td>New Year's Day</td>\n",
       "    </tr>\n",
       "    <tr>\n",
       "      <th>862</th>\n",
       "      <td>2019-01-02</td>\n",
       "      <td>2019</td>\n",
       "      <td>2345103.0</td>\n",
       "      <td>NaN</td>\n",
       "    </tr>\n",
       "    <tr>\n",
       "      <th>861</th>\n",
       "      <td>2019-01-03</td>\n",
       "      <td>2019</td>\n",
       "      <td>2202111.0</td>\n",
       "      <td>NaN</td>\n",
       "    </tr>\n",
       "    <tr>\n",
       "      <th>860</th>\n",
       "      <td>2019-01-04</td>\n",
       "      <td>2019</td>\n",
       "      <td>2150571.0</td>\n",
       "      <td>NaN</td>\n",
       "    </tr>\n",
       "    <tr>\n",
       "      <th>859</th>\n",
       "      <td>2019-01-05</td>\n",
       "      <td>2019</td>\n",
       "      <td>1975947.0</td>\n",
       "      <td>NaN</td>\n",
       "    </tr>\n",
       "  </tbody>\n",
       "</table>\n",
       "</div>"
      ],
      "text/plain": [
       "          date  year  travelers         holiday\n",
       "863 2019-01-01  2019  2126398.0  New Year's Day\n",
       "862 2019-01-02  2019  2345103.0             NaN\n",
       "861 2019-01-03  2019  2202111.0             NaN\n",
       "860 2019-01-04  2019  2150571.0             NaN\n",
       "859 2019-01-05  2019  1975947.0             NaN"
      ]
     },
     "execution_count": 25,
     "metadata": {},
     "output_type": "execute_result"
    }
   ],
   "source": [
    "tsa_melted_holidays = tsa_melted\\\n",
    "    .merge(holidays, left_on='date', right_index=True, how='left')\\\n",
    "    .sort_values('date')\n",
    "tsa_melted_holidays.head()"
   ]
  },
  {
   "cell_type": "markdown",
   "id": "ef78ac45-6a52-4719-b531-52ea846f48dd",
   "metadata": {
    "slideshow": {
     "slide_type": "fragment"
    },
    "tags": []
   },
   "source": [
    "*Tip: There are many parameters for this method so be sure to check out the [documentation](https://pandas.pydata.org/pandas-docs/stable/reference/api/pandas.DataFrame.merge.html). To append rows, take a look at `append()` and `pd.concat()`.*"
   ]
  },
  {
   "cell_type": "markdown",
   "id": "00efa48d-b2e3-49c0-bd2a-b073a62f26ab",
   "metadata": {
    "slideshow": {
     "slide_type": "subslide"
    },
    "tags": []
   },
   "source": [
    "We can take this a step further by marking a few days before and after each holiday as part of the holiday. This would make it easier to compare holiday travel across years and look for any uptick in travel around the holidays:"
   ]
  },
  {
   "cell_type": "code",
   "execution_count": 26,
   "id": "16e9a948-55fb-4c7d-af08-67a7c718ff8d",
   "metadata": {},
   "outputs": [
    {
     "data": {
      "text/html": [
       "<div>\n",
       "<style scoped>\n",
       "    .dataframe tbody tr th:only-of-type {\n",
       "        vertical-align: middle;\n",
       "    }\n",
       "\n",
       "    .dataframe tbody tr th {\n",
       "        vertical-align: top;\n",
       "    }\n",
       "\n",
       "    .dataframe thead th {\n",
       "        text-align: right;\n",
       "    }\n",
       "</style>\n",
       "<table border=\"1\" class=\"dataframe\">\n",
       "  <thead>\n",
       "    <tr style=\"text-align: right;\">\n",
       "      <th></th>\n",
       "      <th>date</th>\n",
       "      <th>year</th>\n",
       "      <th>travelers</th>\n",
       "      <th>holiday</th>\n",
       "    </tr>\n",
       "  </thead>\n",
       "  <tbody>\n",
       "    <tr>\n",
       "      <th>899</th>\n",
       "      <td>2019-11-26</td>\n",
       "      <td>2019</td>\n",
       "      <td>1591158.0</td>\n",
       "      <td>Thanksgiving</td>\n",
       "    </tr>\n",
       "    <tr>\n",
       "      <th>898</th>\n",
       "      <td>2019-11-27</td>\n",
       "      <td>2019</td>\n",
       "      <td>1968137.0</td>\n",
       "      <td>Thanksgiving</td>\n",
       "    </tr>\n",
       "    <tr>\n",
       "      <th>897</th>\n",
       "      <td>2019-11-28</td>\n",
       "      <td>2019</td>\n",
       "      <td>2648268.0</td>\n",
       "      <td>Thanksgiving</td>\n",
       "    </tr>\n",
       "    <tr>\n",
       "      <th>896</th>\n",
       "      <td>2019-11-29</td>\n",
       "      <td>2019</td>\n",
       "      <td>2882915.0</td>\n",
       "      <td>Thanksgiving</td>\n",
       "    </tr>\n",
       "    <tr>\n",
       "      <th>873</th>\n",
       "      <td>2019-12-22</td>\n",
       "      <td>2019</td>\n",
       "      <td>1981433.0</td>\n",
       "      <td>Christmas Eve</td>\n",
       "    </tr>\n",
       "    <tr>\n",
       "      <th>872</th>\n",
       "      <td>2019-12-23</td>\n",
       "      <td>2019</td>\n",
       "      <td>1937235.0</td>\n",
       "      <td>Christmas Eve</td>\n",
       "    </tr>\n",
       "    <tr>\n",
       "      <th>871</th>\n",
       "      <td>2019-12-24</td>\n",
       "      <td>2019</td>\n",
       "      <td>2552194.0</td>\n",
       "      <td>Christmas Eve</td>\n",
       "    </tr>\n",
       "    <tr>\n",
       "      <th>870</th>\n",
       "      <td>2019-12-25</td>\n",
       "      <td>2019</td>\n",
       "      <td>2582580.0</td>\n",
       "      <td>Christmas Day</td>\n",
       "    </tr>\n",
       "    <tr>\n",
       "      <th>869</th>\n",
       "      <td>2019-12-26</td>\n",
       "      <td>2019</td>\n",
       "      <td>2470786.0</td>\n",
       "      <td>Christmas Day</td>\n",
       "    </tr>\n",
       "  </tbody>\n",
       "</table>\n",
       "</div>"
      ],
      "text/plain": [
       "          date  year  travelers        holiday\n",
       "899 2019-11-26  2019  1591158.0   Thanksgiving\n",
       "898 2019-11-27  2019  1968137.0   Thanksgiving\n",
       "897 2019-11-28  2019  2648268.0   Thanksgiving\n",
       "896 2019-11-29  2019  2882915.0   Thanksgiving\n",
       "873 2019-12-22  2019  1981433.0  Christmas Eve\n",
       "872 2019-12-23  2019  1937235.0  Christmas Eve\n",
       "871 2019-12-24  2019  2552194.0  Christmas Eve\n",
       "870 2019-12-25  2019  2582580.0  Christmas Day\n",
       "869 2019-12-26  2019  2470786.0  Christmas Day"
      ]
     },
     "execution_count": 26,
     "metadata": {},
     "output_type": "execute_result"
    }
   ],
   "source": [
    "tsa_melted_holiday_travel = tsa_melted_holidays.assign(\n",
    "    holiday=lambda x:\n",
    "        x.holiday\\\n",
    "            .fillna(method='ffill', limit=1)\\\n",
    "            .fillna(method='bfill', limit=2)\n",
    ")\n",
    "\n",
    "tsa_melted_holiday_travel.query(\n",
    "    'year == \"2019\" and '\n",
    "    '(holiday == \"Thanksgiving\" or holiday.str.contains(\"Christmas\"))'\n",
    ")"
   ]
  },
  {
   "cell_type": "markdown",
   "id": "7228baa8-3fd6-4fcb-a2ef-5ac3f3f566a0",
   "metadata": {
    "slideshow": {
     "slide_type": "fragment"
    },
    "tags": []
   },
   "source": [
    "*Tip: Check out the [documentation](https://pandas.pydata.org/pandas-docs/stable/reference/api/pandas.DataFrame.fillna.html) for the full list of functionality available with the `fillna()` method.*"
   ]
  },
  {
   "cell_type": "markdown",
   "id": "63b60c6b-5ab1-41c8-a1ca-3f4640b5894e",
   "metadata": {
    "slideshow": {
     "slide_type": "slide"
    },
    "tags": []
   },
   "source": [
    "## Learning Path\n",
    "\n",
    "1. Data cleaning\n",
    "2. Working with the index\n",
    "3. Reshaping data\n",
    "4. **Aggregations and grouping**\n",
    "5. Time series"
   ]
  },
  {
   "cell_type": "markdown",
   "id": "286bf0c8-fd66-472d-8512-60f9da7dfff6",
   "metadata": {
    "slideshow": {
     "slide_type": "slide"
    },
    "tags": []
   },
   "source": [
    "## Aggregations and grouping\n",
    "\n",
    "After reshaping and cleaning our data, we can perform aggregations to summarize it in a variety of ways. In this section, we will explore using pivot tables, crosstabs, and group by operations to aggregate the data."
   ]
  },
  {
   "cell_type": "markdown",
   "id": "f5da03b7-84f8-4f7c-b1dd-654910e6b526",
   "metadata": {
    "slideshow": {
     "slide_type": "subslide"
    },
    "tags": []
   },
   "source": [
    "### Pivot tables\n",
    "We can build a pivot table to compare holiday travel across the years in our dataset:"
   ]
  },
  {
   "cell_type": "code",
   "execution_count": 27,
   "id": "22a43bea-1065-404b-843e-38e22c361867",
   "metadata": {},
   "outputs": [
    {
     "data": {
      "text/html": [
       "<div>\n",
       "<style scoped>\n",
       "    .dataframe tbody tr th:only-of-type {\n",
       "        vertical-align: middle;\n",
       "    }\n",
       "\n",
       "    .dataframe tbody tr th {\n",
       "        vertical-align: top;\n",
       "    }\n",
       "\n",
       "    .dataframe thead th {\n",
       "        text-align: right;\n",
       "    }\n",
       "</style>\n",
       "<table border=\"1\" class=\"dataframe\">\n",
       "  <thead>\n",
       "    <tr style=\"text-align: right;\">\n",
       "      <th>holiday</th>\n",
       "      <th>Christmas Day</th>\n",
       "      <th>Christmas Eve</th>\n",
       "      <th>July 4th</th>\n",
       "      <th>Labor Day</th>\n",
       "      <th>Memorial Day</th>\n",
       "      <th>New Year's Day</th>\n",
       "      <th>New Year's Eve</th>\n",
       "      <th>Thanksgiving</th>\n",
       "    </tr>\n",
       "    <tr>\n",
       "      <th>year</th>\n",
       "      <th></th>\n",
       "      <th></th>\n",
       "      <th></th>\n",
       "      <th></th>\n",
       "      <th></th>\n",
       "      <th></th>\n",
       "      <th></th>\n",
       "      <th></th>\n",
       "    </tr>\n",
       "  </thead>\n",
       "  <tbody>\n",
       "    <tr>\n",
       "      <th>2019</th>\n",
       "      <td>5053366.0</td>\n",
       "      <td>6470862.0</td>\n",
       "      <td>9414228.0</td>\n",
       "      <td>8314811.0</td>\n",
       "      <td>9720691.0</td>\n",
       "      <td>4471501.0</td>\n",
       "      <td>6535464.0</td>\n",
       "      <td>9090478.0</td>\n",
       "    </tr>\n",
       "    <tr>\n",
       "      <th>2020</th>\n",
       "      <td>1745242.0</td>\n",
       "      <td>3029810.0</td>\n",
       "      <td>2682541.0</td>\n",
       "      <td>2993653.0</td>\n",
       "      <td>1126253.0</td>\n",
       "      <td>4490388.0</td>\n",
       "      <td>3057449.0</td>\n",
       "      <td>3364358.0</td>\n",
       "    </tr>\n",
       "    <tr>\n",
       "      <th>2021</th>\n",
       "      <td>NaN</td>\n",
       "      <td>NaN</td>\n",
       "      <td>NaN</td>\n",
       "      <td>NaN</td>\n",
       "      <td>NaN</td>\n",
       "      <td>1998871.0</td>\n",
       "      <td>NaN</td>\n",
       "      <td>NaN</td>\n",
       "    </tr>\n",
       "  </tbody>\n",
       "</table>\n",
       "</div>"
      ],
      "text/plain": [
       "holiday  Christmas Day  Christmas Eve   July 4th  Labor Day  Memorial Day  \\\n",
       "year                                                                        \n",
       "2019         5053366.0      6470862.0  9414228.0  8314811.0     9720691.0   \n",
       "2020         1745242.0      3029810.0  2682541.0  2993653.0     1126253.0   \n",
       "2021               NaN            NaN        NaN        NaN           NaN   \n",
       "\n",
       "holiday  New Year's Day  New Year's Eve  Thanksgiving  \n",
       "year                                                   \n",
       "2019          4471501.0       6535464.0     9090478.0  \n",
       "2020          4490388.0       3057449.0     3364358.0  \n",
       "2021          1998871.0             NaN           NaN  "
      ]
     },
     "execution_count": 27,
     "metadata": {},
     "output_type": "execute_result"
    }
   ],
   "source": [
    "tsa_melted_holiday_travel.pivot_table(\n",
    "    index='year', columns='holiday', \n",
    "    values='travelers', aggfunc='sum'\n",
    ")"
   ]
  },
  {
   "cell_type": "markdown",
   "id": "6aacdc27-6ee7-4443-a8bf-2b3e045737e3",
   "metadata": {
    "slideshow": {
     "slide_type": "subslide"
    },
    "tags": []
   },
   "source": [
    "We can use the `pct_change()` method on this result to see which holiday travel periods saw the biggest change in travel:"
   ]
  },
  {
   "cell_type": "code",
   "execution_count": 28,
   "id": "107e005d-8c15-4a26-a13c-b99346783ae6",
   "metadata": {},
   "outputs": [
    {
     "data": {
      "text/html": [
       "<div>\n",
       "<style scoped>\n",
       "    .dataframe tbody tr th:only-of-type {\n",
       "        vertical-align: middle;\n",
       "    }\n",
       "\n",
       "    .dataframe tbody tr th {\n",
       "        vertical-align: top;\n",
       "    }\n",
       "\n",
       "    .dataframe thead th {\n",
       "        text-align: right;\n",
       "    }\n",
       "</style>\n",
       "<table border=\"1\" class=\"dataframe\">\n",
       "  <thead>\n",
       "    <tr style=\"text-align: right;\">\n",
       "      <th>holiday</th>\n",
       "      <th>Christmas Day</th>\n",
       "      <th>Christmas Eve</th>\n",
       "      <th>July 4th</th>\n",
       "      <th>Labor Day</th>\n",
       "      <th>Memorial Day</th>\n",
       "      <th>New Year's Day</th>\n",
       "      <th>New Year's Eve</th>\n",
       "      <th>Thanksgiving</th>\n",
       "    </tr>\n",
       "    <tr>\n",
       "      <th>year</th>\n",
       "      <th></th>\n",
       "      <th></th>\n",
       "      <th></th>\n",
       "      <th></th>\n",
       "      <th></th>\n",
       "      <th></th>\n",
       "      <th></th>\n",
       "      <th></th>\n",
       "    </tr>\n",
       "  </thead>\n",
       "  <tbody>\n",
       "    <tr>\n",
       "      <th>2019</th>\n",
       "      <td>NaN</td>\n",
       "      <td>NaN</td>\n",
       "      <td>NaN</td>\n",
       "      <td>NaN</td>\n",
       "      <td>NaN</td>\n",
       "      <td>NaN</td>\n",
       "      <td>NaN</td>\n",
       "      <td>NaN</td>\n",
       "    </tr>\n",
       "    <tr>\n",
       "      <th>2020</th>\n",
       "      <td>-0.654638</td>\n",
       "      <td>-0.531776</td>\n",
       "      <td>-0.715055</td>\n",
       "      <td>-0.639961</td>\n",
       "      <td>-0.884139</td>\n",
       "      <td>0.004224</td>\n",
       "      <td>-0.532176</td>\n",
       "      <td>-0.629903</td>\n",
       "    </tr>\n",
       "    <tr>\n",
       "      <th>2021</th>\n",
       "      <td>0.000000</td>\n",
       "      <td>0.000000</td>\n",
       "      <td>0.000000</td>\n",
       "      <td>0.000000</td>\n",
       "      <td>0.000000</td>\n",
       "      <td>-0.554856</td>\n",
       "      <td>0.000000</td>\n",
       "      <td>0.000000</td>\n",
       "    </tr>\n",
       "  </tbody>\n",
       "</table>\n",
       "</div>"
      ],
      "text/plain": [
       "holiday  Christmas Day  Christmas Eve  July 4th  Labor Day  Memorial Day  \\\n",
       "year                                                                       \n",
       "2019               NaN            NaN       NaN        NaN           NaN   \n",
       "2020         -0.654638      -0.531776 -0.715055  -0.639961     -0.884139   \n",
       "2021          0.000000       0.000000  0.000000   0.000000      0.000000   \n",
       "\n",
       "holiday  New Year's Day  New Year's Eve  Thanksgiving  \n",
       "year                                                   \n",
       "2019                NaN             NaN           NaN  \n",
       "2020           0.004224       -0.532176     -0.629903  \n",
       "2021          -0.554856        0.000000      0.000000  "
      ]
     },
     "execution_count": 28,
     "metadata": {},
     "output_type": "execute_result"
    }
   ],
   "source": [
    "tsa_melted_holiday_travel.pivot_table(\n",
    "    index='year', columns='holiday', \n",
    "    values='travelers', aggfunc='sum'\n",
    ").pct_change()"
   ]
  },
  {
   "cell_type": "markdown",
   "id": "6e9ee5fb-ec4c-487f-8215-51fc1fe93373",
   "metadata": {
    "slideshow": {
     "slide_type": "subslide"
    },
    "tags": []
   },
   "source": [
    "Let's make one last pivot table with column and row subtotals along with some formatting improvements. First, we set a display option for all floats:"
   ]
  },
  {
   "cell_type": "code",
   "execution_count": 29,
   "id": "9d2a221e-4a76-4f1b-a159-e9f9d8f09719",
   "metadata": {},
   "outputs": [],
   "source": [
    "pd.set_option('display.float_format', '{:,.0f}'.format)"
   ]
  },
  {
   "cell_type": "markdown",
   "id": "306104af-223c-4628-b6f9-793f77fa7ae8",
   "metadata": {
    "slideshow": {
     "slide_type": "subslide"
    },
    "tags": []
   },
   "source": [
    "Next, we group together Christmas Eve and Christmas Day, likewise for New Year's Eve and New Year's Day, and create the pivot table:"
   ]
  },
  {
   "cell_type": "code",
   "execution_count": 30,
   "id": "cdae2ea6-45ef-4fb6-8bd7-bd5940883926",
   "metadata": {},
   "outputs": [
    {
     "data": {
      "text/html": [
       "<div>\n",
       "<style scoped>\n",
       "    .dataframe tbody tr th:only-of-type {\n",
       "        vertical-align: middle;\n",
       "    }\n",
       "\n",
       "    .dataframe tbody tr th {\n",
       "        vertical-align: top;\n",
       "    }\n",
       "\n",
       "    .dataframe thead th {\n",
       "        text-align: right;\n",
       "    }\n",
       "</style>\n",
       "<table border=\"1\" class=\"dataframe\">\n",
       "  <thead>\n",
       "    <tr style=\"text-align: right;\">\n",
       "      <th>holiday</th>\n",
       "      <th>Christmas</th>\n",
       "      <th>July 4th</th>\n",
       "      <th>Labor Day</th>\n",
       "      <th>Memorial Day</th>\n",
       "      <th>New Year's</th>\n",
       "      <th>Thanksgiving</th>\n",
       "      <th>Total</th>\n",
       "    </tr>\n",
       "    <tr>\n",
       "      <th>year</th>\n",
       "      <th></th>\n",
       "      <th></th>\n",
       "      <th></th>\n",
       "      <th></th>\n",
       "      <th></th>\n",
       "      <th></th>\n",
       "      <th></th>\n",
       "    </tr>\n",
       "  </thead>\n",
       "  <tbody>\n",
       "    <tr>\n",
       "      <th>2019</th>\n",
       "      <td>11,524,228</td>\n",
       "      <td>9,414,228</td>\n",
       "      <td>8,314,811</td>\n",
       "      <td>9,720,691</td>\n",
       "      <td>11,006,965</td>\n",
       "      <td>9,090,478</td>\n",
       "      <td>59,071,401</td>\n",
       "    </tr>\n",
       "    <tr>\n",
       "      <th>2020</th>\n",
       "      <td>4,775,052</td>\n",
       "      <td>2,682,541</td>\n",
       "      <td>2,993,653</td>\n",
       "      <td>1,126,253</td>\n",
       "      <td>7,547,837</td>\n",
       "      <td>3,364,358</td>\n",
       "      <td>22,489,694</td>\n",
       "    </tr>\n",
       "    <tr>\n",
       "      <th>2021</th>\n",
       "      <td>NaN</td>\n",
       "      <td>NaN</td>\n",
       "      <td>NaN</td>\n",
       "      <td>NaN</td>\n",
       "      <td>1,998,871</td>\n",
       "      <td>NaN</td>\n",
       "      <td>1,998,871</td>\n",
       "    </tr>\n",
       "    <tr>\n",
       "      <th>Total</th>\n",
       "      <td>16,299,280</td>\n",
       "      <td>12,096,769</td>\n",
       "      <td>11,308,464</td>\n",
       "      <td>10,846,944</td>\n",
       "      <td>20,553,673</td>\n",
       "      <td>12,454,836</td>\n",
       "      <td>83,559,966</td>\n",
       "    </tr>\n",
       "  </tbody>\n",
       "</table>\n",
       "</div>"
      ],
      "text/plain": [
       "holiday  Christmas   July 4th  Labor Day  Memorial Day  New Year's  \\\n",
       "year                                                                 \n",
       "2019    11,524,228  9,414,228  8,314,811     9,720,691  11,006,965   \n",
       "2020     4,775,052  2,682,541  2,993,653     1,126,253   7,547,837   \n",
       "2021           NaN        NaN        NaN           NaN   1,998,871   \n",
       "Total   16,299,280 12,096,769 11,308,464    10,846,944  20,553,673   \n",
       "\n",
       "holiday  Thanksgiving      Total  \n",
       "year                              \n",
       "2019        9,090,478 59,071,401  \n",
       "2020        3,364,358 22,489,694  \n",
       "2021              NaN  1,998,871  \n",
       "Total      12,454,836 83,559,966  "
      ]
     },
     "execution_count": 30,
     "metadata": {},
     "output_type": "execute_result"
    }
   ],
   "source": [
    "import numpy as np\n",
    "\n",
    "tsa_melted_holiday_travel.assign(\n",
    "    holiday=lambda x: np.where(\n",
    "        x.holiday.str.contains('Christmas|New Year', regex=True), \n",
    "        x.holiday.str.replace('Day|Eve', '', regex=True).str.strip(), \n",
    "        x.holiday\n",
    "    )\n",
    ").pivot_table(\n",
    "    index='year', columns='holiday', \n",
    "    values='travelers', aggfunc='sum', \n",
    "    margins=True, margins_name='Total'\n",
    ")"
   ]
  },
  {
   "cell_type": "markdown",
   "id": "ce5d1263-e50e-4760-9a9f-de5d476e110e",
   "metadata": {
    "slideshow": {
     "slide_type": "subslide"
    },
    "tags": []
   },
   "source": [
    "Before moving on, let's reset the display option:"
   ]
  },
  {
   "cell_type": "code",
   "execution_count": 31,
   "id": "17df79b9-6634-4613-8205-047abe035098",
   "metadata": {},
   "outputs": [],
   "source": [
    "pd.reset_option('display.float_format')"
   ]
  },
  {
   "cell_type": "markdown",
   "id": "8e8e9d4d-2b57-4a8b-9a97-611e521f2c38",
   "metadata": {
    "slideshow": {
     "slide_type": "fragment"
    },
    "tags": []
   },
   "source": [
    "*Tip: Read more about options in the documentation [here](https://pandas.pydata.org/pandas-docs/stable/user_guide/options.html).*"
   ]
  },
  {
   "cell_type": "markdown",
   "id": "f6ba37d0-a219-42f7-97d4-6275d663c524",
   "metadata": {
    "slideshow": {
     "slide_type": "subslide"
    },
    "tags": []
   },
   "source": [
    "### Crosstabs\n",
    "The `pd.crosstab()` function provides an easy way to create a frequency table:"
   ]
  },
  {
   "cell_type": "code",
   "execution_count": 32,
   "id": "177e3825-4b0f-45f1-a118-9f76bf0a06cb",
   "metadata": {},
   "outputs": [
    {
     "data": {
      "text/html": [
       "<div>\n",
       "<style scoped>\n",
       "    .dataframe tbody tr th:only-of-type {\n",
       "        vertical-align: middle;\n",
       "    }\n",
       "\n",
       "    .dataframe tbody tr th {\n",
       "        vertical-align: top;\n",
       "    }\n",
       "\n",
       "    .dataframe thead th {\n",
       "        text-align: right;\n",
       "    }\n",
       "</style>\n",
       "<table border=\"1\" class=\"dataframe\">\n",
       "  <thead>\n",
       "    <tr style=\"text-align: right;\">\n",
       "      <th>year</th>\n",
       "      <th>2019</th>\n",
       "      <th>2020</th>\n",
       "      <th>2021</th>\n",
       "    </tr>\n",
       "    <tr>\n",
       "      <th>travel_volume</th>\n",
       "      <th></th>\n",
       "      <th></th>\n",
       "      <th></th>\n",
       "    </tr>\n",
       "  </thead>\n",
       "  <tbody>\n",
       "    <tr>\n",
       "      <th>low</th>\n",
       "      <td>0</td>\n",
       "      <td>277</td>\n",
       "      <td>54</td>\n",
       "    </tr>\n",
       "    <tr>\n",
       "      <th>medium</th>\n",
       "      <td>42</td>\n",
       "      <td>44</td>\n",
       "      <td>80</td>\n",
       "    </tr>\n",
       "    <tr>\n",
       "      <th>high</th>\n",
       "      <td>323</td>\n",
       "      <td>44</td>\n",
       "      <td>0</td>\n",
       "    </tr>\n",
       "  </tbody>\n",
       "</table>\n",
       "</div>"
      ],
      "text/plain": [
       "year           2019  2020  2021\n",
       "travel_volume                  \n",
       "low               0   277    54\n",
       "medium           42    44    80\n",
       "high            323    44     0"
      ]
     },
     "execution_count": 32,
     "metadata": {},
     "output_type": "execute_result"
    }
   ],
   "source": [
    "pd.crosstab(\n",
    "    index=pd.cut(\n",
    "        tsa_melted_holiday_travel.travelers, \n",
    "        bins=3, labels=['low', 'medium', 'high']\n",
    "    ),\n",
    "    columns=tsa_melted_holiday_travel.year,\n",
    "    rownames=['travel_volume']\n",
    ")"
   ]
  },
  {
   "cell_type": "markdown",
   "id": "900cb77c-7003-4472-a4b4-f0381cf86a57",
   "metadata": {
    "slideshow": {
     "slide_type": "fragment"
    },
    "tags": []
   },
   "source": [
    "*Tip: The `pd.crosstab()` function supports other aggregations provided you pass in the data to aggregate as `values` and specify the aggregation with `aggfunc`. You can also add subtotals and normalize the data. See the [documentation](https://pandas.pydata.org/pandas-docs/stable/reference/api/pandas.crosstab.html) for more information.*"
   ]
  },
  {
   "cell_type": "markdown",
   "id": "74d93b19-2cd3-4bbf-9a65-834216d04cb0",
   "metadata": {
    "slideshow": {
     "slide_type": "subslide"
    },
    "tags": []
   },
   "source": [
    "### Group by operations\n",
    "Rather than perform aggregations, like `mean()` or `describe()`, on the full dataset at once, we can perform these calculations per group by first calling `groupby()`:"
   ]
  },
  {
   "cell_type": "code",
   "execution_count": 33,
   "id": "feb769ba-cde8-43c7-94c7-45c5fc237861",
   "metadata": {},
   "outputs": [
    {
     "data": {
      "text/html": [
       "<div>\n",
       "<style scoped>\n",
       "    .dataframe tbody tr th:only-of-type {\n",
       "        vertical-align: middle;\n",
       "    }\n",
       "\n",
       "    .dataframe tbody tr th {\n",
       "        vertical-align: top;\n",
       "    }\n",
       "\n",
       "    .dataframe thead tr th {\n",
       "        text-align: left;\n",
       "    }\n",
       "\n",
       "    .dataframe thead tr:last-of-type th {\n",
       "        text-align: right;\n",
       "    }\n",
       "</style>\n",
       "<table border=\"1\" class=\"dataframe\">\n",
       "  <thead>\n",
       "    <tr>\n",
       "      <th></th>\n",
       "      <th colspan=\"8\" halign=\"left\">travelers</th>\n",
       "    </tr>\n",
       "    <tr>\n",
       "      <th></th>\n",
       "      <th>count</th>\n",
       "      <th>mean</th>\n",
       "      <th>std</th>\n",
       "      <th>min</th>\n",
       "      <th>25%</th>\n",
       "      <th>50%</th>\n",
       "      <th>75%</th>\n",
       "      <th>max</th>\n",
       "    </tr>\n",
       "    <tr>\n",
       "      <th>year</th>\n",
       "      <th></th>\n",
       "      <th></th>\n",
       "      <th></th>\n",
       "      <th></th>\n",
       "      <th></th>\n",
       "      <th></th>\n",
       "      <th></th>\n",
       "      <th></th>\n",
       "    </tr>\n",
       "  </thead>\n",
       "  <tbody>\n",
       "    <tr>\n",
       "      <th>2019</th>\n",
       "      <td>365.0</td>\n",
       "      <td>2.309482e+06</td>\n",
       "      <td>285061.490784</td>\n",
       "      <td>1534386.0</td>\n",
       "      <td>2091116.0</td>\n",
       "      <td>2358007.0</td>\n",
       "      <td>2538384.00</td>\n",
       "      <td>2882915.0</td>\n",
       "    </tr>\n",
       "    <tr>\n",
       "      <th>2020</th>\n",
       "      <td>365.0</td>\n",
       "      <td>8.818674e+05</td>\n",
       "      <td>639775.194297</td>\n",
       "      <td>87534.0</td>\n",
       "      <td>507129.0</td>\n",
       "      <td>718310.0</td>\n",
       "      <td>983745.00</td>\n",
       "      <td>2507588.0</td>\n",
       "    </tr>\n",
       "    <tr>\n",
       "      <th>2021</th>\n",
       "      <td>134.0</td>\n",
       "      <td>1.112632e+06</td>\n",
       "      <td>338040.673782</td>\n",
       "      <td>468933.0</td>\n",
       "      <td>807156.0</td>\n",
       "      <td>1117391.0</td>\n",
       "      <td>1409377.75</td>\n",
       "      <td>1743515.0</td>\n",
       "    </tr>\n",
       "  </tbody>\n",
       "</table>\n",
       "</div>"
      ],
      "text/plain": [
       "     travelers                                                                \\\n",
       "         count          mean            std        min        25%        50%   \n",
       "year                                                                           \n",
       "2019     365.0  2.309482e+06  285061.490784  1534386.0  2091116.0  2358007.0   \n",
       "2020     365.0  8.818674e+05  639775.194297    87534.0   507129.0   718310.0   \n",
       "2021     134.0  1.112632e+06  338040.673782   468933.0   807156.0  1117391.0   \n",
       "\n",
       "                             \n",
       "             75%        max  \n",
       "year                         \n",
       "2019  2538384.00  2882915.0  \n",
       "2020   983745.00  2507588.0  \n",
       "2021  1409377.75  1743515.0  "
      ]
     },
     "execution_count": 33,
     "metadata": {},
     "output_type": "execute_result"
    }
   ],
   "source": [
    "tsa_melted_holiday_travel.groupby('year').describe()"
   ]
  },
  {
   "cell_type": "markdown",
   "id": "4c20d991-2579-44f4-b66f-f953ed6b9b8b",
   "metadata": {
    "slideshow": {
     "slide_type": "subslide"
    },
    "tags": []
   },
   "source": [
    "Groups can also be used to perform separate calculations per subset of the data. For example, we can find the highest-volume travel day per year using `rank()`:"
   ]
  },
  {
   "cell_type": "code",
   "execution_count": 34,
   "id": "6487feec-cb63-4d88-a9a9-2804940d63cf",
   "metadata": {},
   "outputs": [
    {
     "data": {
      "text/html": [
       "<div>\n",
       "<style scoped>\n",
       "    .dataframe tbody tr th:only-of-type {\n",
       "        vertical-align: middle;\n",
       "    }\n",
       "\n",
       "    .dataframe tbody tr th {\n",
       "        vertical-align: top;\n",
       "    }\n",
       "\n",
       "    .dataframe thead th {\n",
       "        text-align: right;\n",
       "    }\n",
       "</style>\n",
       "<table border=\"1\" class=\"dataframe\">\n",
       "  <thead>\n",
       "    <tr style=\"text-align: right;\">\n",
       "      <th></th>\n",
       "      <th>date</th>\n",
       "      <th>year</th>\n",
       "      <th>travelers</th>\n",
       "      <th>holiday</th>\n",
       "      <th>travel_volume_rank</th>\n",
       "    </tr>\n",
       "  </thead>\n",
       "  <tbody>\n",
       "    <tr>\n",
       "      <th>896</th>\n",
       "      <td>2019-11-29</td>\n",
       "      <td>2019</td>\n",
       "      <td>2882915.0</td>\n",
       "      <td>Thanksgiving</td>\n",
       "      <td>1.0</td>\n",
       "    </tr>\n",
       "    <tr>\n",
       "      <th>456</th>\n",
       "      <td>2020-02-12</td>\n",
       "      <td>2020</td>\n",
       "      <td>2507588.0</td>\n",
       "      <td>NaN</td>\n",
       "      <td>1.0</td>\n",
       "    </tr>\n",
       "    <tr>\n",
       "      <th>1</th>\n",
       "      <td>2021-05-13</td>\n",
       "      <td>2021</td>\n",
       "      <td>1743515.0</td>\n",
       "      <td>NaN</td>\n",
       "      <td>1.0</td>\n",
       "    </tr>\n",
       "  </tbody>\n",
       "</table>\n",
       "</div>"
      ],
      "text/plain": [
       "          date  year  travelers       holiday  travel_volume_rank\n",
       "896 2019-11-29  2019  2882915.0  Thanksgiving                 1.0\n",
       "456 2020-02-12  2020  2507588.0           NaN                 1.0\n",
       "1   2021-05-13  2021  1743515.0           NaN                 1.0"
      ]
     },
     "execution_count": 34,
     "metadata": {},
     "output_type": "execute_result"
    }
   ],
   "source": [
    "tsa_melted_holiday_travel.assign(\n",
    "    travel_volume_rank=lambda x: x.groupby('year').travelers.rank(ascending=False)\n",
    ").sort_values(['travel_volume_rank', 'year']).head(3)"
   ]
  },
  {
   "cell_type": "markdown",
   "id": "82c92d64-7f14-4741-a0b2-f32b8aedc233",
   "metadata": {
    "slideshow": {
     "slide_type": "subslide"
    },
    "tags": []
   },
   "source": [
    "The previous two examples called a single method on the grouped data, but using the `agg()` method we can specify any number of them:"
   ]
  },
  {
   "cell_type": "code",
   "execution_count": 35,
   "id": "b04bdf3b-8f96-4dd4-a158-3dfa8097f04c",
   "metadata": {},
   "outputs": [
    {
     "data": {
      "text/html": [
       "<div>\n",
       "<style scoped>\n",
       "    .dataframe tbody tr th:only-of-type {\n",
       "        vertical-align: middle;\n",
       "    }\n",
       "\n",
       "    .dataframe tbody tr th {\n",
       "        vertical-align: top;\n",
       "    }\n",
       "\n",
       "    .dataframe thead tr th {\n",
       "        text-align: left;\n",
       "    }\n",
       "\n",
       "    .dataframe thead tr:last-of-type th {\n",
       "        text-align: right;\n",
       "    }\n",
       "</style>\n",
       "<table border=\"1\" class=\"dataframe\">\n",
       "  <thead>\n",
       "    <tr>\n",
       "      <th></th>\n",
       "      <th colspan=\"2\" halign=\"left\">travelers</th>\n",
       "      <th colspan=\"2\" halign=\"left\">holiday_travelers</th>\n",
       "      <th colspan=\"2\" halign=\"left\">non_holiday_travelers</th>\n",
       "    </tr>\n",
       "    <tr>\n",
       "      <th></th>\n",
       "      <th>mean</th>\n",
       "      <th>std</th>\n",
       "      <th>mean</th>\n",
       "      <th>std</th>\n",
       "      <th>mean</th>\n",
       "      <th>std</th>\n",
       "    </tr>\n",
       "    <tr>\n",
       "      <th>year</th>\n",
       "      <th></th>\n",
       "      <th></th>\n",
       "      <th></th>\n",
       "      <th></th>\n",
       "      <th></th>\n",
       "      <th></th>\n",
       "    </tr>\n",
       "  </thead>\n",
       "  <tbody>\n",
       "    <tr>\n",
       "      <th>2019</th>\n",
       "      <td>2.309482e+06</td>\n",
       "      <td>285061.490784</td>\n",
       "      <td>2.271977e+06</td>\n",
       "      <td>303021.675751</td>\n",
       "      <td>2.312359e+06</td>\n",
       "      <td>283906.226598</td>\n",
       "    </tr>\n",
       "    <tr>\n",
       "      <th>2020</th>\n",
       "      <td>8.818674e+05</td>\n",
       "      <td>639775.194297</td>\n",
       "      <td>8.649882e+05</td>\n",
       "      <td>489938.240989</td>\n",
       "      <td>8.831619e+05</td>\n",
       "      <td>650399.772930</td>\n",
       "    </tr>\n",
       "    <tr>\n",
       "      <th>2021</th>\n",
       "      <td>1.112632e+06</td>\n",
       "      <td>338040.673782</td>\n",
       "      <td>9.994355e+05</td>\n",
       "      <td>273573.249680</td>\n",
       "      <td>1.114347e+06</td>\n",
       "      <td>339479.298658</td>\n",
       "    </tr>\n",
       "  </tbody>\n",
       "</table>\n",
       "</div>"
      ],
      "text/plain": [
       "         travelers                holiday_travelers                 \\\n",
       "              mean            std              mean            std   \n",
       "year                                                                 \n",
       "2019  2.309482e+06  285061.490784      2.271977e+06  303021.675751   \n",
       "2020  8.818674e+05  639775.194297      8.649882e+05  489938.240989   \n",
       "2021  1.112632e+06  338040.673782      9.994355e+05  273573.249680   \n",
       "\n",
       "     non_holiday_travelers                 \n",
       "                      mean            std  \n",
       "year                                       \n",
       "2019          2.312359e+06  283906.226598  \n",
       "2020          8.831619e+05  650399.772930  \n",
       "2021          1.114347e+06  339479.298658  "
      ]
     },
     "execution_count": 35,
     "metadata": {},
     "output_type": "execute_result"
    }
   ],
   "source": [
    "tsa_melted_holiday_travel.assign(\n",
    "    holiday_travelers=lambda x: np.where(~x.holiday.isna(), x.travelers, np.nan),\n",
    "    non_holiday_travelers=lambda x: np.where(x.holiday.isna(), x.travelers, np.nan)\n",
    ").groupby('year').agg(['mean', 'std'])"
   ]
  },
  {
   "cell_type": "markdown",
   "id": "f9b57329-d84d-4350-8bef-ff6769c78cd7",
   "metadata": {
    "slideshow": {
     "slide_type": "subslide"
    },
    "tags": []
   },
   "source": [
    "In addition, we can specify which aggregations to perform on each column:"
   ]
  },
  {
   "cell_type": "code",
   "execution_count": 36,
   "id": "07871965-12c3-4f45-855c-cd22c5b57d23",
   "metadata": {},
   "outputs": [
    {
     "data": {
      "text/html": [
       "<div>\n",
       "<style scoped>\n",
       "    .dataframe tbody tr th:only-of-type {\n",
       "        vertical-align: middle;\n",
       "    }\n",
       "\n",
       "    .dataframe tbody tr th {\n",
       "        vertical-align: top;\n",
       "    }\n",
       "\n",
       "    .dataframe thead tr th {\n",
       "        text-align: left;\n",
       "    }\n",
       "\n",
       "    .dataframe thead tr:last-of-type th {\n",
       "        text-align: right;\n",
       "    }\n",
       "</style>\n",
       "<table border=\"1\" class=\"dataframe\">\n",
       "  <thead>\n",
       "    <tr>\n",
       "      <th></th>\n",
       "      <th colspan=\"2\" halign=\"left\">holiday_travelers</th>\n",
       "      <th colspan=\"2\" halign=\"left\">holiday</th>\n",
       "    </tr>\n",
       "    <tr>\n",
       "      <th></th>\n",
       "      <th>mean</th>\n",
       "      <th>std</th>\n",
       "      <th>nunique</th>\n",
       "      <th>count</th>\n",
       "    </tr>\n",
       "    <tr>\n",
       "      <th>year</th>\n",
       "      <th></th>\n",
       "      <th></th>\n",
       "      <th></th>\n",
       "      <th></th>\n",
       "    </tr>\n",
       "  </thead>\n",
       "  <tbody>\n",
       "    <tr>\n",
       "      <th>2019</th>\n",
       "      <td>2.271977e+06</td>\n",
       "      <td>303021.675751</td>\n",
       "      <td>8</td>\n",
       "      <td>26</td>\n",
       "    </tr>\n",
       "    <tr>\n",
       "      <th>2020</th>\n",
       "      <td>8.649882e+05</td>\n",
       "      <td>489938.240989</td>\n",
       "      <td>8</td>\n",
       "      <td>26</td>\n",
       "    </tr>\n",
       "    <tr>\n",
       "      <th>2021</th>\n",
       "      <td>9.994355e+05</td>\n",
       "      <td>273573.249680</td>\n",
       "      <td>1</td>\n",
       "      <td>2</td>\n",
       "    </tr>\n",
       "  </tbody>\n",
       "</table>\n",
       "</div>"
      ],
      "text/plain": [
       "     holiday_travelers                holiday      \n",
       "                  mean            std nunique count\n",
       "year                                               \n",
       "2019      2.271977e+06  303021.675751       8    26\n",
       "2020      8.649882e+05  489938.240989       8    26\n",
       "2021      9.994355e+05  273573.249680       1     2"
      ]
     },
     "execution_count": 36,
     "metadata": {},
     "output_type": "execute_result"
    }
   ],
   "source": [
    "tsa_melted_holiday_travel.assign(\n",
    "    holiday_travelers=lambda x: np.where(~x.holiday.isna(), x.travelers, np.nan),\n",
    "    non_holiday_travelers=lambda x: np.where(x.holiday.isna(), x.travelers, np.nan)\n",
    ").groupby('year').agg({\n",
    "    'holiday_travelers': ['mean', 'std'], \n",
    "    'holiday': ['nunique', 'count']\n",
    "})"
   ]
  },
  {
   "cell_type": "markdown",
   "id": "af031c62-b9c0-48b6-b655-2885a54ead43",
   "metadata": {
    "slideshow": {
     "slide_type": "subslide"
    },
    "tags": []
   },
   "source": [
    "We are only scratching the surface; some additional functionalities to be aware of include the following:\n",
    "- We can group by multiple columns &ndash; this creates a hierarchical index.\n",
    "- Groups can be excluded from calculations with the `filter()` method.\n",
    "- We can group on content in the index using the `level` or `name` parameters e.g. `groupby(level=0)` or `groupby(name='year')`.\n",
    "- We can group by date ranges if we use a `pd.Grouper()` object."
   ]
  },
  {
   "cell_type": "markdown",
   "id": "654f2293-838e-4881-bcf1-eb25e782bc24",
   "metadata": {
    "slideshow": {
     "slide_type": "fragment"
    },
    "tags": []
   },
   "source": [
    "Be sure to check out the [documentation](https://pandas.pydata.org/pandas-docs/stable/reference/api/pandas.DataFrame.groupby.html) for more details."
   ]
  },
  {
   "cell_type": "markdown",
   "id": "ebae6837-e2fe-4cbf-8f0d-68b25a45036a",
   "metadata": {
    "slideshow": {
     "slide_type": "slide"
    },
    "tags": []
   },
   "source": [
    "## Learning Path\n",
    "\n",
    "1. Data cleaning\n",
    "2. Working with the index\n",
    "3. Reshaping data\n",
    "4. Aggregations and grouping\n",
    "5. **Time series**"
   ]
  },
  {
   "cell_type": "markdown",
   "id": "6dc6cb90-17db-41f8-a67d-05d5128186be",
   "metadata": {
    "slideshow": {
     "slide_type": "slide"
    },
    "tags": []
   },
   "source": [
    "## Time series\n",
    "\n",
    "When working with time series data, pandas provides us with additional functionality to not just compare the observations in our dataset, but to use their relationship in time to analyze the data. In this section, we will see a few such operations for selecting date/time ranges, calculating changes over time, performing window calculations, and resampling the data to different date/time intervals."
   ]
  },
  {
   "cell_type": "markdown",
   "id": "8a469a96-9ed3-4256-9fb8-8b7f1871ed63",
   "metadata": {
    "slideshow": {
     "slide_type": "subslide"
    },
    "tags": []
   },
   "source": [
    "### Selecting based on date and time\n",
    "\n",
    "Let's switch back to the `taxis` dataset, which has timestamps of pickups and dropoffs. First, we will set the `dropoff` column as the index and sort the data:"
   ]
  },
  {
   "cell_type": "code",
   "execution_count": 37,
   "id": "faf650aa-1da5-4e4f-ac5f-1a564da22aa1",
   "metadata": {},
   "outputs": [],
   "source": [
    "taxis.set_index('dropoff', inplace=True)\n",
    "taxis.sort_index(inplace=True)"
   ]
  },
  {
   "cell_type": "markdown",
   "id": "0a424c09-7978-4946-8599-03c5402628e0",
   "metadata": {
    "slideshow": {
     "slide_type": "subslide"
    },
    "tags": []
   },
   "source": [
    "We saw earlier that we can slice on the datetimes:"
   ]
  },
  {
   "cell_type": "code",
   "execution_count": 38,
   "id": "9ffb09d0-876c-40bb-aa85-9980d32c8384",
   "metadata": {},
   "outputs": [
    {
     "data": {
      "text/html": [
       "<div>\n",
       "<style scoped>\n",
       "    .dataframe tbody tr th:only-of-type {\n",
       "        vertical-align: middle;\n",
       "    }\n",
       "\n",
       "    .dataframe tbody tr th {\n",
       "        vertical-align: top;\n",
       "    }\n",
       "\n",
       "    .dataframe thead th {\n",
       "        text-align: right;\n",
       "    }\n",
       "</style>\n",
       "<table border=\"1\" class=\"dataframe\">\n",
       "  <thead>\n",
       "    <tr style=\"text-align: right;\">\n",
       "      <th></th>\n",
       "      <th>pickup</th>\n",
       "      <th>passenger_count</th>\n",
       "      <th>trip_distance</th>\n",
       "      <th>payment_type</th>\n",
       "      <th>fare_amount</th>\n",
       "      <th>extra</th>\n",
       "      <th>mta_tax</th>\n",
       "      <th>tip_amount</th>\n",
       "      <th>tolls_amount</th>\n",
       "      <th>improvement_surcharge</th>\n",
       "      <th>total_amount</th>\n",
       "      <th>congestion_surcharge</th>\n",
       "      <th>elapsed_time</th>\n",
       "      <th>cost_before_tip</th>\n",
       "      <th>tip_pct</th>\n",
       "      <th>fees</th>\n",
       "      <th>avg_speed</th>\n",
       "    </tr>\n",
       "    <tr>\n",
       "      <th>dropoff</th>\n",
       "      <th></th>\n",
       "      <th></th>\n",
       "      <th></th>\n",
       "      <th></th>\n",
       "      <th></th>\n",
       "      <th></th>\n",
       "      <th></th>\n",
       "      <th></th>\n",
       "      <th></th>\n",
       "      <th></th>\n",
       "      <th></th>\n",
       "      <th></th>\n",
       "      <th></th>\n",
       "      <th></th>\n",
       "      <th></th>\n",
       "      <th></th>\n",
       "      <th></th>\n",
       "    </tr>\n",
       "  </thead>\n",
       "  <tbody>\n",
       "    <tr>\n",
       "      <th>2019-10-24 12:30:08</th>\n",
       "      <td>2019-10-23 13:25:42</td>\n",
       "      <td>4</td>\n",
       "      <td>0.76</td>\n",
       "      <td>2</td>\n",
       "      <td>5.0</td>\n",
       "      <td>1.0</td>\n",
       "      <td>0.5</td>\n",
       "      <td>0.00</td>\n",
       "      <td>0.0</td>\n",
       "      <td>0.3</td>\n",
       "      <td>9.30</td>\n",
       "      <td>2.5</td>\n",
       "      <td>0 days 23:04:26</td>\n",
       "      <td>9.3</td>\n",
       "      <td>0.0</td>\n",
       "      <td>4.3</td>\n",
       "      <td>0.032938</td>\n",
       "    </tr>\n",
       "    <tr>\n",
       "      <th>2019-10-24 12:42:01</th>\n",
       "      <td>2019-10-23 13:34:03</td>\n",
       "      <td>2</td>\n",
       "      <td>1.58</td>\n",
       "      <td>1</td>\n",
       "      <td>7.5</td>\n",
       "      <td>1.0</td>\n",
       "      <td>0.5</td>\n",
       "      <td>2.36</td>\n",
       "      <td>0.0</td>\n",
       "      <td>0.3</td>\n",
       "      <td>14.16</td>\n",
       "      <td>2.5</td>\n",
       "      <td>0 days 23:07:58</td>\n",
       "      <td>11.8</td>\n",
       "      <td>0.2</td>\n",
       "      <td>4.3</td>\n",
       "      <td>0.068301</td>\n",
       "    </tr>\n",
       "  </tbody>\n",
       "</table>\n",
       "</div>"
      ],
      "text/plain": [
       "                                 pickup  passenger_count  trip_distance  \\\n",
       "dropoff                                                                   \n",
       "2019-10-24 12:30:08 2019-10-23 13:25:42                4           0.76   \n",
       "2019-10-24 12:42:01 2019-10-23 13:34:03                2           1.58   \n",
       "\n",
       "                     payment_type  fare_amount  extra  mta_tax  tip_amount  \\\n",
       "dropoff                                                                      \n",
       "2019-10-24 12:30:08             2          5.0    1.0      0.5        0.00   \n",
       "2019-10-24 12:42:01             1          7.5    1.0      0.5        2.36   \n",
       "\n",
       "                     tolls_amount  improvement_surcharge  total_amount  \\\n",
       "dropoff                                                                  \n",
       "2019-10-24 12:30:08           0.0                    0.3          9.30   \n",
       "2019-10-24 12:42:01           0.0                    0.3         14.16   \n",
       "\n",
       "                     congestion_surcharge    elapsed_time  cost_before_tip  \\\n",
       "dropoff                                                                      \n",
       "2019-10-24 12:30:08                   2.5 0 days 23:04:26              9.3   \n",
       "2019-10-24 12:42:01                   2.5 0 days 23:07:58             11.8   \n",
       "\n",
       "                     tip_pct  fees  avg_speed  \n",
       "dropoff                                        \n",
       "2019-10-24 12:30:08      0.0   4.3   0.032938  \n",
       "2019-10-24 12:42:01      0.2   4.3   0.068301  "
      ]
     },
     "execution_count": 38,
     "metadata": {},
     "output_type": "execute_result"
    }
   ],
   "source": [
    "taxis['2019-10-24 12':'2019-10-24 13']"
   ]
  },
  {
   "cell_type": "markdown",
   "id": "82511690-b84f-40a0-b3ab-2c8e90cb9c72",
   "metadata": {
    "slideshow": {
     "slide_type": "subslide"
    },
    "tags": []
   },
   "source": [
    "We can also represent this range with shorthand. Note that we must use `loc[]` here:"
   ]
  },
  {
   "cell_type": "code",
   "execution_count": 39,
   "id": "18c9050c-52fd-47de-a628-5c03d07ea108",
   "metadata": {},
   "outputs": [
    {
     "data": {
      "text/html": [
       "<div>\n",
       "<style scoped>\n",
       "    .dataframe tbody tr th:only-of-type {\n",
       "        vertical-align: middle;\n",
       "    }\n",
       "\n",
       "    .dataframe tbody tr th {\n",
       "        vertical-align: top;\n",
       "    }\n",
       "\n",
       "    .dataframe thead th {\n",
       "        text-align: right;\n",
       "    }\n",
       "</style>\n",
       "<table border=\"1\" class=\"dataframe\">\n",
       "  <thead>\n",
       "    <tr style=\"text-align: right;\">\n",
       "      <th></th>\n",
       "      <th>pickup</th>\n",
       "      <th>passenger_count</th>\n",
       "      <th>trip_distance</th>\n",
       "      <th>payment_type</th>\n",
       "      <th>fare_amount</th>\n",
       "      <th>extra</th>\n",
       "      <th>mta_tax</th>\n",
       "      <th>tip_amount</th>\n",
       "      <th>tolls_amount</th>\n",
       "      <th>improvement_surcharge</th>\n",
       "      <th>total_amount</th>\n",
       "      <th>congestion_surcharge</th>\n",
       "      <th>elapsed_time</th>\n",
       "      <th>cost_before_tip</th>\n",
       "      <th>tip_pct</th>\n",
       "      <th>fees</th>\n",
       "      <th>avg_speed</th>\n",
       "    </tr>\n",
       "    <tr>\n",
       "      <th>dropoff</th>\n",
       "      <th></th>\n",
       "      <th></th>\n",
       "      <th></th>\n",
       "      <th></th>\n",
       "      <th></th>\n",
       "      <th></th>\n",
       "      <th></th>\n",
       "      <th></th>\n",
       "      <th></th>\n",
       "      <th></th>\n",
       "      <th></th>\n",
       "      <th></th>\n",
       "      <th></th>\n",
       "      <th></th>\n",
       "      <th></th>\n",
       "      <th></th>\n",
       "      <th></th>\n",
       "    </tr>\n",
       "  </thead>\n",
       "  <tbody>\n",
       "    <tr>\n",
       "      <th>2019-10-24 12:30:08</th>\n",
       "      <td>2019-10-23 13:25:42</td>\n",
       "      <td>4</td>\n",
       "      <td>0.76</td>\n",
       "      <td>2</td>\n",
       "      <td>5.0</td>\n",
       "      <td>1.0</td>\n",
       "      <td>0.5</td>\n",
       "      <td>0.00</td>\n",
       "      <td>0.0</td>\n",
       "      <td>0.3</td>\n",
       "      <td>9.30</td>\n",
       "      <td>2.5</td>\n",
       "      <td>0 days 23:04:26</td>\n",
       "      <td>9.3</td>\n",
       "      <td>0.0</td>\n",
       "      <td>4.3</td>\n",
       "      <td>0.032938</td>\n",
       "    </tr>\n",
       "    <tr>\n",
       "      <th>2019-10-24 12:42:01</th>\n",
       "      <td>2019-10-23 13:34:03</td>\n",
       "      <td>2</td>\n",
       "      <td>1.58</td>\n",
       "      <td>1</td>\n",
       "      <td>7.5</td>\n",
       "      <td>1.0</td>\n",
       "      <td>0.5</td>\n",
       "      <td>2.36</td>\n",
       "      <td>0.0</td>\n",
       "      <td>0.3</td>\n",
       "      <td>14.16</td>\n",
       "      <td>2.5</td>\n",
       "      <td>0 days 23:07:58</td>\n",
       "      <td>11.8</td>\n",
       "      <td>0.2</td>\n",
       "      <td>4.3</td>\n",
       "      <td>0.068301</td>\n",
       "    </tr>\n",
       "  </tbody>\n",
       "</table>\n",
       "</div>"
      ],
      "text/plain": [
       "                                 pickup  passenger_count  trip_distance  \\\n",
       "dropoff                                                                   \n",
       "2019-10-24 12:30:08 2019-10-23 13:25:42                4           0.76   \n",
       "2019-10-24 12:42:01 2019-10-23 13:34:03                2           1.58   \n",
       "\n",
       "                     payment_type  fare_amount  extra  mta_tax  tip_amount  \\\n",
       "dropoff                                                                      \n",
       "2019-10-24 12:30:08             2          5.0    1.0      0.5        0.00   \n",
       "2019-10-24 12:42:01             1          7.5    1.0      0.5        2.36   \n",
       "\n",
       "                     tolls_amount  improvement_surcharge  total_amount  \\\n",
       "dropoff                                                                  \n",
       "2019-10-24 12:30:08           0.0                    0.3          9.30   \n",
       "2019-10-24 12:42:01           0.0                    0.3         14.16   \n",
       "\n",
       "                     congestion_surcharge    elapsed_time  cost_before_tip  \\\n",
       "dropoff                                                                      \n",
       "2019-10-24 12:30:08                   2.5 0 days 23:04:26              9.3   \n",
       "2019-10-24 12:42:01                   2.5 0 days 23:07:58             11.8   \n",
       "\n",
       "                     tip_pct  fees  avg_speed  \n",
       "dropoff                                        \n",
       "2019-10-24 12:30:08      0.0   4.3   0.032938  \n",
       "2019-10-24 12:42:01      0.2   4.3   0.068301  "
      ]
     },
     "execution_count": 39,
     "metadata": {},
     "output_type": "execute_result"
    }
   ],
   "source": [
    "taxis.loc['2019-10-24 12']"
   ]
  },
  {
   "cell_type": "markdown",
   "id": "112cc144-f809-48bd-87a1-3333fe1921a7",
   "metadata": {
    "slideshow": {
     "slide_type": "fragment"
    },
    "tags": []
   },
   "source": [
    "However, if we want to look at this time range across days, we need another strategy."
   ]
  },
  {
   "cell_type": "markdown",
   "id": "0550c385-2705-4b5a-9a5b-53284e0402db",
   "metadata": {
    "slideshow": {
     "slide_type": "subslide"
    },
    "tags": []
   },
   "source": [
    "We can pull out the dropoffs that happened between a certain time range on *any* day with the `between_time()` method:"
   ]
  },
  {
   "cell_type": "code",
   "execution_count": 40,
   "id": "f14b6804-ea6f-43c6-a260-83b576d5de4e",
   "metadata": {},
   "outputs": [
    {
     "data": {
      "text/html": [
       "<div>\n",
       "<style scoped>\n",
       "    .dataframe tbody tr th:only-of-type {\n",
       "        vertical-align: middle;\n",
       "    }\n",
       "\n",
       "    .dataframe tbody tr th {\n",
       "        vertical-align: top;\n",
       "    }\n",
       "\n",
       "    .dataframe thead th {\n",
       "        text-align: right;\n",
       "    }\n",
       "</style>\n",
       "<table border=\"1\" class=\"dataframe\">\n",
       "  <thead>\n",
       "    <tr style=\"text-align: right;\">\n",
       "      <th></th>\n",
       "      <th>pickup</th>\n",
       "      <th>passenger_count</th>\n",
       "      <th>trip_distance</th>\n",
       "      <th>payment_type</th>\n",
       "      <th>fare_amount</th>\n",
       "      <th>extra</th>\n",
       "      <th>mta_tax</th>\n",
       "      <th>tip_amount</th>\n",
       "      <th>tolls_amount</th>\n",
       "      <th>improvement_surcharge</th>\n",
       "      <th>total_amount</th>\n",
       "      <th>congestion_surcharge</th>\n",
       "      <th>elapsed_time</th>\n",
       "      <th>cost_before_tip</th>\n",
       "      <th>tip_pct</th>\n",
       "      <th>fees</th>\n",
       "      <th>avg_speed</th>\n",
       "    </tr>\n",
       "    <tr>\n",
       "      <th>dropoff</th>\n",
       "      <th></th>\n",
       "      <th></th>\n",
       "      <th></th>\n",
       "      <th></th>\n",
       "      <th></th>\n",
       "      <th></th>\n",
       "      <th></th>\n",
       "      <th></th>\n",
       "      <th></th>\n",
       "      <th></th>\n",
       "      <th></th>\n",
       "      <th></th>\n",
       "      <th></th>\n",
       "      <th></th>\n",
       "      <th></th>\n",
       "      <th></th>\n",
       "      <th></th>\n",
       "    </tr>\n",
       "  </thead>\n",
       "  <tbody>\n",
       "    <tr>\n",
       "      <th>2019-10-23 12:53:49</th>\n",
       "      <td>2019-10-23 12:35:27</td>\n",
       "      <td>5</td>\n",
       "      <td>2.49</td>\n",
       "      <td>1</td>\n",
       "      <td>13.5</td>\n",
       "      <td>1.0</td>\n",
       "      <td>0.5</td>\n",
       "      <td>2.20</td>\n",
       "      <td>0.0</td>\n",
       "      <td>0.3</td>\n",
       "      <td>20.00</td>\n",
       "      <td>2.5</td>\n",
       "      <td>0 days 00:18:22</td>\n",
       "      <td>17.8</td>\n",
       "      <td>0.123596</td>\n",
       "      <td>4.3</td>\n",
       "      <td>8.134301</td>\n",
       "    </tr>\n",
       "    <tr>\n",
       "      <th>2019-10-24 12:30:08</th>\n",
       "      <td>2019-10-23 13:25:42</td>\n",
       "      <td>4</td>\n",
       "      <td>0.76</td>\n",
       "      <td>2</td>\n",
       "      <td>5.0</td>\n",
       "      <td>1.0</td>\n",
       "      <td>0.5</td>\n",
       "      <td>0.00</td>\n",
       "      <td>0.0</td>\n",
       "      <td>0.3</td>\n",
       "      <td>9.30</td>\n",
       "      <td>2.5</td>\n",
       "      <td>0 days 23:04:26</td>\n",
       "      <td>9.3</td>\n",
       "      <td>0.000000</td>\n",
       "      <td>4.3</td>\n",
       "      <td>0.032938</td>\n",
       "    </tr>\n",
       "    <tr>\n",
       "      <th>2019-10-24 12:42:01</th>\n",
       "      <td>2019-10-23 13:34:03</td>\n",
       "      <td>2</td>\n",
       "      <td>1.58</td>\n",
       "      <td>1</td>\n",
       "      <td>7.5</td>\n",
       "      <td>1.0</td>\n",
       "      <td>0.5</td>\n",
       "      <td>2.36</td>\n",
       "      <td>0.0</td>\n",
       "      <td>0.3</td>\n",
       "      <td>14.16</td>\n",
       "      <td>2.5</td>\n",
       "      <td>0 days 23:07:58</td>\n",
       "      <td>11.8</td>\n",
       "      <td>0.200000</td>\n",
       "      <td>4.3</td>\n",
       "      <td>0.068301</td>\n",
       "    </tr>\n",
       "  </tbody>\n",
       "</table>\n",
       "</div>"
      ],
      "text/plain": [
       "                                 pickup  passenger_count  trip_distance  \\\n",
       "dropoff                                                                   \n",
       "2019-10-23 12:53:49 2019-10-23 12:35:27                5           2.49   \n",
       "2019-10-24 12:30:08 2019-10-23 13:25:42                4           0.76   \n",
       "2019-10-24 12:42:01 2019-10-23 13:34:03                2           1.58   \n",
       "\n",
       "                     payment_type  fare_amount  extra  mta_tax  tip_amount  \\\n",
       "dropoff                                                                      \n",
       "2019-10-23 12:53:49             1         13.5    1.0      0.5        2.20   \n",
       "2019-10-24 12:30:08             2          5.0    1.0      0.5        0.00   \n",
       "2019-10-24 12:42:01             1          7.5    1.0      0.5        2.36   \n",
       "\n",
       "                     tolls_amount  improvement_surcharge  total_amount  \\\n",
       "dropoff                                                                  \n",
       "2019-10-23 12:53:49           0.0                    0.3         20.00   \n",
       "2019-10-24 12:30:08           0.0                    0.3          9.30   \n",
       "2019-10-24 12:42:01           0.0                    0.3         14.16   \n",
       "\n",
       "                     congestion_surcharge    elapsed_time  cost_before_tip  \\\n",
       "dropoff                                                                      \n",
       "2019-10-23 12:53:49                   2.5 0 days 00:18:22             17.8   \n",
       "2019-10-24 12:30:08                   2.5 0 days 23:04:26              9.3   \n",
       "2019-10-24 12:42:01                   2.5 0 days 23:07:58             11.8   \n",
       "\n",
       "                      tip_pct  fees  avg_speed  \n",
       "dropoff                                         \n",
       "2019-10-23 12:53:49  0.123596   4.3   8.134301  \n",
       "2019-10-24 12:30:08  0.000000   4.3   0.032938  \n",
       "2019-10-24 12:42:01  0.200000   4.3   0.068301  "
      ]
     },
     "execution_count": 40,
     "metadata": {},
     "output_type": "execute_result"
    }
   ],
   "source": [
    "taxis.between_time('12:00', '13:00')"
   ]
  },
  {
   "cell_type": "markdown",
   "id": "9fc39b46-d155-4b53-a32c-3c7eb2f82bab",
   "metadata": {
    "slideshow": {
     "slide_type": "fragment"
    },
    "tags": []
   },
   "source": [
    "*Tip: The `at_time()` method can be used to extract all entries at a given time (e.g. 12:35:27).*"
   ]
  },
  {
   "cell_type": "markdown",
   "id": "a52afa7f-0038-4e35-9cfe-b861feae7fb3",
   "metadata": {
    "slideshow": {
     "slide_type": "subslide"
    },
    "tags": []
   },
   "source": [
    "Finally, `head()` and `tail()` limit us to a number of rows, but we may be interested in rows within the first/last 2 hours (or any other time interval) of the data, in which case, we should use `first()` / `last()`:"
   ]
  },
  {
   "cell_type": "code",
   "execution_count": 41,
   "id": "f8efeac6-8eda-433a-88d1-f6f3189c2279",
   "metadata": {},
   "outputs": [
    {
     "data": {
      "text/html": [
       "<div>\n",
       "<style scoped>\n",
       "    .dataframe tbody tr th:only-of-type {\n",
       "        vertical-align: middle;\n",
       "    }\n",
       "\n",
       "    .dataframe tbody tr th {\n",
       "        vertical-align: top;\n",
       "    }\n",
       "\n",
       "    .dataframe thead th {\n",
       "        text-align: right;\n",
       "    }\n",
       "</style>\n",
       "<table border=\"1\" class=\"dataframe\">\n",
       "  <thead>\n",
       "    <tr style=\"text-align: right;\">\n",
       "      <th></th>\n",
       "      <th>pickup</th>\n",
       "      <th>passenger_count</th>\n",
       "      <th>trip_distance</th>\n",
       "      <th>payment_type</th>\n",
       "      <th>fare_amount</th>\n",
       "      <th>extra</th>\n",
       "      <th>mta_tax</th>\n",
       "      <th>tip_amount</th>\n",
       "      <th>tolls_amount</th>\n",
       "      <th>improvement_surcharge</th>\n",
       "      <th>total_amount</th>\n",
       "      <th>congestion_surcharge</th>\n",
       "      <th>elapsed_time</th>\n",
       "      <th>cost_before_tip</th>\n",
       "      <th>tip_pct</th>\n",
       "      <th>fees</th>\n",
       "      <th>avg_speed</th>\n",
       "    </tr>\n",
       "    <tr>\n",
       "      <th>dropoff</th>\n",
       "      <th></th>\n",
       "      <th></th>\n",
       "      <th></th>\n",
       "      <th></th>\n",
       "      <th></th>\n",
       "      <th></th>\n",
       "      <th></th>\n",
       "      <th></th>\n",
       "      <th></th>\n",
       "      <th></th>\n",
       "      <th></th>\n",
       "      <th></th>\n",
       "      <th></th>\n",
       "      <th></th>\n",
       "      <th></th>\n",
       "      <th></th>\n",
       "      <th></th>\n",
       "    </tr>\n",
       "  </thead>\n",
       "  <tbody>\n",
       "    <tr>\n",
       "      <th>2019-10-23 07:52:09</th>\n",
       "      <td>2019-10-23 07:48:58</td>\n",
       "      <td>1</td>\n",
       "      <td>0.67</td>\n",
       "      <td>2</td>\n",
       "      <td>4.5</td>\n",
       "      <td>1.0</td>\n",
       "      <td>0.5</td>\n",
       "      <td>0.0</td>\n",
       "      <td>0.0</td>\n",
       "      <td>0.3</td>\n",
       "      <td>8.8</td>\n",
       "      <td>2.5</td>\n",
       "      <td>0 days 00:03:11</td>\n",
       "      <td>8.8</td>\n",
       "      <td>0.00000</td>\n",
       "      <td>4.3</td>\n",
       "      <td>12.628272</td>\n",
       "    </tr>\n",
       "    <tr>\n",
       "      <th>2019-10-23 08:03:16</th>\n",
       "      <td>2019-10-23 07:05:34</td>\n",
       "      <td>3</td>\n",
       "      <td>14.68</td>\n",
       "      <td>1</td>\n",
       "      <td>50.0</td>\n",
       "      <td>1.0</td>\n",
       "      <td>0.5</td>\n",
       "      <td>4.0</td>\n",
       "      <td>0.0</td>\n",
       "      <td>0.3</td>\n",
       "      <td>55.8</td>\n",
       "      <td>0.0</td>\n",
       "      <td>0 days 00:57:42</td>\n",
       "      <td>51.8</td>\n",
       "      <td>0.07722</td>\n",
       "      <td>1.8</td>\n",
       "      <td>15.265165</td>\n",
       "    </tr>\n",
       "    <tr>\n",
       "      <th>2019-10-23 08:36:05</th>\n",
       "      <td>2019-10-23 08:18:47</td>\n",
       "      <td>1</td>\n",
       "      <td>2.39</td>\n",
       "      <td>2</td>\n",
       "      <td>12.5</td>\n",
       "      <td>1.0</td>\n",
       "      <td>0.5</td>\n",
       "      <td>0.0</td>\n",
       "      <td>0.0</td>\n",
       "      <td>0.3</td>\n",
       "      <td>16.8</td>\n",
       "      <td>2.5</td>\n",
       "      <td>0 days 00:17:18</td>\n",
       "      <td>16.8</td>\n",
       "      <td>0.00000</td>\n",
       "      <td>4.3</td>\n",
       "      <td>8.289017</td>\n",
       "    </tr>\n",
       "    <tr>\n",
       "      <th>2019-10-23 09:33:13</th>\n",
       "      <td>2019-10-23 09:27:16</td>\n",
       "      <td>2</td>\n",
       "      <td>1.11</td>\n",
       "      <td>2</td>\n",
       "      <td>6.0</td>\n",
       "      <td>1.0</td>\n",
       "      <td>0.5</td>\n",
       "      <td>0.0</td>\n",
       "      <td>0.0</td>\n",
       "      <td>0.3</td>\n",
       "      <td>7.8</td>\n",
       "      <td>0.0</td>\n",
       "      <td>0 days 00:05:57</td>\n",
       "      <td>7.8</td>\n",
       "      <td>0.00000</td>\n",
       "      <td>1.8</td>\n",
       "      <td>11.193277</td>\n",
       "    </tr>\n",
       "    <tr>\n",
       "      <th>2019-10-23 09:49:31</th>\n",
       "      <td>2019-10-23 09:47:25</td>\n",
       "      <td>2</td>\n",
       "      <td>0.47</td>\n",
       "      <td>2</td>\n",
       "      <td>52.0</td>\n",
       "      <td>4.5</td>\n",
       "      <td>0.5</td>\n",
       "      <td>0.0</td>\n",
       "      <td>0.0</td>\n",
       "      <td>0.3</td>\n",
       "      <td>59.8</td>\n",
       "      <td>2.5</td>\n",
       "      <td>0 days 00:02:06</td>\n",
       "      <td>59.8</td>\n",
       "      <td>0.00000</td>\n",
       "      <td>7.8</td>\n",
       "      <td>13.428571</td>\n",
       "    </tr>\n",
       "  </tbody>\n",
       "</table>\n",
       "</div>"
      ],
      "text/plain": [
       "                                 pickup  passenger_count  trip_distance  \\\n",
       "dropoff                                                                   \n",
       "2019-10-23 07:52:09 2019-10-23 07:48:58                1           0.67   \n",
       "2019-10-23 08:03:16 2019-10-23 07:05:34                3          14.68   \n",
       "2019-10-23 08:36:05 2019-10-23 08:18:47                1           2.39   \n",
       "2019-10-23 09:33:13 2019-10-23 09:27:16                2           1.11   \n",
       "2019-10-23 09:49:31 2019-10-23 09:47:25                2           0.47   \n",
       "\n",
       "                     payment_type  fare_amount  extra  mta_tax  tip_amount  \\\n",
       "dropoff                                                                      \n",
       "2019-10-23 07:52:09             2          4.5    1.0      0.5         0.0   \n",
       "2019-10-23 08:03:16             1         50.0    1.0      0.5         4.0   \n",
       "2019-10-23 08:36:05             2         12.5    1.0      0.5         0.0   \n",
       "2019-10-23 09:33:13             2          6.0    1.0      0.5         0.0   \n",
       "2019-10-23 09:49:31             2         52.0    4.5      0.5         0.0   \n",
       "\n",
       "                     tolls_amount  improvement_surcharge  total_amount  \\\n",
       "dropoff                                                                  \n",
       "2019-10-23 07:52:09           0.0                    0.3           8.8   \n",
       "2019-10-23 08:03:16           0.0                    0.3          55.8   \n",
       "2019-10-23 08:36:05           0.0                    0.3          16.8   \n",
       "2019-10-23 09:33:13           0.0                    0.3           7.8   \n",
       "2019-10-23 09:49:31           0.0                    0.3          59.8   \n",
       "\n",
       "                     congestion_surcharge    elapsed_time  cost_before_tip  \\\n",
       "dropoff                                                                      \n",
       "2019-10-23 07:52:09                   2.5 0 days 00:03:11              8.8   \n",
       "2019-10-23 08:03:16                   0.0 0 days 00:57:42             51.8   \n",
       "2019-10-23 08:36:05                   2.5 0 days 00:17:18             16.8   \n",
       "2019-10-23 09:33:13                   0.0 0 days 00:05:57              7.8   \n",
       "2019-10-23 09:49:31                   2.5 0 days 00:02:06             59.8   \n",
       "\n",
       "                     tip_pct  fees  avg_speed  \n",
       "dropoff                                        \n",
       "2019-10-23 07:52:09  0.00000   4.3  12.628272  \n",
       "2019-10-23 08:03:16  0.07722   1.8  15.265165  \n",
       "2019-10-23 08:36:05  0.00000   4.3   8.289017  \n",
       "2019-10-23 09:33:13  0.00000   1.8  11.193277  \n",
       "2019-10-23 09:49:31  0.00000   7.8  13.428571  "
      ]
     },
     "execution_count": 41,
     "metadata": {},
     "output_type": "execute_result"
    }
   ],
   "source": [
    "taxis.first('2H')"
   ]
  },
  {
   "cell_type": "markdown",
   "id": "105118a4-4c0f-434c-bc31-eca06ede7120",
   "metadata": {},
   "source": [
    "*Tip: Available date/time offsets can be found in the pandas documentation [here](https://pandas.pydata.org/pandas-docs/stable/user_guide/timeseries.html#dateoffset-objects).* "
   ]
  },
  {
   "cell_type": "markdown",
   "id": "1bc7af6d-fbd2-4028-99e3-deac76074f63",
   "metadata": {
    "slideshow": {
     "slide_type": "subslide"
    },
    "tags": []
   },
   "source": [
    "For the rest of this section, we will be working with the TSA traveler throughput data. Let's start by setting the index to the `date` column:"
   ]
  },
  {
   "cell_type": "code",
   "execution_count": 42,
   "id": "327eae28-526b-4f16-a813-164141a793da",
   "metadata": {},
   "outputs": [],
   "source": [
    "tsa_melted_holiday_travel.set_index('date', inplace=True)"
   ]
  },
  {
   "cell_type": "markdown",
   "id": "24dfd787-ac43-451e-b5e5-5aeeabc0bd22",
   "metadata": {
    "slideshow": {
     "slide_type": "subslide"
    },
    "tags": []
   },
   "source": [
    "### Calculating change over time"
   ]
  },
  {
   "cell_type": "code",
   "execution_count": 43,
   "id": "2138f995-7db1-4f0f-b7dc-ad11873d4563",
   "metadata": {},
   "outputs": [
    {
     "data": {
      "text/html": [
       "<div>\n",
       "<style scoped>\n",
       "    .dataframe tbody tr th:only-of-type {\n",
       "        vertical-align: middle;\n",
       "    }\n",
       "\n",
       "    .dataframe tbody tr th {\n",
       "        vertical-align: top;\n",
       "    }\n",
       "\n",
       "    .dataframe thead th {\n",
       "        text-align: right;\n",
       "    }\n",
       "</style>\n",
       "<table border=\"1\" class=\"dataframe\">\n",
       "  <thead>\n",
       "    <tr style=\"text-align: right;\">\n",
       "      <th></th>\n",
       "      <th>year</th>\n",
       "      <th>travelers</th>\n",
       "      <th>holiday</th>\n",
       "      <th>one_day_change</th>\n",
       "      <th>seven_day_change</th>\n",
       "    </tr>\n",
       "    <tr>\n",
       "      <th>date</th>\n",
       "      <th></th>\n",
       "      <th></th>\n",
       "      <th></th>\n",
       "      <th></th>\n",
       "      <th></th>\n",
       "    </tr>\n",
       "  </thead>\n",
       "  <tbody>\n",
       "    <tr>\n",
       "      <th>2020-01-01</th>\n",
       "      <td>2020</td>\n",
       "      <td>2311732.0</td>\n",
       "      <td>New Year's Day</td>\n",
       "      <td>NaN</td>\n",
       "      <td>NaN</td>\n",
       "    </tr>\n",
       "    <tr>\n",
       "      <th>2020-01-02</th>\n",
       "      <td>2020</td>\n",
       "      <td>2178656.0</td>\n",
       "      <td>New Year's Day</td>\n",
       "      <td>-133076.0</td>\n",
       "      <td>NaN</td>\n",
       "    </tr>\n",
       "    <tr>\n",
       "      <th>2020-01-03</th>\n",
       "      <td>2020</td>\n",
       "      <td>2422272.0</td>\n",
       "      <td>NaN</td>\n",
       "      <td>243616.0</td>\n",
       "      <td>NaN</td>\n",
       "    </tr>\n",
       "    <tr>\n",
       "      <th>2020-01-04</th>\n",
       "      <td>2020</td>\n",
       "      <td>2210542.0</td>\n",
       "      <td>NaN</td>\n",
       "      <td>-211730.0</td>\n",
       "      <td>NaN</td>\n",
       "    </tr>\n",
       "    <tr>\n",
       "      <th>2020-01-05</th>\n",
       "      <td>2020</td>\n",
       "      <td>1806480.0</td>\n",
       "      <td>NaN</td>\n",
       "      <td>-404062.0</td>\n",
       "      <td>NaN</td>\n",
       "    </tr>\n",
       "    <tr>\n",
       "      <th>2020-01-06</th>\n",
       "      <td>2020</td>\n",
       "      <td>1815040.0</td>\n",
       "      <td>NaN</td>\n",
       "      <td>8560.0</td>\n",
       "      <td>NaN</td>\n",
       "    </tr>\n",
       "    <tr>\n",
       "      <th>2020-01-07</th>\n",
       "      <td>2020</td>\n",
       "      <td>2034472.0</td>\n",
       "      <td>NaN</td>\n",
       "      <td>219432.0</td>\n",
       "      <td>NaN</td>\n",
       "    </tr>\n",
       "    <tr>\n",
       "      <th>2020-01-08</th>\n",
       "      <td>2020</td>\n",
       "      <td>2072543.0</td>\n",
       "      <td>NaN</td>\n",
       "      <td>38071.0</td>\n",
       "      <td>-239189.0</td>\n",
       "    </tr>\n",
       "    <tr>\n",
       "      <th>2020-01-09</th>\n",
       "      <td>2020</td>\n",
       "      <td>1687974.0</td>\n",
       "      <td>NaN</td>\n",
       "      <td>-384569.0</td>\n",
       "      <td>-490682.0</td>\n",
       "    </tr>\n",
       "    <tr>\n",
       "      <th>2020-01-10</th>\n",
       "      <td>2020</td>\n",
       "      <td>2183734.0</td>\n",
       "      <td>NaN</td>\n",
       "      <td>495760.0</td>\n",
       "      <td>-238538.0</td>\n",
       "    </tr>\n",
       "  </tbody>\n",
       "</table>\n",
       "</div>"
      ],
      "text/plain": [
       "            year  travelers         holiday  one_day_change  seven_day_change\n",
       "date                                                                         \n",
       "2020-01-01  2020  2311732.0  New Year's Day             NaN               NaN\n",
       "2020-01-02  2020  2178656.0  New Year's Day       -133076.0               NaN\n",
       "2020-01-03  2020  2422272.0             NaN        243616.0               NaN\n",
       "2020-01-04  2020  2210542.0             NaN       -211730.0               NaN\n",
       "2020-01-05  2020  1806480.0             NaN       -404062.0               NaN\n",
       "2020-01-06  2020  1815040.0             NaN          8560.0               NaN\n",
       "2020-01-07  2020  2034472.0             NaN        219432.0               NaN\n",
       "2020-01-08  2020  2072543.0             NaN         38071.0         -239189.0\n",
       "2020-01-09  2020  1687974.0             NaN       -384569.0         -490682.0\n",
       "2020-01-10  2020  2183734.0             NaN        495760.0         -238538.0"
      ]
     },
     "execution_count": 43,
     "metadata": {},
     "output_type": "execute_result"
    }
   ],
   "source": [
    "tsa_melted_holiday_travel.loc['2020'].assign(\n",
    "    one_day_change=lambda x: x.travelers.diff(),\n",
    "    seven_day_change=lambda x: x.travelers.diff(7),\n",
    ").head(10)"
   ]
  },
  {
   "cell_type": "markdown",
   "id": "c70daf1f-c67c-4f44-8057-1a912aeec044",
   "metadata": {},
   "source": [
    "*Tip: To perform operations other than subtraction, take a look at the `shift()` method. It also makes it possible to perform operations across columns.*"
   ]
  },
  {
   "cell_type": "markdown",
   "id": "a2157b7e-ccfe-4f35-9e74-a056e4c15882",
   "metadata": {
    "slideshow": {
     "slide_type": "subslide"
    },
    "tags": []
   },
   "source": [
    "### Resampling\n",
    "We can use resampling to aggregate time series data to a new frequency:"
   ]
  },
  {
   "cell_type": "code",
   "execution_count": 44,
   "id": "6593acbe-6bab-438d-a160-3784f4d3131c",
   "metadata": {},
   "outputs": [
    {
     "data": {
      "text/html": [
       "<div>\n",
       "<style scoped>\n",
       "    .dataframe tbody tr th:only-of-type {\n",
       "        vertical-align: middle;\n",
       "    }\n",
       "\n",
       "    .dataframe tbody tr th {\n",
       "        vertical-align: top;\n",
       "    }\n",
       "\n",
       "    .dataframe thead tr th {\n",
       "        text-align: left;\n",
       "    }\n",
       "\n",
       "    .dataframe thead tr:last-of-type th {\n",
       "        text-align: right;\n",
       "    }\n",
       "</style>\n",
       "<table border=\"1\" class=\"dataframe\">\n",
       "  <thead>\n",
       "    <tr>\n",
       "      <th></th>\n",
       "      <th colspan=\"3\" halign=\"left\">travelers</th>\n",
       "    </tr>\n",
       "    <tr>\n",
       "      <th></th>\n",
       "      <th>sum</th>\n",
       "      <th>mean</th>\n",
       "      <th>std</th>\n",
       "    </tr>\n",
       "    <tr>\n",
       "      <th>date</th>\n",
       "      <th></th>\n",
       "      <th></th>\n",
       "      <th></th>\n",
       "    </tr>\n",
       "  </thead>\n",
       "  <tbody>\n",
       "    <tr>\n",
       "      <th>2019-03-31</th>\n",
       "      <td>189281658.0</td>\n",
       "      <td>2.103130e+06</td>\n",
       "      <td>282239.618354</td>\n",
       "    </tr>\n",
       "    <tr>\n",
       "      <th>2019-06-30</th>\n",
       "      <td>221756667.0</td>\n",
       "      <td>2.436886e+06</td>\n",
       "      <td>212600.697665</td>\n",
       "    </tr>\n",
       "    <tr>\n",
       "      <th>2019-09-30</th>\n",
       "      <td>220819236.0</td>\n",
       "      <td>2.400209e+06</td>\n",
       "      <td>260140.242892</td>\n",
       "    </tr>\n",
       "    <tr>\n",
       "      <th>2019-12-31</th>\n",
       "      <td>211103512.0</td>\n",
       "      <td>2.294603e+06</td>\n",
       "      <td>260510.040655</td>\n",
       "    </tr>\n",
       "    <tr>\n",
       "      <th>2020-03-31</th>\n",
       "      <td>155354148.0</td>\n",
       "      <td>1.726157e+06</td>\n",
       "      <td>685094.277420</td>\n",
       "    </tr>\n",
       "    <tr>\n",
       "      <th>2020-06-30</th>\n",
       "      <td>25049083.0</td>\n",
       "      <td>2.752646e+05</td>\n",
       "      <td>170127.402046</td>\n",
       "    </tr>\n",
       "    <tr>\n",
       "      <th>2020-09-30</th>\n",
       "      <td>63937115.0</td>\n",
       "      <td>6.949686e+05</td>\n",
       "      <td>103864.705739</td>\n",
       "    </tr>\n",
       "    <tr>\n",
       "      <th>2020-12-31</th>\n",
       "      <td>77541248.0</td>\n",
       "      <td>8.428397e+05</td>\n",
       "      <td>170245.484185</td>\n",
       "    </tr>\n",
       "    <tr>\n",
       "      <th>2021-03-31</th>\n",
       "      <td>86094635.0</td>\n",
       "      <td>9.566071e+05</td>\n",
       "      <td>280399.809061</td>\n",
       "    </tr>\n",
       "  </tbody>\n",
       "</table>\n",
       "</div>"
      ],
      "text/plain": [
       "              travelers                             \n",
       "                    sum          mean            std\n",
       "date                                                \n",
       "2019-03-31  189281658.0  2.103130e+06  282239.618354\n",
       "2019-06-30  221756667.0  2.436886e+06  212600.697665\n",
       "2019-09-30  220819236.0  2.400209e+06  260140.242892\n",
       "2019-12-31  211103512.0  2.294603e+06  260510.040655\n",
       "2020-03-31  155354148.0  1.726157e+06  685094.277420\n",
       "2020-06-30   25049083.0  2.752646e+05  170127.402046\n",
       "2020-09-30   63937115.0  6.949686e+05  103864.705739\n",
       "2020-12-31   77541248.0  8.428397e+05  170245.484185\n",
       "2021-03-31   86094635.0  9.566071e+05  280399.809061"
      ]
     },
     "execution_count": 44,
     "metadata": {},
     "output_type": "execute_result"
    }
   ],
   "source": [
    "tsa_melted_holiday_travel['2019':'2021-Q1'].resample('Q').agg(['sum', 'mean', 'std'])"
   ]
  },
  {
   "cell_type": "markdown",
   "id": "824a21af-ca5b-46e6-a31c-fb1bd0e8fa32",
   "metadata": {
    "slideshow": {
     "slide_type": "subslide"
    },
    "tags": []
   },
   "source": [
    "### Window calculations\n",
    "\n",
    "Window calculations are similar to group by calculations except the group over which the calculation is performed isn't static &ndash; it can move or expand. Pandas provides functionality for constructing a variety of windows, including moving/rolling windows, expanding windows (e.g. cumulative sum or mean up to the current date in a time series), and exponentially weighted moving windows (to weight closer observations higher than further ones). We will only look at rolling and expanding calculations here."
   ]
  },
  {
   "cell_type": "markdown",
   "id": "80f7db58-1714-4645-87c4-196971cb7aaa",
   "metadata": {
    "slideshow": {
     "slide_type": "fragment"
    },
    "tags": []
   },
   "source": [
    "<div style=\"text-align: center;\">\n",
    "<img width=\"300\" src=\"https://i0.wp.com/www.untoldwanderlust.com/wp-content/uploads/2017/07/Panda-rolling-around-in-bamboo-in-Chengdu-China.jpg?w=700&ssl=1\" alt=\"Panda Rolling\">\n",
    "    <div><small><em><a href=\"https://www.untoldwanderlust.com/chengdu-panda-base/\">Source</a></em></small></div>\n",
    "</div>"
   ]
  },
  {
   "cell_type": "markdown",
   "id": "15b71997-1107-463b-849b-f3969fa6a592",
   "metadata": {
    "slideshow": {
     "slide_type": "subslide"
    },
    "tags": []
   },
   "source": [
    "Performing a window calculation is very similar to a group by calculation: we first define the window, and then we specify the aggregation:"
   ]
  },
  {
   "cell_type": "code",
   "execution_count": 45,
   "id": "3dc35819-cc7a-4235-97ed-37ee2351b6ad",
   "metadata": {},
   "outputs": [
    {
     "data": {
      "text/html": [
       "<div>\n",
       "<style scoped>\n",
       "    .dataframe tbody tr th:only-of-type {\n",
       "        vertical-align: middle;\n",
       "    }\n",
       "\n",
       "    .dataframe tbody tr th {\n",
       "        vertical-align: top;\n",
       "    }\n",
       "\n",
       "    .dataframe thead th {\n",
       "        text-align: right;\n",
       "    }\n",
       "</style>\n",
       "<table border=\"1\" class=\"dataframe\">\n",
       "  <thead>\n",
       "    <tr style=\"text-align: right;\">\n",
       "      <th></th>\n",
       "      <th>year</th>\n",
       "      <th>travelers</th>\n",
       "      <th>holiday</th>\n",
       "      <th>7D MA</th>\n",
       "      <th>YTD mean</th>\n",
       "    </tr>\n",
       "    <tr>\n",
       "      <th>date</th>\n",
       "      <th></th>\n",
       "      <th></th>\n",
       "      <th></th>\n",
       "      <th></th>\n",
       "      <th></th>\n",
       "    </tr>\n",
       "  </thead>\n",
       "  <tbody>\n",
       "    <tr>\n",
       "      <th>2020-01-01</th>\n",
       "      <td>2020</td>\n",
       "      <td>2311732.0</td>\n",
       "      <td>New Year's Day</td>\n",
       "      <td>2.311732e+06</td>\n",
       "      <td>2.311732e+06</td>\n",
       "    </tr>\n",
       "    <tr>\n",
       "      <th>2020-01-02</th>\n",
       "      <td>2020</td>\n",
       "      <td>2178656.0</td>\n",
       "      <td>New Year's Day</td>\n",
       "      <td>2.245194e+06</td>\n",
       "      <td>2.245194e+06</td>\n",
       "    </tr>\n",
       "    <tr>\n",
       "      <th>2020-01-03</th>\n",
       "      <td>2020</td>\n",
       "      <td>2422272.0</td>\n",
       "      <td>NaN</td>\n",
       "      <td>2.304220e+06</td>\n",
       "      <td>2.304220e+06</td>\n",
       "    </tr>\n",
       "    <tr>\n",
       "      <th>2020-01-04</th>\n",
       "      <td>2020</td>\n",
       "      <td>2210542.0</td>\n",
       "      <td>NaN</td>\n",
       "      <td>2.280800e+06</td>\n",
       "      <td>2.280800e+06</td>\n",
       "    </tr>\n",
       "    <tr>\n",
       "      <th>2020-01-05</th>\n",
       "      <td>2020</td>\n",
       "      <td>1806480.0</td>\n",
       "      <td>NaN</td>\n",
       "      <td>2.185936e+06</td>\n",
       "      <td>2.185936e+06</td>\n",
       "    </tr>\n",
       "    <tr>\n",
       "      <th>2020-01-06</th>\n",
       "      <td>2020</td>\n",
       "      <td>1815040.0</td>\n",
       "      <td>NaN</td>\n",
       "      <td>2.124120e+06</td>\n",
       "      <td>2.124120e+06</td>\n",
       "    </tr>\n",
       "    <tr>\n",
       "      <th>2020-01-07</th>\n",
       "      <td>2020</td>\n",
       "      <td>2034472.0</td>\n",
       "      <td>NaN</td>\n",
       "      <td>2.111313e+06</td>\n",
       "      <td>2.111313e+06</td>\n",
       "    </tr>\n",
       "    <tr>\n",
       "      <th>2020-01-08</th>\n",
       "      <td>2020</td>\n",
       "      <td>2072543.0</td>\n",
       "      <td>NaN</td>\n",
       "      <td>2.077144e+06</td>\n",
       "      <td>2.106467e+06</td>\n",
       "    </tr>\n",
       "    <tr>\n",
       "      <th>2020-01-09</th>\n",
       "      <td>2020</td>\n",
       "      <td>1687974.0</td>\n",
       "      <td>NaN</td>\n",
       "      <td>2.007046e+06</td>\n",
       "      <td>2.059968e+06</td>\n",
       "    </tr>\n",
       "    <tr>\n",
       "      <th>2020-01-10</th>\n",
       "      <td>2020</td>\n",
       "      <td>2183734.0</td>\n",
       "      <td>NaN</td>\n",
       "      <td>1.972969e+06</td>\n",
       "      <td>2.072344e+06</td>\n",
       "    </tr>\n",
       "  </tbody>\n",
       "</table>\n",
       "</div>"
      ],
      "text/plain": [
       "            year  travelers         holiday         7D MA      YTD mean\n",
       "date                                                                   \n",
       "2020-01-01  2020  2311732.0  New Year's Day  2.311732e+06  2.311732e+06\n",
       "2020-01-02  2020  2178656.0  New Year's Day  2.245194e+06  2.245194e+06\n",
       "2020-01-03  2020  2422272.0             NaN  2.304220e+06  2.304220e+06\n",
       "2020-01-04  2020  2210542.0             NaN  2.280800e+06  2.280800e+06\n",
       "2020-01-05  2020  1806480.0             NaN  2.185936e+06  2.185936e+06\n",
       "2020-01-06  2020  1815040.0             NaN  2.124120e+06  2.124120e+06\n",
       "2020-01-07  2020  2034472.0             NaN  2.111313e+06  2.111313e+06\n",
       "2020-01-08  2020  2072543.0             NaN  2.077144e+06  2.106467e+06\n",
       "2020-01-09  2020  1687974.0             NaN  2.007046e+06  2.059968e+06\n",
       "2020-01-10  2020  2183734.0             NaN  1.972969e+06  2.072344e+06"
      ]
     },
     "execution_count": 45,
     "metadata": {},
     "output_type": "execute_result"
    }
   ],
   "source": [
    "tsa_melted_holiday_travel.loc['2020'].assign(\n",
    "    **{\n",
    "        '7D MA': lambda x: x.rolling('7D').travelers.mean(),\n",
    "        'YTD mean': lambda x: x.expanding().travelers.mean()\n",
    "      }\n",
    ").head(10)"
   ]
  },
  {
   "cell_type": "markdown",
   "id": "097e50b3-c3d9-4bca-9641-6555b744b431",
   "metadata": {
    "slideshow": {
     "slide_type": "subslide"
    },
    "tags": []
   },
   "source": [
    "To understand what's happening, it's best to visualize the original data and the result, so here's a sneak peek of plotting with pandas:"
   ]
  },
  {
   "cell_type": "code",
   "execution_count": 46,
   "id": "a2b79c72-d7b4-45e4-bc2c-4f990d9bf278",
   "metadata": {},
   "outputs": [
    {
     "data": {
      "text/plain": [
       "<AxesSubplot:title={'center':'2020 TSA Traveler Throughput'}, xlabel='date', ylabel='travelers'>"
      ]
     },
     "execution_count": 46,
     "metadata": {},
     "output_type": "execute_result"
    },
    {
     "data": {
      "image/png": "[encoded data removed]",
      "text/plain": [
       "<Figure size 432x288 with 1 Axes>"
      ]
     },
     "metadata": {
      "needs_background": "light"
     },
     "output_type": "display_data"
    }
   ],
   "source": [
    "%matplotlib inline\n",
    "tsa_melted_holiday_travel.loc['2020'].assign(\n",
    "    **{\n",
    "        '7D MA': lambda x: x.rolling('7D').travelers.mean(),\n",
    "        'YTD mean': lambda x: x.expanding().travelers.mean()\n",
    "      }\n",
    ").plot(title='2020 TSA Traveler Throughput', ylabel='travelers', alpha=0.8)"
   ]
  },
  {
   "cell_type": "markdown",
   "id": "c0ddbf35-b1f3-487c-b3f9-dfc017937077",
   "metadata": {
    "slideshow": {
     "slide_type": "subslide"
    },
    "tags": []
   },
   "source": [
    "Other types of windows:\n",
    "- [exponentially weighted moving](https://pandas.pydata.org/pandas-docs/stable/reference/api/pandas.DataFrame.ewm.html): use the `ewm()` method\n",
    "- [custom](https://pandas.pydata.org/docs/user_guide/window.html#window-custom-rolling-window): create a subclass of `pandas.api.indexers.BaseIndexer` or use a pre-built one in `pandas.api.indexers`"
   ]
  },
  {
   "cell_type": "markdown",
   "id": "1ae6792d-6437-406d-8614-b6b5cde55335",
   "metadata": {
    "slideshow": {
     "slide_type": "slide"
    },
    "tags": []
   },
   "source": [
    "## Up Next: Data Visualization\n",
    "\n",
    "Let's take a 25-minute break for some exercises to check your understanding:\n",
    "\n",
    "1. Read in the meteorite data from the `Meteorite_Landings.csv` file.\n",
    "2. Rename the `mass (g)` column to `mass`, and drop all the latitude and longitude columns.\n",
    "3. Update the `year` column to only contain the year, convert it to a numeric data type, and create a new column indicating if the year is unknown. Hint: Use `year.str.slice()` to grab a substring.\n",
    "4. There's a data entry error in the `year` column. Can you find it? (Don't spend too much time on this.)\n",
    "5. Compare summary statistics of the `mass` column for the meteorites that were found versus observed falling.\n",
    "6. Create a pivot table that shows both the number of meteorites and the 95th percentile of meteorite mass for those that were found versus observed falling per year from 1990 to 2000 (inclusive).\n",
    "7. Using the `taxis` data from earlier this section, resample the data to an hourly frequency based on the dropoff time. Calculate the total `trip_distance`, `fare_amount`, `tolls_amount`, and `tip_amount`, then find the 5 hours with the most tips."
   ]
  },
  {
   "cell_type": "markdown",
   "id": "f9b26e3f-4cc1-4b68-ab70-d1ce4a41b1b3",
   "metadata": {
    "slideshow": {
     "slide_type": "subslide"
    },
    "tags": []
   },
   "source": [
    "### Solutions\n",
    "\n",
    "##### 1. Read in the meteorite data from the `Meteorite_Landings.csv` file:"
   ]
  },
  {
   "cell_type": "code",
   "execution_count": 47,
   "id": "7a35a86b-6d28-47a1-8149-e461ab879cd7",
   "metadata": {},
   "outputs": [],
   "source": [
    "meteorites = pd.read_csv('../data/Meteorite_Landings.csv')"
   ]
  },
  {
   "cell_type": "markdown",
   "id": "3e469d64-0135-4968-9eac-851ad1d51141",
   "metadata": {
    "slideshow": {
     "slide_type": "fragment"
    },
    "tags": []
   },
   "source": [
    "##### 2. Rename the `mass (g)` column to `mass`, and drop all the latitude and longitude columns."
   ]
  },
  {
   "cell_type": "code",
   "execution_count": 48,
   "id": "46922e2e-257d-45f4-a46a-07f0449254bc",
   "metadata": {},
   "outputs": [
    {
     "data": {
      "text/html": [
       "<div>\n",
       "<style scoped>\n",
       "    .dataframe tbody tr th:only-of-type {\n",
       "        vertical-align: middle;\n",
       "    }\n",
       "\n",
       "    .dataframe tbody tr th {\n",
       "        vertical-align: top;\n",
       "    }\n",
       "\n",
       "    .dataframe thead th {\n",
       "        text-align: right;\n",
       "    }\n",
       "</style>\n",
       "<table border=\"1\" class=\"dataframe\">\n",
       "  <thead>\n",
       "    <tr style=\"text-align: right;\">\n",
       "      <th></th>\n",
       "      <th>name</th>\n",
       "      <th>id</th>\n",
       "      <th>nametype</th>\n",
       "      <th>recclass</th>\n",
       "      <th>mass</th>\n",
       "      <th>fall</th>\n",
       "      <th>year</th>\n",
       "    </tr>\n",
       "  </thead>\n",
       "  <tbody>\n",
       "    <tr>\n",
       "      <th>0</th>\n",
       "      <td>Aachen</td>\n",
       "      <td>1</td>\n",
       "      <td>Valid</td>\n",
       "      <td>L5</td>\n",
       "      <td>21.0</td>\n",
       "      <td>Fell</td>\n",
       "      <td>01/01/1880 12:00:00 AM</td>\n",
       "    </tr>\n",
       "    <tr>\n",
       "      <th>1</th>\n",
       "      <td>Aarhus</td>\n",
       "      <td>2</td>\n",
       "      <td>Valid</td>\n",
       "      <td>H6</td>\n",
       "      <td>720.0</td>\n",
       "      <td>Fell</td>\n",
       "      <td>01/01/1951 12:00:00 AM</td>\n",
       "    </tr>\n",
       "    <tr>\n",
       "      <th>2</th>\n",
       "      <td>Abee</td>\n",
       "      <td>6</td>\n",
       "      <td>Valid</td>\n",
       "      <td>EH4</td>\n",
       "      <td>107000.0</td>\n",
       "      <td>Fell</td>\n",
       "      <td>01/01/1952 12:00:00 AM</td>\n",
       "    </tr>\n",
       "    <tr>\n",
       "      <th>3</th>\n",
       "      <td>Acapulco</td>\n",
       "      <td>10</td>\n",
       "      <td>Valid</td>\n",
       "      <td>Acapulcoite</td>\n",
       "      <td>1914.0</td>\n",
       "      <td>Fell</td>\n",
       "      <td>01/01/1976 12:00:00 AM</td>\n",
       "    </tr>\n",
       "    <tr>\n",
       "      <th>4</th>\n",
       "      <td>Achiras</td>\n",
       "      <td>370</td>\n",
       "      <td>Valid</td>\n",
       "      <td>L6</td>\n",
       "      <td>780.0</td>\n",
       "      <td>Fell</td>\n",
       "      <td>01/01/1902 12:00:00 AM</td>\n",
       "    </tr>\n",
       "  </tbody>\n",
       "</table>\n",
       "</div>"
      ],
      "text/plain": [
       "       name   id nametype     recclass      mass  fall                    year\n",
       "0    Aachen    1    Valid           L5      21.0  Fell  01/01/1880 12:00:00 AM\n",
       "1    Aarhus    2    Valid           H6     720.0  Fell  01/01/1951 12:00:00 AM\n",
       "2      Abee    6    Valid          EH4  107000.0  Fell  01/01/1952 12:00:00 AM\n",
       "3  Acapulco   10    Valid  Acapulcoite    1914.0  Fell  01/01/1976 12:00:00 AM\n",
       "4   Achiras  370    Valid           L6     780.0  Fell  01/01/1902 12:00:00 AM"
      ]
     },
     "execution_count": 48,
     "metadata": {},
     "output_type": "execute_result"
    }
   ],
   "source": [
    "meteorites = meteorites.rename(columns={'mass (g)': 'mass'})\\\n",
    "    .drop(columns=meteorites.columns[-3:])\n",
    "meteorites.head()"
   ]
  },
  {
   "cell_type": "markdown",
   "id": "436ddb34-3f4b-4c86-aad5-39e318240a13",
   "metadata": {
    "slideshow": {
     "slide_type": "subslide"
    },
    "tags": []
   },
   "source": [
    "##### 3. Update the `year` column to only contain the year, convert it to a numeric data type, and create a new column indicating if the year is unknown."
   ]
  },
  {
   "cell_type": "code",
   "execution_count": 49,
   "id": "3af71e0d-63d5-4a83-bc5c-a774fb96bc6a",
   "metadata": {},
   "outputs": [
    {
     "data": {
      "text/html": [
       "<div>\n",
       "<style scoped>\n",
       "    .dataframe tbody tr th:only-of-type {\n",
       "        vertical-align: middle;\n",
       "    }\n",
       "\n",
       "    .dataframe tbody tr th {\n",
       "        vertical-align: top;\n",
       "    }\n",
       "\n",
       "    .dataframe thead th {\n",
       "        text-align: right;\n",
       "    }\n",
       "</style>\n",
       "<table border=\"1\" class=\"dataframe\">\n",
       "  <thead>\n",
       "    <tr style=\"text-align: right;\">\n",
       "      <th></th>\n",
       "      <th>name</th>\n",
       "      <th>id</th>\n",
       "      <th>nametype</th>\n",
       "      <th>recclass</th>\n",
       "      <th>mass</th>\n",
       "      <th>fall</th>\n",
       "      <th>year</th>\n",
       "      <th>no_year</th>\n",
       "    </tr>\n",
       "  </thead>\n",
       "  <tbody>\n",
       "    <tr>\n",
       "      <th>0</th>\n",
       "      <td>Aachen</td>\n",
       "      <td>1</td>\n",
       "      <td>Valid</td>\n",
       "      <td>L5</td>\n",
       "      <td>21.0</td>\n",
       "      <td>Fell</td>\n",
       "      <td>1880.0</td>\n",
       "      <td>False</td>\n",
       "    </tr>\n",
       "    <tr>\n",
       "      <th>1</th>\n",
       "      <td>Aarhus</td>\n",
       "      <td>2</td>\n",
       "      <td>Valid</td>\n",
       "      <td>H6</td>\n",
       "      <td>720.0</td>\n",
       "      <td>Fell</td>\n",
       "      <td>1951.0</td>\n",
       "      <td>False</td>\n",
       "    </tr>\n",
       "    <tr>\n",
       "      <th>2</th>\n",
       "      <td>Abee</td>\n",
       "      <td>6</td>\n",
       "      <td>Valid</td>\n",
       "      <td>EH4</td>\n",
       "      <td>107000.0</td>\n",
       "      <td>Fell</td>\n",
       "      <td>1952.0</td>\n",
       "      <td>False</td>\n",
       "    </tr>\n",
       "    <tr>\n",
       "      <th>3</th>\n",
       "      <td>Acapulco</td>\n",
       "      <td>10</td>\n",
       "      <td>Valid</td>\n",
       "      <td>Acapulcoite</td>\n",
       "      <td>1914.0</td>\n",
       "      <td>Fell</td>\n",
       "      <td>1976.0</td>\n",
       "      <td>False</td>\n",
       "    </tr>\n",
       "    <tr>\n",
       "      <th>4</th>\n",
       "      <td>Achiras</td>\n",
       "      <td>370</td>\n",
       "      <td>Valid</td>\n",
       "      <td>L6</td>\n",
       "      <td>780.0</td>\n",
       "      <td>Fell</td>\n",
       "      <td>1902.0</td>\n",
       "      <td>False</td>\n",
       "    </tr>\n",
       "  </tbody>\n",
       "</table>\n",
       "</div>"
      ],
      "text/plain": [
       "       name   id nametype     recclass      mass  fall    year  no_year\n",
       "0    Aachen    1    Valid           L5      21.0  Fell  1880.0    False\n",
       "1    Aarhus    2    Valid           H6     720.0  Fell  1951.0    False\n",
       "2      Abee    6    Valid          EH4  107000.0  Fell  1952.0    False\n",
       "3  Acapulco   10    Valid  Acapulcoite    1914.0  Fell  1976.0    False\n",
       "4   Achiras  370    Valid           L6     780.0  Fell  1902.0    False"
      ]
     },
     "execution_count": 49,
     "metadata": {},
     "output_type": "execute_result"
    }
   ],
   "source": [
    "meteorites = meteorites.assign(\n",
    "    year=lambda x: pd.to_numeric(x.year.str.slice(6, 10)),\n",
    "    no_year=lambda x: x.year.isna()\n",
    ")\n",
    "meteorites.head()"
   ]
  },
  {
   "cell_type": "markdown",
   "id": "ffa9f221-f0e7-4a97-b49c-85b8a120b346",
   "metadata": {
    "slideshow": {
     "slide_type": "subslide"
    },
    "tags": []
   },
   "source": [
    "##### 4. There's a data entry error in the `year` column. Can you find it?"
   ]
  },
  {
   "cell_type": "code",
   "execution_count": 50,
   "id": "71ea1796-058d-4605-bba0-0be8347b237b",
   "metadata": {},
   "outputs": [
    {
     "data": {
      "text/plain": [
       "count    45425.000000\n",
       "mean      1991.828817\n",
       "std         25.052766\n",
       "min        860.000000\n",
       "25%       1987.000000\n",
       "50%       1998.000000\n",
       "75%       2003.000000\n",
       "max       2101.000000\n",
       "Name: year, dtype: float64"
      ]
     },
     "execution_count": 50,
     "metadata": {},
     "output_type": "execute_result"
    }
   ],
   "source": [
    "meteorites.year.describe()"
   ]
  },
  {
   "cell_type": "markdown",
   "id": "e4d0a21c-c8b1-4556-939f-eb80329879bc",
   "metadata": {
    "slideshow": {
     "slide_type": "fragment"
    },
    "tags": []
   },
   "source": [
    "There's a meteorite that was reportedly found in the future:"
   ]
  },
  {
   "cell_type": "code",
   "execution_count": 51,
   "id": "50ed76a3-4ff3-4442-a13f-8ccb3d7f7705",
   "metadata": {},
   "outputs": [
    {
     "data": {
      "text/html": [
       "<div>\n",
       "<style scoped>\n",
       "    .dataframe tbody tr th:only-of-type {\n",
       "        vertical-align: middle;\n",
       "    }\n",
       "\n",
       "    .dataframe tbody tr th {\n",
       "        vertical-align: top;\n",
       "    }\n",
       "\n",
       "    .dataframe thead th {\n",
       "        text-align: right;\n",
       "    }\n",
       "</style>\n",
       "<table border=\"1\" class=\"dataframe\">\n",
       "  <thead>\n",
       "    <tr style=\"text-align: right;\">\n",
       "      <th></th>\n",
       "      <th>name</th>\n",
       "      <th>id</th>\n",
       "      <th>nametype</th>\n",
       "      <th>recclass</th>\n",
       "      <th>mass</th>\n",
       "      <th>fall</th>\n",
       "      <th>year</th>\n",
       "      <th>no_year</th>\n",
       "    </tr>\n",
       "  </thead>\n",
       "  <tbody>\n",
       "    <tr>\n",
       "      <th>30682</th>\n",
       "      <td>Northwest Africa 7701</td>\n",
       "      <td>57150</td>\n",
       "      <td>Valid</td>\n",
       "      <td>CK6</td>\n",
       "      <td>55.0</td>\n",
       "      <td>Found</td>\n",
       "      <td>2101.0</td>\n",
       "      <td>False</td>\n",
       "    </tr>\n",
       "  </tbody>\n",
       "</table>\n",
       "</div>"
      ],
      "text/plain": [
       "                        name     id nametype recclass  mass   fall    year  \\\n",
       "30682  Northwest Africa 7701  57150    Valid      CK6  55.0  Found  2101.0   \n",
       "\n",
       "       no_year  \n",
       "30682    False  "
      ]
     },
     "execution_count": 51,
     "metadata": {},
     "output_type": "execute_result"
    }
   ],
   "source": [
    "meteorites.query(f'year > {pd.Timestamp(\"today\").year}')"
   ]
  },
  {
   "cell_type": "markdown",
   "id": "d87b5bab-ffb5-4314-9cb1-edd1a58a9ca2",
   "metadata": {},
   "source": [
    "###### Oops! This meteorite actually was found in 2010 (more information [here](https://www.lpi.usra.edu/meteor/metbull.php?code=57150))."
   ]
  },
  {
   "cell_type": "markdown",
   "id": "b187d869-b457-412a-84e3-d1d10300eae7",
   "metadata": {
    "slideshow": {
     "slide_type": "subslide"
    },
    "tags": []
   },
   "source": [
    "##### 5. Compare summary statistics of the `mass` column for the meteorites that were found versus observed falling."
   ]
  },
  {
   "cell_type": "code",
   "execution_count": 52,
   "id": "027eac68-7a94-4fbd-9796-9fff1ae90db3",
   "metadata": {},
   "outputs": [
    {
     "data": {
      "text/html": [
       "<div>\n",
       "<style scoped>\n",
       "    .dataframe tbody tr th:only-of-type {\n",
       "        vertical-align: middle;\n",
       "    }\n",
       "\n",
       "    .dataframe tbody tr th {\n",
       "        vertical-align: top;\n",
       "    }\n",
       "\n",
       "    .dataframe thead th {\n",
       "        text-align: right;\n",
       "    }\n",
       "</style>\n",
       "<table border=\"1\" class=\"dataframe\">\n",
       "  <thead>\n",
       "    <tr style=\"text-align: right;\">\n",
       "      <th></th>\n",
       "      <th>count</th>\n",
       "      <th>mean</th>\n",
       "      <th>std</th>\n",
       "      <th>min</th>\n",
       "      <th>25%</th>\n",
       "      <th>50%</th>\n",
       "      <th>75%</th>\n",
       "      <th>max</th>\n",
       "    </tr>\n",
       "    <tr>\n",
       "      <th>fall</th>\n",
       "      <th></th>\n",
       "      <th></th>\n",
       "      <th></th>\n",
       "      <th></th>\n",
       "      <th></th>\n",
       "      <th></th>\n",
       "      <th></th>\n",
       "      <th></th>\n",
       "    </tr>\n",
       "  </thead>\n",
       "  <tbody>\n",
       "    <tr>\n",
       "      <th>Fell</th>\n",
       "      <td>1075.0</td>\n",
       "      <td>47070.715023</td>\n",
       "      <td>717067.125826</td>\n",
       "      <td>0.1</td>\n",
       "      <td>686.00</td>\n",
       "      <td>2800.0</td>\n",
       "      <td>10450.0</td>\n",
       "      <td>23000000.0</td>\n",
       "    </tr>\n",
       "    <tr>\n",
       "      <th>Found</th>\n",
       "      <td>44510.0</td>\n",
       "      <td>12461.922983</td>\n",
       "      <td>571105.752311</td>\n",
       "      <td>0.0</td>\n",
       "      <td>6.94</td>\n",
       "      <td>30.5</td>\n",
       "      <td>178.0</td>\n",
       "      <td>60000000.0</td>\n",
       "    </tr>\n",
       "  </tbody>\n",
       "</table>\n",
       "</div>"
      ],
      "text/plain": [
       "         count          mean            std  min     25%     50%      75%  \\\n",
       "fall                                                                        \n",
       "Fell    1075.0  47070.715023  717067.125826  0.1  686.00  2800.0  10450.0   \n",
       "Found  44510.0  12461.922983  571105.752311  0.0    6.94    30.5    178.0   \n",
       "\n",
       "              max  \n",
       "fall               \n",
       "Fell   23000000.0  \n",
       "Found  60000000.0  "
      ]
     },
     "execution_count": 52,
     "metadata": {},
     "output_type": "execute_result"
    }
   ],
   "source": [
    "meteorites.groupby('fall').mass.describe()"
   ]
  },
  {
   "cell_type": "markdown",
   "id": "0e2a8750-46a4-45b8-ba4b-5cc4c2cc1aa1",
   "metadata": {
    "slideshow": {
     "slide_type": "subslide"
    },
    "tags": []
   },
   "source": [
    "##### 6. Create a pivot table that shows both the number of meteorites and the 95th percentile of meteorite mass for those that were found versus observed falling per year from 1990 to 2000 (inclusive)."
   ]
  },
  {
   "cell_type": "code",
   "execution_count": 53,
   "id": "f7be6f31-d5e1-4813-886f-7d7834592997",
   "metadata": {},
   "outputs": [
    {
     "data": {
      "text/html": [
       "<div>\n",
       "<style scoped>\n",
       "    .dataframe tbody tr th:only-of-type {\n",
       "        vertical-align: middle;\n",
       "    }\n",
       "\n",
       "    .dataframe tbody tr th {\n",
       "        vertical-align: top;\n",
       "    }\n",
       "\n",
       "    .dataframe thead tr th {\n",
       "        text-align: left;\n",
       "    }\n",
       "\n",
       "    .dataframe thead tr:last-of-type th {\n",
       "        text-align: right;\n",
       "    }\n",
       "</style>\n",
       "<table border=\"1\" class=\"dataframe\">\n",
       "  <thead>\n",
       "    <tr>\n",
       "      <th></th>\n",
       "      <th colspan=\"2\" halign=\"left\">count</th>\n",
       "      <th colspan=\"2\" halign=\"left\">95th percentile</th>\n",
       "    </tr>\n",
       "    <tr>\n",
       "      <th>fall</th>\n",
       "      <th>Fell</th>\n",
       "      <th>Found</th>\n",
       "      <th>Fell</th>\n",
       "      <th>Found</th>\n",
       "    </tr>\n",
       "    <tr>\n",
       "      <th>year</th>\n",
       "      <th></th>\n",
       "      <th></th>\n",
       "      <th></th>\n",
       "      <th></th>\n",
       "    </tr>\n",
       "  </thead>\n",
       "  <tbody>\n",
       "    <tr>\n",
       "      <th>1990.0</th>\n",
       "      <td>8</td>\n",
       "      <td>1509</td>\n",
       "      <td>217357.5</td>\n",
       "      <td>596.400</td>\n",
       "    </tr>\n",
       "    <tr>\n",
       "      <th>1991.0</th>\n",
       "      <td>5</td>\n",
       "      <td>870</td>\n",
       "      <td>92736.0</td>\n",
       "      <td>1176.900</td>\n",
       "    </tr>\n",
       "    <tr>\n",
       "      <th>1992.0</th>\n",
       "      <td>3</td>\n",
       "      <td>369</td>\n",
       "      <td>136257.0</td>\n",
       "      <td>1337.800</td>\n",
       "    </tr>\n",
       "    <tr>\n",
       "      <th>1993.0</th>\n",
       "      <td>4</td>\n",
       "      <td>972</td>\n",
       "      <td>33870.0</td>\n",
       "      <td>220.175</td>\n",
       "    </tr>\n",
       "    <tr>\n",
       "      <th>1994.0</th>\n",
       "      <td>6</td>\n",
       "      <td>711</td>\n",
       "      <td>36350.0</td>\n",
       "      <td>955.200</td>\n",
       "    </tr>\n",
       "    <tr>\n",
       "      <th>1995.0</th>\n",
       "      <td>6</td>\n",
       "      <td>479</td>\n",
       "      <td>97850.0</td>\n",
       "      <td>4101.700</td>\n",
       "    </tr>\n",
       "    <tr>\n",
       "      <th>1996.0</th>\n",
       "      <td>5</td>\n",
       "      <td>568</td>\n",
       "      <td>35640.0</td>\n",
       "      <td>1425.500</td>\n",
       "    </tr>\n",
       "    <tr>\n",
       "      <th>1997.0</th>\n",
       "      <td>3</td>\n",
       "      <td>1688</td>\n",
       "      <td>90155.1</td>\n",
       "      <td>1108.450</td>\n",
       "    </tr>\n",
       "    <tr>\n",
       "      <th>1998.0</th>\n",
       "      <td>9</td>\n",
       "      <td>2684</td>\n",
       "      <td>730000.0</td>\n",
       "      <td>635.488</td>\n",
       "    </tr>\n",
       "    <tr>\n",
       "      <th>1999.0</th>\n",
       "      <td>7</td>\n",
       "      <td>1680</td>\n",
       "      <td>20500.0</td>\n",
       "      <td>2018.910</td>\n",
       "    </tr>\n",
       "    <tr>\n",
       "      <th>2000.0</th>\n",
       "      <td>3</td>\n",
       "      <td>1778</td>\n",
       "      <td>9570.0</td>\n",
       "      <td>3183.950</td>\n",
       "    </tr>\n",
       "  </tbody>\n",
       "</table>\n",
       "</div>"
      ],
      "text/plain": [
       "       count       95th percentile          \n",
       "fall    Fell Found            Fell     Found\n",
       "year                                        \n",
       "1990.0     8  1509        217357.5   596.400\n",
       "1991.0     5   870         92736.0  1176.900\n",
       "1992.0     3   369        136257.0  1337.800\n",
       "1993.0     4   972         33870.0   220.175\n",
       "1994.0     6   711         36350.0   955.200\n",
       "1995.0     6   479         97850.0  4101.700\n",
       "1996.0     5   568         35640.0  1425.500\n",
       "1997.0     3  1688         90155.1  1108.450\n",
       "1998.0     9  2684        730000.0   635.488\n",
       "1999.0     7  1680         20500.0  2018.910\n",
       "2000.0     3  1778          9570.0  3183.950"
      ]
     },
     "execution_count": 53,
     "metadata": {},
     "output_type": "execute_result"
    }
   ],
   "source": [
    "meteorites.query('year.between(1990, 2000)').pivot_table(\n",
    "    index='year', columns='fall', values='mass', \n",
    "    aggfunc=['count', lambda x: x.quantile(0.95)]\n",
    ").rename(columns={'<lambda>': '95th percentile'})"
   ]
  },
  {
   "cell_type": "markdown",
   "id": "4968567b-a337-4bb0-af7b-62f07e282df1",
   "metadata": {
    "slideshow": {
     "slide_type": "subslide"
    },
    "tags": []
   },
   "source": [
    "##### 7. Using the `taxis` data from earlier this section, resample the data to an hourly frequency based on the dropoff time. Calculate the total `trip_distance`, `fare_amount`, `tolls_amount`, and `tip_amount`, then find the 5 hours with the most tips."
   ]
  },
  {
   "cell_type": "code",
   "execution_count": 54,
   "id": "9209608e-7773-426d-a1ef-5b0636e88008",
   "metadata": {},
   "outputs": [
    {
     "data": {
      "text/html": [
       "<div>\n",
       "<style scoped>\n",
       "    .dataframe tbody tr th:only-of-type {\n",
       "        vertical-align: middle;\n",
       "    }\n",
       "\n",
       "    .dataframe tbody tr th {\n",
       "        vertical-align: top;\n",
       "    }\n",
       "\n",
       "    .dataframe thead th {\n",
       "        text-align: right;\n",
       "    }\n",
       "</style>\n",
       "<table border=\"1\" class=\"dataframe\">\n",
       "  <thead>\n",
       "    <tr style=\"text-align: right;\">\n",
       "      <th></th>\n",
       "      <th>trip_distance</th>\n",
       "      <th>fare_amount</th>\n",
       "      <th>tolls_amount</th>\n",
       "      <th>tip_amount</th>\n",
       "    </tr>\n",
       "    <tr>\n",
       "      <th>dropoff</th>\n",
       "      <th></th>\n",
       "      <th></th>\n",
       "      <th></th>\n",
       "      <th></th>\n",
       "    </tr>\n",
       "  </thead>\n",
       "  <tbody>\n",
       "    <tr>\n",
       "      <th>2019-10-23 16:00:00</th>\n",
       "      <td>10676.95</td>\n",
       "      <td>67797.76</td>\n",
       "      <td>699.04</td>\n",
       "      <td>12228.64</td>\n",
       "    </tr>\n",
       "    <tr>\n",
       "      <th>2019-10-23 17:00:00</th>\n",
       "      <td>16052.83</td>\n",
       "      <td>70131.91</td>\n",
       "      <td>4044.04</td>\n",
       "      <td>12044.03</td>\n",
       "    </tr>\n",
       "    <tr>\n",
       "      <th>2019-10-23 18:00:00</th>\n",
       "      <td>3104.56</td>\n",
       "      <td>11565.56</td>\n",
       "      <td>1454.67</td>\n",
       "      <td>1907.64</td>\n",
       "    </tr>\n",
       "    <tr>\n",
       "      <th>2019-10-23 15:00:00</th>\n",
       "      <td>14.34</td>\n",
       "      <td>213.50</td>\n",
       "      <td>0.00</td>\n",
       "      <td>51.75</td>\n",
       "    </tr>\n",
       "    <tr>\n",
       "      <th>2019-10-23 19:00:00</th>\n",
       "      <td>98.59</td>\n",
       "      <td>268.00</td>\n",
       "      <td>24.48</td>\n",
       "      <td>25.74</td>\n",
       "    </tr>\n",
       "  </tbody>\n",
       "</table>\n",
       "</div>"
      ],
      "text/plain": [
       "                     trip_distance  fare_amount  tolls_amount  tip_amount\n",
       "dropoff                                                                  \n",
       "2019-10-23 16:00:00       10676.95     67797.76        699.04    12228.64\n",
       "2019-10-23 17:00:00       16052.83     70131.91       4044.04    12044.03\n",
       "2019-10-23 18:00:00        3104.56     11565.56       1454.67     1907.64\n",
       "2019-10-23 15:00:00          14.34       213.50          0.00       51.75\n",
       "2019-10-23 19:00:00          98.59       268.00         24.48       25.74"
      ]
     },
     "execution_count": 54,
     "metadata": {},
     "output_type": "execute_result"
    }
   ],
   "source": [
    "taxis.resample('1H')[[\n",
    "    'trip_distance', 'fare_amount', 'tolls_amount', 'tip_amount'\n",
    "]].sum().nlargest(5, 'tip_amount')"
   ]
  },
  {
   "cell_type": "markdown",
   "id": "71cbab3e-e8f5-48a6-8520-5f9412ff7300",
   "metadata": {
    "slideshow": {
     "slide_type": "slide"
    },
    "tags": []
   },
   "source": [
    "## Section 2 Complete 🎉\n",
    "\n",
    "<img width=\"300\" src=\"https://www.pngkey.com/png/detail/129-1298535_panda-bear-images-cartoon-cute-panda-bear.png\" alt=\"Panda Bear Images - Cartoon Cute Panda Bear@pngkey.com\">"
   ]
  }
 ],
 "metadata": {
  "kernelspec": {
   "display_name": "Python 3 (ipykernel)",
   "language": "python",
   "name": "python3"
  },
  "language_info": {
   "codemirror_mode": {
    "name": "ipython",
    "version": 3
   },
   "file_extension": ".py",
   "mimetype": "text/x-python",
   "name": "python",
   "nbconvert_exporter": "python",
   "pygments_lexer": "ipython3",
   "version": "3.8.12"
  }
 },
 "nbformat": 4,
 "nbformat_minor": 5
}
